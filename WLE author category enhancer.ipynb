{
 "cells": [
  {
   "cell_type": "code",
   "execution_count": 1,
   "metadata": {
    "collapsed": true
   },
   "outputs": [],
   "source": [
    "#!/usr/bin/python\n",
    "# -*- coding: latin-1 -*-\n",
    "\"\"\"\n",
    "This notebook adds the WLE per contributor category to all the files in the\n",
    "WLE_CATEGORY category. It does not include the {{see also}} templates.\n",
    "\"\"\"\n",
    "import os, sys, inspect\n",
    "\n",
    "current_folder = os.path.realpath(os.path.abspath(os.path.split(inspect.getfile(inspect.currentframe()))[0]))\n",
    "folder_parts = current_folder.split(os.sep)\n",
    "pywikibot_folder = os.sep.join(folder_parts[0:-1])\n",
    "\n",
    "if current_folder not in sys.path:\n",
    "    sys.path.insert(0, current_folder)\n",
    "if pywikibot_folder not in sys.path:\n",
    "    sys.path.insert(0, pywikibot_folder)\n",
    "\n",
    "import pywikibot as pb\n",
    "from pywikibot import pagegenerators, textlib\n",
    "from StringIO import StringIO\n",
    "import mwparserfromhell as mwh\n",
    "import pandas as pd"
   ]
  },
  {
   "cell_type": "code",
   "execution_count": 2,
   "metadata": {
    "collapsed": true
   },
   "outputs": [],
   "source": [
    "WLE_CATEGORY = u\"Category:Images from Wiki Loves Earth 2017 in Spain\"\n",
    "\n",
    "commons_site = pb.Site(\"commons\", \"commons\")"
   ]
  },
  {
   "cell_type": "code",
   "execution_count": 3,
   "metadata": {
    "collapsed": false
   },
   "outputs": [
    {
     "name": "stderr",
     "output_type": "stream",
     "text": [
      "WARNING: c:\\users\\miguel-angel monjas\\miniconda2\\lib\\site-packages\\ipykernel\\__main__.py:5: DeprecationWarning: pywikibot.page.BasePage.isImage is deprecated; use is_filepage instead.\n",
      "\n"
     ]
    }
   ],
   "source": [
    "# Retrieving list of images\n",
    "cat_wle = pb.Category(commons_site, WLE_CATEGORY)\n",
    "gen_wle = pagegenerators.CategorizedPageGenerator(cat_wle)\n",
    "\n",
    "images_wle = [page.title(withNamespace=True) for page in gen_wle if page.isImage()]"
   ]
  },
  {
   "cell_type": "code",
   "execution_count": 14,
   "metadata": {
    "collapsed": false
   },
   "outputs": [
    {
     "name": "stderr",
     "output_type": "stream",
     "text": [
      "Retrieving --> 50 image descriptions downloaded\n",
      "Retrieving --> 100 image descriptions downloaded\n",
      "Retrieving --> 150 image descriptions downloaded\n",
      "Retrieving --> 200 image descriptions downloaded\n"
     ]
    },
    {
     "name": "stdout",
     "output_type": "stream",
     "text": [
      "Not found\n"
     ]
    },
    {
     "name": "stderr",
     "output_type": "stream",
     "text": [
      "Page [[File:Begoña22.jpg]] saved\n"
     ]
    },
    {
     "name": "stdout",
     "output_type": "stream",
     "text": [
      "Not found\n"
     ]
    },
    {
     "name": "stderr",
     "output_type": "stream",
     "text": [
      "Page [[File:Bojurec.jpg]] saved\n"
     ]
    },
    {
     "name": "stdout",
     "output_type": "stream",
     "text": [
      "Not found\n"
     ]
    },
    {
     "name": "stderr",
     "output_type": "stream",
     "text": [
      "Sleeping for 8.6 seconds, 2017-06-09 15:10:47\n",
      "Page [[File:Bojurec22.08.2009 006(1).jpg]] saved\n",
      "Retrieving --> 250 image descriptions downloaded\n"
     ]
    },
    {
     "name": "stdout",
     "output_type": "stream",
     "text": [
      "Not found\n"
     ]
    },
    {
     "name": "stderr",
     "output_type": "stream",
     "text": [
      "Page [[File:Cabo Prior 13IV2017 01.jpg]] saved\n"
     ]
    },
    {
     "name": "stdout",
     "output_type": "stream",
     "text": [
      "Not found\n"
     ]
    },
    {
     "name": "stderr",
     "output_type": "stream",
     "text": [
      "Sleeping for 8.9 seconds, 2017-06-09 15:11:18\n",
      "Page [[File:Cabo Prior 13IV2017 02.jpg]] saved\n"
     ]
    },
    {
     "name": "stdout",
     "output_type": "stream",
     "text": [
      "Not found\n"
     ]
    },
    {
     "name": "stderr",
     "output_type": "stream",
     "text": [
      "Sleeping for 8.7 seconds, 2017-06-09 15:11:28\n",
      "Page [[File:Cabo Prior 13IV2017 03.jpg]] saved\n"
     ]
    },
    {
     "name": "stdout",
     "output_type": "stream",
     "text": [
      "Not found\n"
     ]
    },
    {
     "name": "stderr",
     "output_type": "stream",
     "text": [
      "Sleeping for 8.9 seconds, 2017-06-09 15:11:38\n",
      "Page [[File:Cabo Prior 13IV2017 04.jpg]] saved\n"
     ]
    },
    {
     "name": "stdout",
     "output_type": "stream",
     "text": [
      "Not found\n"
     ]
    },
    {
     "name": "stderr",
     "output_type": "stream",
     "text": [
      "Sleeping for 8.9 seconds, 2017-06-09 15:11:48\n",
      "Page [[File:Cabo Prior 13IV2017 05.jpg]] saved\n"
     ]
    },
    {
     "name": "stdout",
     "output_type": "stream",
     "text": [
      "Not found\n"
     ]
    },
    {
     "name": "stderr",
     "output_type": "stream",
     "text": [
      "Sleeping for 8.5 seconds, 2017-06-09 15:11:59\n",
      "Page [[File:Cabo Prior 13IV2017 06.jpg]] saved\n"
     ]
    },
    {
     "name": "stdout",
     "output_type": "stream",
     "text": [
      "Not found\n"
     ]
    },
    {
     "name": "stderr",
     "output_type": "stream",
     "text": [
      "Sleeping for 8.5 seconds, 2017-06-09 15:12:09\n",
      "Page [[File:Cabo Prior 13IV2017 07.jpg]] saved\n"
     ]
    },
    {
     "name": "stdout",
     "output_type": "stream",
     "text": [
      "Not found\n"
     ]
    },
    {
     "name": "stderr",
     "output_type": "stream",
     "text": [
      "Sleeping for 9.0 seconds, 2017-06-09 15:12:18\n",
      "Page [[File:Cabo Prior 13IV2017 08.jpg]] saved\n"
     ]
    },
    {
     "name": "stdout",
     "output_type": "stream",
     "text": [
      "Not found\n"
     ]
    },
    {
     "name": "stderr",
     "output_type": "stream",
     "text": [
      "Sleeping for 8.2 seconds, 2017-06-09 15:12:29\n",
      "Page [[File:Cabo Prior 13IV2017 09.jpg]] saved\n"
     ]
    },
    {
     "name": "stdout",
     "output_type": "stream",
     "text": [
      "Not found\n"
     ]
    },
    {
     "name": "stderr",
     "output_type": "stream",
     "text": [
      "Sleeping for 8.9 seconds, 2017-06-09 15:12:38\n",
      "Page [[File:Cabo Prior 13IV2017 10.jpg]] saved\n"
     ]
    },
    {
     "name": "stdout",
     "output_type": "stream",
     "text": [
      "Not found\n"
     ]
    },
    {
     "name": "stderr",
     "output_type": "stream",
     "text": [
      "Sleeping for 8.7 seconds, 2017-06-09 15:12:48\n",
      "Page [[File:Cabo Prior 13IV2017 11.jpg]] saved\n"
     ]
    },
    {
     "name": "stdout",
     "output_type": "stream",
     "text": [
      "Not found\n"
     ]
    },
    {
     "name": "stderr",
     "output_type": "stream",
     "text": [
      "Sleeping for 8.8 seconds, 2017-06-09 15:12:58\n",
      "Page [[File:Cabo Prior 13IV2017 12.jpg]] saved\n"
     ]
    },
    {
     "name": "stdout",
     "output_type": "stream",
     "text": [
      "Not found\n"
     ]
    },
    {
     "name": "stderr",
     "output_type": "stream",
     "text": [
      "Sleeping for 8.5 seconds, 2017-06-09 15:13:09\n",
      "Page [[File:Cabo Prior 13IV2017 13.jpg]] saved\n"
     ]
    },
    {
     "name": "stdout",
     "output_type": "stream",
     "text": [
      "Not found\n"
     ]
    },
    {
     "name": "stderr",
     "output_type": "stream",
     "text": [
      "Sleeping for 8.1 seconds, 2017-06-09 15:13:19\n",
      "Page [[File:Cabo Prior 13IV2017 14.jpg]] saved\n"
     ]
    },
    {
     "name": "stdout",
     "output_type": "stream",
     "text": [
      "Not found\n"
     ]
    },
    {
     "name": "stderr",
     "output_type": "stream",
     "text": [
      "Sleeping for 9.0 seconds, 2017-06-09 15:13:28\n",
      "Page [[File:Cabo Prior 13IV2017 15.jpg]] saved\n",
      "Retrieving --> 300 image descriptions downloaded\n",
      "Retrieving --> 350 image descriptions downloaded\n"
     ]
    },
    {
     "name": "stdout",
     "output_type": "stream",
     "text": [
      "Not found\n"
     ]
    },
    {
     "name": "stderr",
     "output_type": "stream",
     "text": [
      "Page [[File:Canóns do Sil 25III2017 01.jpg]] saved\n"
     ]
    },
    {
     "name": "stdout",
     "output_type": "stream",
     "text": [
      "Not found\n"
     ]
    },
    {
     "name": "stderr",
     "output_type": "stream",
     "text": [
      "Sleeping for 8.7 seconds, 2017-06-09 15:14:24\n",
      "Page [[File:Canóns do Sil 25III2017 02.jpg]] saved\n"
     ]
    },
    {
     "name": "stdout",
     "output_type": "stream",
     "text": [
      "Not found\n"
     ]
    },
    {
     "name": "stderr",
     "output_type": "stream",
     "text": [
      "Sleeping for 8.9 seconds, 2017-06-09 15:14:34\n",
      "Page [[File:Canóns do Sil 25III2017 03.jpg]] saved\n"
     ]
    },
    {
     "name": "stdout",
     "output_type": "stream",
     "text": [
      "Not found\n"
     ]
    },
    {
     "name": "stderr",
     "output_type": "stream",
     "text": [
      "Sleeping for 8.3 seconds, 2017-06-09 15:14:45\n",
      "Page [[File:Canóns do Sil 25III2017 04.jpg]] saved\n",
      "Retrieving --> 400 image descriptions downloaded\n"
     ]
    },
    {
     "name": "stdout",
     "output_type": "stream",
     "text": [
      "Not found\n"
     ]
    },
    {
     "name": "stderr",
     "output_type": "stream",
     "text": [
      "Sleeping for 4.3 seconds, 2017-06-09 15:14:59\n",
      "Page [[File:Carnota 16VIII2016 01.jpg]] saved\n"
     ]
    },
    {
     "name": "stdout",
     "output_type": "stream",
     "text": [
      "Not found\n"
     ]
    },
    {
     "name": "stderr",
     "output_type": "stream",
     "text": [
      "Sleeping for 6.9 seconds, 2017-06-09 15:15:06\n",
      "Page [[File:Carnota 16VIII2016 02.jpg]] saved\n"
     ]
    },
    {
     "name": "stdout",
     "output_type": "stream",
     "text": [
      "Not found\n"
     ]
    },
    {
     "name": "stderr",
     "output_type": "stream",
     "text": [
      "Sleeping for 9.0 seconds, 2017-06-09 15:15:14\n",
      "Page [[File:Carnota 16VIII2016 03.jpg]] saved\n",
      "Retrieving --> 450 image descriptions downloaded\n"
     ]
    },
    {
     "name": "stdout",
     "output_type": "stream",
     "text": [
      "Not found\n"
     ]
    },
    {
     "name": "stderr",
     "output_type": "stream",
     "text": [
      "Page [[File:Catedrais 4VI2016 01.jpg]] saved\n"
     ]
    },
    {
     "name": "stdout",
     "output_type": "stream",
     "text": [
      "Not found\n"
     ]
    },
    {
     "name": "stderr",
     "output_type": "stream",
     "text": [
      "Sleeping for 8.8 seconds, 2017-06-09 15:15:45\n",
      "Page [[File:Catedrais 4VI2016 02.jpg]] saved\n"
     ]
    },
    {
     "name": "stdout",
     "output_type": "stream",
     "text": [
      "Not found\n"
     ]
    },
    {
     "name": "stderr",
     "output_type": "stream",
     "text": [
      "Sleeping for 8.9 seconds, 2017-06-09 15:15:55\n",
      "Page [[File:Catedrais 4VI2016 03.jpg]] saved\n"
     ]
    },
    {
     "name": "stdout",
     "output_type": "stream",
     "text": [
      "Not found\n"
     ]
    },
    {
     "name": "stderr",
     "output_type": "stream",
     "text": [
      "Sleeping for 8.9 seconds, 2017-06-09 15:16:05\n",
      "Page [[File:Catedrais 4VI2016 04.jpg]] saved\n"
     ]
    },
    {
     "name": "stdout",
     "output_type": "stream",
     "text": [
      "Not found\n"
     ]
    },
    {
     "name": "stderr",
     "output_type": "stream",
     "text": [
      "Sleeping for 8.7 seconds, 2017-06-09 15:16:15\n",
      "Page [[File:Catedrais 5VI2016 01.jpg]] saved\n"
     ]
    },
    {
     "name": "stdout",
     "output_type": "stream",
     "text": [
      "Not found\n"
     ]
    },
    {
     "name": "stderr",
     "output_type": "stream",
     "text": [
      "Sleeping for 9.0 seconds, 2017-06-09 15:16:25\n",
      "Page [[File:Catedrais 5VI2016 02.jpg]] saved\n",
      "Retrieving --> 500 image descriptions downloaded\n",
      "Sleeping for 7.0 seconds, 2017-06-09 15:17:05\n",
      "Retrieving --> 550 image descriptions downloaded\n",
      "Retrieving --> 600 image descriptions downloaded\n"
     ]
    },
    {
     "name": "stdout",
     "output_type": "stream",
     "text": [
      "Not found\n"
     ]
    },
    {
     "name": "stderr",
     "output_type": "stream",
     "text": [
      "Page [[File:Cíes dende Monte do Castro 29VIII2016 01.jpg]] saved\n"
     ]
    },
    {
     "name": "stdout",
     "output_type": "stream",
     "text": [
      "Not found\n"
     ]
    },
    {
     "name": "stderr",
     "output_type": "stream",
     "text": [
      "Sleeping for 8.6 seconds, 2017-06-09 15:18:02\n",
      "Page [[File:Cíes dende Monte do Castro 29VIII2016 02.jpg]] saved\n"
     ]
    },
    {
     "name": "stdout",
     "output_type": "stream",
     "text": [
      "Not found\n"
     ]
    },
    {
     "name": "stderr",
     "output_type": "stream",
     "text": [
      "Sleeping for 9.0 seconds, 2017-06-09 15:18:11\n",
      "Page [[File:Cíes dende Monte do Castro 29VIII2016 03.jpg]] saved\n",
      "Retrieving --> 650 image descriptions downloaded\n",
      "Retrieving --> 700 image descriptions downloaded\n",
      "Retrieving --> 750 image descriptions downloaded\n"
     ]
    },
    {
     "name": "stdout",
     "output_type": "stream",
     "text": [
      "Not found\n"
     ]
    },
    {
     "name": "stderr",
     "output_type": "stream",
     "text": [
      "Page [[File:Encoro de Barrié de la Maza 27I2017.jpg]] saved\n",
      "Retrieving --> 800 image descriptions downloaded\n",
      "Retrieving --> 850 image descriptions downloaded\n",
      "Retrieving --> 900 image descriptions downloaded\n",
      "Retrieving --> 950 image descriptions downloaded\n",
      "Retrieving --> 1000 image descriptions downloaded\n",
      "Retrieving --> 1050 image descriptions downloaded\n",
      "Retrieving --> 1100 image descriptions downloaded\n",
      "Retrieving --> 1150 image descriptions downloaded\n",
      "Retrieving --> 1200 image descriptions downloaded\n",
      "Retrieving --> 1250 image descriptions downloaded\n",
      "Retrieving --> 1300 image descriptions downloaded\n"
     ]
    },
    {
     "name": "stdout",
     "output_type": "stream",
     "text": [
      "Not found\n"
     ]
    },
    {
     "name": "stderr",
     "output_type": "stream",
     "text": [
      "Page [[File:Mariña Occidental 5VI2016 01.jpg]] saved\n"
     ]
    },
    {
     "name": "stdout",
     "output_type": "stream",
     "text": [
      "Not found\n"
     ]
    },
    {
     "name": "stderr",
     "output_type": "stream",
     "text": [
      "Sleeping for 8.9 seconds, 2017-06-09 15:23:04\n",
      "Page [[File:Mariña Occidental 5VI2016 02.jpg]] saved\n"
     ]
    },
    {
     "name": "stdout",
     "output_type": "stream",
     "text": [
      "Not found\n"
     ]
    },
    {
     "name": "stderr",
     "output_type": "stream",
     "text": [
      "Sleeping for 8.9 seconds, 2017-06-09 15:23:14\n",
      "Page [[File:Mariña Occidental 5VI2016 03.jpg]] saved\n"
     ]
    },
    {
     "name": "stdout",
     "output_type": "stream",
     "text": [
      "Not found\n"
     ]
    },
    {
     "name": "stderr",
     "output_type": "stream",
     "text": [
      "Sleeping for 8.4 seconds, 2017-06-09 15:23:25\n",
      "Page [[File:Mariña Occidental 5VI2016 04.jpg]] saved\n"
     ]
    },
    {
     "name": "stdout",
     "output_type": "stream",
     "text": [
      "Not found\n"
     ]
    },
    {
     "name": "stderr",
     "output_type": "stream",
     "text": [
      "Sleeping for 7.6 seconds, 2017-06-09 15:23:36\n",
      "Page [[File:Mariña Occidental 5VI2016 05.jpg]] saved\n"
     ]
    },
    {
     "name": "stdout",
     "output_type": "stream",
     "text": [
      "Not found\n"
     ]
    },
    {
     "name": "stderr",
     "output_type": "stream",
     "text": [
      "Sleeping for 8.8 seconds, 2017-06-09 15:23:44\n",
      "Page [[File:Mariña Occidental 5VI2016 06.jpg]] saved\n"
     ]
    },
    {
     "name": "stdout",
     "output_type": "stream",
     "text": [
      "Not found\n"
     ]
    },
    {
     "name": "stderr",
     "output_type": "stream",
     "text": [
      "Sleeping for 8.6 seconds, 2017-06-09 15:23:55\n",
      "Page [[File:Mariña Occidental 5VI2016 07.jpg]] saved\n",
      "Retrieving --> 1350 image descriptions downloaded\n",
      "Retrieving --> 1400 image descriptions downloaded\n",
      "Retrieving --> 1450 image descriptions downloaded\n",
      "Retrieving --> 1500 image descriptions downloaded\n"
     ]
    },
    {
     "name": "stdout",
     "output_type": "stream",
     "text": [
      "Not found\n"
     ]
    },
    {
     "name": "stderr",
     "output_type": "stream",
     "text": [
      "Page [[File:O Pedrido 13IV2017 01.jpg]] saved\n"
     ]
    },
    {
     "name": "stdout",
     "output_type": "stream",
     "text": [
      "Not found\n"
     ]
    },
    {
     "name": "stderr",
     "output_type": "stream",
     "text": [
      "Sleeping for 8.9 seconds, 2017-06-09 15:25:30\n",
      "Page [[File:O Pedrido 13IV2017 02.jpg]] saved\n"
     ]
    },
    {
     "name": "stdout",
     "output_type": "stream",
     "text": [
      "Not found\n"
     ]
    },
    {
     "name": "stderr",
     "output_type": "stream",
     "text": [
      "Page [[File:Ortigueira 17VII2016.jpg]] saved\n"
     ]
    },
    {
     "name": "stdout",
     "output_type": "stream",
     "text": [
      "Not found\n"
     ]
    },
    {
     "name": "stderr",
     "output_type": "stream",
     "text": [
      "Sleeping for 8.8 seconds, 2017-06-09 15:25:52\n",
      "Page [[File:Ortigueira 29VIII2016 01.jpg]] saved\n",
      "Retrieving --> 1550 image descriptions downloaded\n"
     ]
    },
    {
     "name": "stdout",
     "output_type": "stream",
     "text": [
      "Not found\n"
     ]
    },
    {
     "name": "stderr",
     "output_type": "stream",
     "text": [
      "Sleeping for 8.7 seconds, 2017-06-09 15:26:02\n",
      "Page [[File:Ortigueira 29VIII2016 02.jpg]] saved\n",
      "Retrieving --> 1600 image descriptions downloaded\n",
      "Retrieving --> 1650 image descriptions downloaded\n"
     ]
    },
    {
     "name": "stdout",
     "output_type": "stream",
     "text": [
      "Not found\n"
     ]
    },
    {
     "name": "stderr",
     "output_type": "stream",
     "text": [
      "Page [[File:Paxareiras.jpg]] saved\n",
      "Retrieving --> 1700 image descriptions downloaded\n",
      "Retrieving --> 1750 image descriptions downloaded\n",
      "Retrieving --> 1800 image descriptions downloaded\n",
      "Retrieving --> 1850 image descriptions downloaded\n"
     ]
    },
    {
     "name": "stdout",
     "output_type": "stream",
     "text": [
      "Not found\n"
     ]
    },
    {
     "name": "stderr",
     "output_type": "stream",
     "text": [
      "Page [[File:Punta Corveira.jpg]] saved\n",
      "Retrieving --> 1900 image descriptions downloaded\n",
      "Retrieving --> 1950 image descriptions downloaded\n",
      "Retrieving --> 2000 image descriptions downloaded\n",
      "Sleeping for 5.0 seconds, 2017-06-09 15:29:26\n",
      "Retrieving --> 2050 image descriptions downloaded\n",
      "Retrieving --> 2100 image descriptions downloaded\n",
      "Retrieving --> 2150 image descriptions downloaded\n",
      "Retrieving --> 2200 image descriptions downloaded\n",
      "Retrieving --> 2250 image descriptions downloaded\n",
      "Retrieving --> 2300 image descriptions downloaded\n",
      "Retrieving --> 2350 image descriptions downloaded\n"
     ]
    },
    {
     "name": "stdout",
     "output_type": "stream",
     "text": [
      "Not found\n"
     ]
    },
    {
     "name": "stderr",
     "output_type": "stream",
     "text": [
      "Page [[File:Valdoviño 16X2016 01.jpg]] saved\n"
     ]
    },
    {
     "name": "stdout",
     "output_type": "stream",
     "text": [
      "Not found\n"
     ]
    },
    {
     "name": "stderr",
     "output_type": "stream",
     "text": [
      "Sleeping for 9.0 seconds, 2017-06-09 15:31:49\n",
      "Page [[File:Valdoviño 16X2016 02.jpg]] saved\n"
     ]
    },
    {
     "name": "stdout",
     "output_type": "stream",
     "text": [
      "Not found\n"
     ]
    },
    {
     "name": "stderr",
     "output_type": "stream",
     "text": [
      "Sleeping for 8.8 seconds, 2017-06-09 15:31:59\n",
      "Page [[File:Valdoviño 16X2016 03.jpg]] saved\n"
     ]
    },
    {
     "name": "stdout",
     "output_type": "stream",
     "text": [
      "Not found\n"
     ]
    },
    {
     "name": "stderr",
     "output_type": "stream",
     "text": [
      "Sleeping for 9.0 seconds, 2017-06-09 15:32:09\n",
      "Page [[File:Valdoviño 16X2016 04.jpg]] saved\n"
     ]
    },
    {
     "name": "stdout",
     "output_type": "stream",
     "text": [
      "Not found\n"
     ]
    },
    {
     "name": "stderr",
     "output_type": "stream",
     "text": [
      "Sleeping for 8.9 seconds, 2017-06-09 15:32:19\n",
      "Page [[File:Valdoviño 16X2016 05.jpg]] saved\n"
     ]
    },
    {
     "name": "stdout",
     "output_type": "stream",
     "text": [
      "Not found\n"
     ]
    },
    {
     "name": "stderr",
     "output_type": "stream",
     "text": [
      "Sleeping for 8.9 seconds, 2017-06-09 15:32:29\n",
      "Page [[File:Valdoviño 16X2017 06.jpg]] saved\n"
     ]
    },
    {
     "name": "stdout",
     "output_type": "stream",
     "text": [
      "Not found\n"
     ]
    },
    {
     "name": "stderr",
     "output_type": "stream",
     "text": [
      "Sleeping for 8.8 seconds, 2017-06-09 15:32:39\n",
      "Page [[File:Valdoviño 16X2017 07.jpg]] saved\n",
      "Retrieving --> 2400 image descriptions downloaded\n"
     ]
    },
    {
     "name": "stdout",
     "output_type": "stream",
     "text": [
      "Not found\n"
     ]
    },
    {
     "name": "stderr",
     "output_type": "stream",
     "text": [
      "Page [[File:Vistas de Mera 28III2017.jpg]] saved\n",
      "Retrieving --> 2450 image descriptions downloaded\n"
     ]
    }
   ],
   "source": [
    "for index, image in enumerate(images_wle):\n",
    "    page = pb.Page(commons_site, image)\n",
    "    if (index != 0) and (index % 50 == 0) :\n",
    "        pb.output ('Retrieving --> %d image descriptions downloaded' %(index))\n",
    "    author = page.oldest_revision[\"user\"]\n",
    "    text = page.text\n",
    "    cats = [cat.title() for cat in textlib.getCategoryLinks(text)]\n",
    "    author_category = u'Category:Images from Wiki Loves Earth 2017 in Spain by {0}'.format(author)\n",
    "    author_category_string = u'\\n[[{0}]]'.format(author_category)\n",
    "    if author_category in cats:\n",
    "        continue\n",
    "    page.text = text + author_category_string\n",
    "    page.save(\"WLE Spain 2017: user category management\")"
   ]
  },
  {
   "cell_type": "code",
   "execution_count": null,
   "metadata": {
    "collapsed": true
   },
   "outputs": [],
   "source": []
  }
 ],
 "metadata": {
  "kernelspec": {
   "display_name": "Python 2",
   "language": "python",
   "name": "python2"
  },
  "language_info": {
   "codemirror_mode": {
    "name": "ipython",
    "version": 2
   },
   "file_extension": ".py",
   "mimetype": "text/x-python",
   "name": "python",
   "nbconvert_exporter": "python",
   "pygments_lexer": "ipython2",
   "version": "2.7.12"
  }
 },
 "nbformat": 4,
 "nbformat_minor": 2
}
