{
 "cells": [
  {
   "cell_type": "code",
   "execution_count": 7,
   "metadata": {
    "collapsed": true
   },
   "outputs": [],
   "source": [
    "#!/usr/bin/python\n",
    "# -*- coding: latin-1 -*-\n",
    "\"\"\"\n",
    "This notebook generates the statistics for all WLE contests.\n",
    "\"\"\"\n",
    "import os, sys, inspect\n",
    "current_folder = os.path.realpath(os.path.abspath(os.path.split(inspect.getfile(inspect.currentframe()))[0]))\n",
    "folder_parts = current_folder.split(os.sep)\n",
    "pywikibot_folder = os.sep.join(folder_parts[0:-1])\n",
    "if current_folder not in sys.path:\n",
    "    sys.path.insert(0, current_folder)\n",
    "if pywikibot_folder not in sys.path:\n",
    "    sys.path.insert(0, pywikibot_folder)\n",
    "\n",
    "import pywikibot as pb\n",
    "from pywikibot import pagegenerators\n",
    "from pywikibot.specialbots import UploadRobot\n",
    "from StringIO import StringIO\n",
    "import mwparserfromhell as mwh\n",
    "from datetime import datetime\n",
    "import pandas as pd\n",
    "import numpy as np\n",
    "from urllib import urlencode, urlopen\n",
    "import json\n",
    "from random import sample\n",
    "import matplotlib.pyplot as plt\n",
    "import matplotlib.dates as mdates\n",
    "import seaborn as sns\n",
    "import io\n",
    "import time\n",
    "import csv\n",
    "from itertools import groupby\n",
    "from operator import itemgetter\n",
    "from mako.template import Template"
   ]
  },
  {
   "cell_type": "code",
   "execution_count": 8,
   "metadata": {
    "collapsed": true
   },
   "outputs": [],
   "source": [
    "sns.set_style(\"darkgrid\")\n",
    "%matplotlib inline"
   ]
  },
  {
   "cell_type": "code",
   "execution_count": 60,
   "metadata": {
    "collapsed": true
   },
   "outputs": [],
   "source": [
    "YEARS                       = [2015, 2016, 2017]\n",
    "BASE_WLE_NAME               = u\"Commons:Wiki Loves Earth {0} in Spain/Log\"\n",
    "\n",
    "commons_site = pb.Site(\"commons\", \"commons\")"
   ]
  },
  {
   "cell_type": "code",
   "execution_count": 61,
   "metadata": {
    "collapsed": false
   },
   "outputs": [],
   "source": [
    "images_df = pd.DataFrame(columns=['image_title', 'uploader', 'days_from_registration', 'year',\n",
    "                                   'code', 'name', 'community', 'commons_cat', \n",
    "                                   'lat', 'long'])"
   ]
  },
  {
   "cell_type": "code",
   "execution_count": 62,
   "metadata": {
    "collapsed": false
   },
   "outputs": [
    {
     "data": {
      "text/html": [
       "<div>\n",
       "<style>\n",
       "    .dataframe thead tr:only-child th {\n",
       "        text-align: right;\n",
       "    }\n",
       "\n",
       "    .dataframe thead th {\n",
       "        text-align: left;\n",
       "    }\n",
       "\n",
       "    .dataframe tbody tr th {\n",
       "        vertical-align: top;\n",
       "    }\n",
       "</style>\n",
       "<table border=\"1\" class=\"dataframe\">\n",
       "  <thead>\n",
       "    <tr style=\"text-align: right;\">\n",
       "      <th></th>\n",
       "      <th>image_title</th>\n",
       "      <th>uploader</th>\n",
       "      <th>days_from_registration</th>\n",
       "      <th>year</th>\n",
       "      <th>code</th>\n",
       "      <th>name</th>\n",
       "      <th>community</th>\n",
       "      <th>commons_cat</th>\n",
       "      <th>lat</th>\n",
       "      <th>long</th>\n",
       "    </tr>\n",
       "  </thead>\n",
       "  <tbody>\n",
       "  </tbody>\n",
       "</table>\n",
       "</div>"
      ],
      "text/plain": [
       "Empty DataFrame\n",
       "Columns: [image_title, uploader, days_from_registration, year, code, name, community, commons_cat, lat, long]\n",
       "Index: []"
      ]
     },
     "execution_count": 62,
     "metadata": {},
     "output_type": "execute_result"
    }
   ],
   "source": [
    "images_df.head()"
   ]
  },
  {
   "cell_type": "code",
   "execution_count": 64,
   "metadata": {
    "collapsed": false
   },
   "outputs": [
    {
     "name": "stderr",
     "output_type": "stream",
     "text": [
      "Retrieving --> WLE 2015 images list from cache\n",
      "Retrieved --> WLE 2015 image list from cache\n",
      "Retrieving --> WLE 2016 images list from cache\n",
      "Retrieved --> WLE 2016 image list from cache\n",
      "Retrieving --> WLE 2017 images list from cache\n",
      "Retrieved --> WLE 2017 image list from cache\n"
     ]
    }
   ],
   "source": [
    "for year in YEARS :\n",
    "    log_page = BASE_WLE_NAME.format(year)\n",
    "    list_page = pb.Page(commons_site, log_page)\n",
    "    \n",
    "    pb.output('Retrieving --> WLE {0} images list from cache'.format(year))\n",
    "    list_page_text = StringIO(list_page.text[list_page.text.find('\\n') + 1:list_page.text.rfind('\\n')])\n",
    "    _df = pd.read_csv(list_page_text,\n",
    "                        sep=\";\",\n",
    "                        index_col=False,\n",
    "                        names=['image_title', 'uploader', 'days_from_registration', \n",
    "                                'timestamp', 'code', 'name', 'community', 'commons_cat', \n",
    "                                'lat', 'long'],\n",
    "                        encoding='utf-8',\n",
    "                        quoting=csv.QUOTE_NONE)\n",
    "    _df[\"timestamp\"] = pd.to_datetime(_df[\"timestamp\"], format=\"%Y-%m-%d %H:%M:%S\")\n",
    "    _df.set_index([\"timestamp\"], inplace=True)\n",
    "    _df['code'].fillna(u'', inplace=True)\n",
    "    _df['name'].fillna(u'', inplace=True)\n",
    "    _df['community'].fillna(u'', inplace=True)\n",
    "    _df['lat'].fillna(0.0, inplace=True)\n",
    "    _df['long'].fillna(0.0, inplace=True)\n",
    "    del _df.index.name\n",
    "\n",
    "    _df = _df.loc[(_df.index > '{0}-04-30 23:59:59'.format(year)) & (_df.index < '{0}-06-01 01:00:00'.format(year))]\n",
    "    _df[\"year\"] = year\n",
    "    _df.head()\n",
    "    images_df = pd.concat([images_df, _df], ignore_index=False)\n",
    "    pb.output('Retrieved --> WLE {0} image list from cache'.format(year))"
   ]
  },
  {
   "cell_type": "code",
   "execution_count": 65,
   "metadata": {
    "collapsed": false
   },
   "outputs": [
    {
     "data": {
      "text/html": [
       "<div>\n",
       "<style>\n",
       "    .dataframe thead tr:only-child th {\n",
       "        text-align: right;\n",
       "    }\n",
       "\n",
       "    .dataframe thead th {\n",
       "        text-align: left;\n",
       "    }\n",
       "\n",
       "    .dataframe tbody tr th {\n",
       "        vertical-align: top;\n",
       "    }\n",
       "</style>\n",
       "<table border=\"1\" class=\"dataframe\">\n",
       "  <thead>\n",
       "    <tr style=\"text-align: right;\">\n",
       "      <th></th>\n",
       "      <th>code</th>\n",
       "      <th>commons_cat</th>\n",
       "      <th>community</th>\n",
       "      <th>days_from_registration</th>\n",
       "      <th>image_title</th>\n",
       "      <th>lat</th>\n",
       "      <th>long</th>\n",
       "      <th>name</th>\n",
       "      <th>uploader</th>\n",
       "      <th>year</th>\n",
       "    </tr>\n",
       "  </thead>\n",
       "  <tbody>\n",
       "    <tr>\n",
       "      <th>2015-05-03 12:36:37</th>\n",
       "      <td>ES6130002</td>\n",
       "      <td>Sierras Subbéticas Natural Park</td>\n",
       "      <td>Andalusia</td>\n",
       "      <td>28</td>\n",
       "      <td>\"Encina andante\". Parque Natural de la Subbéti...</td>\n",
       "      <td>37.425616</td>\n",
       "      <td>-4.314789</td>\n",
       "      <td>Sierra Subbética</td>\n",
       "      <td>Teckömo</td>\n",
       "      <td>2015</td>\n",
       "    </tr>\n",
       "    <tr>\n",
       "      <th>2015-05-09 12:54:58</th>\n",
       "      <td>ES1200001</td>\n",
       "      <td>Picos de Europa</td>\n",
       "      <td>Asturias</td>\n",
       "      <td>22</td>\n",
       "      <td>'Grasilla' (Pinguicula grandiflora) en la Send...</td>\n",
       "      <td>43.242800</td>\n",
       "      <td>-4.913300</td>\n",
       "      <td>Picos de Europa (Asturias)</td>\n",
       "      <td>ROSUROB</td>\n",
       "      <td>2015</td>\n",
       "    </tr>\n",
       "    <tr>\n",
       "      <th>2015-05-13 18:00:59</th>\n",
       "      <td>ES4320037</td>\n",
       "      <td>Sierra de Gata</td>\n",
       "      <td>Extremadura</td>\n",
       "      <td>18</td>\n",
       "      <td>(1) ABEJA LIBANDO FLOR DEL NARANJO EN EL CORRA...</td>\n",
       "      <td>40.273333</td>\n",
       "      <td>-6.645556</td>\n",
       "      <td>Sierra de Gata</td>\n",
       "      <td>JESUS SANCHEZ RODRIGUEZ</td>\n",
       "      <td>2015</td>\n",
       "    </tr>\n",
       "    <tr>\n",
       "      <th>2015-05-13 18:01:00</th>\n",
       "      <td>ES4320037</td>\n",
       "      <td>Sierra de Gata</td>\n",
       "      <td>Extremadura</td>\n",
       "      <td>18</td>\n",
       "      <td>(2) ABEJA LIBANDO FLOR DEL NARANJO EN EL CORRA...</td>\n",
       "      <td>40.273333</td>\n",
       "      <td>-6.645556</td>\n",
       "      <td>Sierra de Gata</td>\n",
       "      <td>JESUS SANCHEZ RODRIGUEZ</td>\n",
       "      <td>2015</td>\n",
       "    </tr>\n",
       "    <tr>\n",
       "      <th>2015-05-06 19:25:36</th>\n",
       "      <td>ES7010033</td>\n",
       "      <td>Jandía Natural Park</td>\n",
       "      <td>Canary Islands</td>\n",
       "      <td>1995</td>\n",
       "      <td>0004395970-original.jpg</td>\n",
       "      <td>28.116010</td>\n",
       "      <td>-14.338520</td>\n",
       "      <td>Jandía</td>\n",
       "      <td>Tamara k</td>\n",
       "      <td>2015</td>\n",
       "    </tr>\n",
       "  </tbody>\n",
       "</table>\n",
       "</div>"
      ],
      "text/plain": [
       "                          code                      commons_cat  \\\n",
       "2015-05-03 12:36:37  ES6130002  Sierras Subbéticas Natural Park   \n",
       "2015-05-09 12:54:58  ES1200001                  Picos de Europa   \n",
       "2015-05-13 18:00:59  ES4320037                   Sierra de Gata   \n",
       "2015-05-13 18:01:00  ES4320037                   Sierra de Gata   \n",
       "2015-05-06 19:25:36  ES7010033              Jandía Natural Park   \n",
       "\n",
       "                          community days_from_registration  \\\n",
       "2015-05-03 12:36:37       Andalusia                     28   \n",
       "2015-05-09 12:54:58        Asturias                     22   \n",
       "2015-05-13 18:00:59     Extremadura                     18   \n",
       "2015-05-13 18:01:00     Extremadura                     18   \n",
       "2015-05-06 19:25:36  Canary Islands                   1995   \n",
       "\n",
       "                                                           image_title  \\\n",
       "2015-05-03 12:36:37  \"Encina andante\". Parque Natural de la Subbéti...   \n",
       "2015-05-09 12:54:58  'Grasilla' (Pinguicula grandiflora) en la Send...   \n",
       "2015-05-13 18:00:59  (1) ABEJA LIBANDO FLOR DEL NARANJO EN EL CORRA...   \n",
       "2015-05-13 18:01:00  (2) ABEJA LIBANDO FLOR DEL NARANJO EN EL CORRA...   \n",
       "2015-05-06 19:25:36                            0004395970-original.jpg   \n",
       "\n",
       "                           lat       long                        name  \\\n",
       "2015-05-03 12:36:37  37.425616  -4.314789            Sierra Subbética   \n",
       "2015-05-09 12:54:58  43.242800  -4.913300  Picos de Europa (Asturias)   \n",
       "2015-05-13 18:00:59  40.273333  -6.645556              Sierra de Gata   \n",
       "2015-05-13 18:01:00  40.273333  -6.645556              Sierra de Gata   \n",
       "2015-05-06 19:25:36  28.116010 -14.338520                      Jandía   \n",
       "\n",
       "                                    uploader  year  \n",
       "2015-05-03 12:36:37                  Teckömo  2015  \n",
       "2015-05-09 12:54:58                  ROSUROB  2015  \n",
       "2015-05-13 18:00:59  JESUS SANCHEZ RODRIGUEZ  2015  \n",
       "2015-05-13 18:01:00  JESUS SANCHEZ RODRIGUEZ  2015  \n",
       "2015-05-06 19:25:36                 Tamara k  2015  "
      ]
     },
     "execution_count": 65,
     "metadata": {},
     "output_type": "execute_result"
    }
   ],
   "source": [
    "images_df.head()"
   ]
  },
  {
   "cell_type": "code",
   "execution_count": 184,
   "metadata": {
    "collapsed": false
   },
   "outputs": [],
   "source": [
    "columns = ['uploader']\n",
    "columns.extend([str(year) for year in YEARS])\n",
    "columns = ['total']\n",
    "\n",
    "images_per_upload_df = pd.DataFrame(columns=columns)\n",
    "\n",
    "ordered_uploaders = images_df.groupby([\"uploader\"])[\"image_title\"].agg('count').reset_index(name='count').sort_values(['count'], ascending=False)[\"uploader\"].tolist()\n",
    "grouped = images_df.groupby([\"uploader\"])\n",
    "\n",
    "for uploader in ordered_uploaders :\n",
    "    group = grouped.get_group(uploader)\n",
    "    yearly_grouped = group.groupby([\"year\"])\n",
    "    _dict = {'uploader': uploader}\n",
    "    _dict[\"total\"] = 0\n",
    "    for year in YEARS :\n",
    "        _dict[str(year)] = 0\n",
    "        try :\n",
    "            image_sum = len(yearly_grouped.get_group(year))\n",
    "            _dict[str(year)] = image_sum\n",
    "            _dict[\"total\"] += image_sum\n",
    "        except Exception as e:\n",
    "            pass\n",
    "    _df = pd.DataFrame([_dict])\n",
    "    images_per_upload_df = pd.concat([images_per_upload_df, _df])\n",
    "\n",
    "template = u\"\"\"{| align=right\n",
    "|[[File:WLE Austria Logo (transparent).svg|200px|link=]]\n",
    "|-\n",
    "| style=\"text-align:center; font-family:arial black; font-size:200%; color:grey\" | {{LangSwitch| es=España|ca=Espanya|en=Spain}}&nbsp;&nbsp;&nbsp;\n",
    "|}\n",
    "This page shows the statistics of the '''Wiki Loves Earth in Spain''' contest in all its editions. Two different sections are provided: number of uploaded images per contributors, and number of uploaded images per [[:en:Site of Community Importance|sites of community importance]].\n",
    "\n",
    "==Images per contributor==\n",
    "The collapsible section below shows the contributors and what they have provided in the two editions of WLE.\n",
    "\n",
    "{{Hidden|headerstyle=background:#ECECEC;|contentstyle=white;color:black|style=padding:2px |1=Show complete statistics.}}\n",
    "\n",
    "{| class=\"wikitable sortable\" style=\"width:60%; margin-left:20%; margin-right:20%; font-size:89%; margin-top:0.5em;\"\n",
    "|- valign=\"middle\"\n",
    "! style = \"width: 25%;\" | Author\n",
    "% for year in years:\n",
    "! style = \"width: 10%\\;\" | Images uploaded in ${year}<br/><small>total (from a SCI)</small>\n",
    "% endfor\n",
    "! style = \"width: 10%\\;\" | Images uploaded (total)\n",
    "% for _, row in images_df.iterrows() :\n",
    "|-\n",
    "% if \"flickr\" in row[\"uploader\"] :\n",
    "| [${row[\"uploader\"]}]\n",
    "% else :\n",
    "| {{u|${row[\"uploader\"]}}}\n",
    "% endif\n",
    "% for year in years :\n",
    "| align=\"center\" | ${int(row[str(year)])}\n",
    "% endfor\n",
    "| align=\"center\" | ${row[\"total\"]}\n",
    "% endfor\n",
    "|}\"\"\"\n",
    "vars = {\n",
    "    \"images_df\": images_per_upload_df,\n",
    "    \"years\": YEARS\n",
    "}\n",
    "t = Template(template)\n",
    "_text = t.render(**vars)"
   ]
  },
  {
   "cell_type": "code",
   "execution_count": 185,
   "metadata": {
    "collapsed": false
   },
   "outputs": [
    {
     "data": {
      "text/html": [
       "<div>\n",
       "<style>\n",
       "    .dataframe thead tr:only-child th {\n",
       "        text-align: right;\n",
       "    }\n",
       "\n",
       "    .dataframe thead th {\n",
       "        text-align: left;\n",
       "    }\n",
       "\n",
       "    .dataframe tbody tr th {\n",
       "        vertical-align: top;\n",
       "    }\n",
       "</style>\n",
       "<table border=\"1\" class=\"dataframe\">\n",
       "  <thead>\n",
       "    <tr style=\"text-align: right;\">\n",
       "      <th></th>\n",
       "      <th>2015</th>\n",
       "      <th>2016</th>\n",
       "      <th>2017</th>\n",
       "      <th>total</th>\n",
       "      <th>uploader</th>\n",
       "    </tr>\n",
       "  </thead>\n",
       "  <tbody>\n",
       "    <tr>\n",
       "      <th>0</th>\n",
       "      <td>594.0</td>\n",
       "      <td>0.0</td>\n",
       "      <td>0.0</td>\n",
       "      <td>594</td>\n",
       "      <td>https://www.flickr.com/people/10352740@N03 Tur...</td>\n",
       "    </tr>\n",
       "    <tr>\n",
       "      <th>0</th>\n",
       "      <td>0.0</td>\n",
       "      <td>482.0</td>\n",
       "      <td>54.0</td>\n",
       "      <td>536</td>\n",
       "      <td>Iagocasabiell</td>\n",
       "    </tr>\n",
       "    <tr>\n",
       "      <th>0</th>\n",
       "      <td>9.0</td>\n",
       "      <td>392.0</td>\n",
       "      <td>73.0</td>\n",
       "      <td>474</td>\n",
       "      <td>Discasto</td>\n",
       "    </tr>\n",
       "    <tr>\n",
       "      <th>0</th>\n",
       "      <td>244.0</td>\n",
       "      <td>0.0</td>\n",
       "      <td>123.0</td>\n",
       "      <td>367</td>\n",
       "      <td>Tanja 007</td>\n",
       "    </tr>\n",
       "    <tr>\n",
       "      <th>0</th>\n",
       "      <td>0.0</td>\n",
       "      <td>342.0</td>\n",
       "      <td>0.0</td>\n",
       "      <td>342</td>\n",
       "      <td>Efra33</td>\n",
       "    </tr>\n",
       "  </tbody>\n",
       "</table>\n",
       "</div>"
      ],
      "text/plain": [
       "    2015   2016   2017 total  \\\n",
       "0  594.0    0.0    0.0   594   \n",
       "0    0.0  482.0   54.0   536   \n",
       "0    9.0  392.0   73.0   474   \n",
       "0  244.0    0.0  123.0   367   \n",
       "0    0.0  342.0    0.0   342   \n",
       "\n",
       "                                            uploader  \n",
       "0  https://www.flickr.com/people/10352740@N03 Tur...  \n",
       "0                                      Iagocasabiell  \n",
       "0                                           Discasto  \n",
       "0                                          Tanja 007  \n",
       "0                                             Efra33  "
      ]
     },
     "execution_count": 185,
     "metadata": {},
     "output_type": "execute_result"
    }
   ],
   "source": [
    "images_per_upload_df.head()"
   ]
  },
  {
   "cell_type": "code",
   "execution_count": 186,
   "metadata": {
    "collapsed": false
   },
   "outputs": [
    {
     "data": {
      "text/plain": [
       "u'{| align=right\\n|[[File:WLE Austria Logo (transparent).svg|200px|link=]]\\n|-\\n| style=\"text-align:center; font-family:arial black; font-size:200%; color:grey\" | {{LangSwitch| es=Espa\\xf1a|ca=Espanya|en=Spain}}&nbsp;&nbsp;&nbsp;\\n|}\\nThis page shows the statistics of the \\'\\'\\'Wiki Loves Earth in Spain\\'\\'\\' contest in all its editions. Two different sections are provided: number of uploaded images per contributors, and number of uploaded images per [[:en:Site of Community Importance|sites of community importance]].\\n\\n==Images per contributor==\\nThe collapsible section below shows the contributors and what they have provided in the two editions of WLE.\\n\\n{{Hidden|headerstyle=background:#ECECEC;|contentstyle=white;color:black|style=padding:2px |1=Show complete statistics.}}\\n\\n{| class=\"wikitable sortable\" style=\"width:60%; margin-left:20%; margin-right:20%; font-size:89%; margin-top:0.5em;\"\\n|- valign=\"middle\"\\n! style = \"width: 25%;\" | Author\\n! style = \"width: 10%\\\\;\" | Images uploaded in 2015<br/><small>total (from a SCI)</small>\\n! style = \"width: 10%\\\\;\" | Images uploaded in 2016<br/><small>total (from a SCI)</small>\\n! style = \"width: 10%\\\\;\" | Images uploaded in 2017<br/><small>total (from a SCI)</small>\\n! style = \"width: 10%\\\\;\" | Images uploaded (total)\\n|-\\n| [https://www.flickr.com/people/10352740@N03 Turol Jones, un artista de cojones]\\n| align=\"center\" | 594\\n| align=\"center\" | 0\\n| align=\"center\" | 0\\n| align=\"center\" | 594\\n|-\\n| {{u|Iagocasabiell}}\\n| align=\"center\" | 0\\n| align=\"center\" | 482\\n| align=\"center\" | 54\\n| align=\"center\" | 536\\n|-\\n| {{u|Discasto}}\\n| align=\"center\" | 9\\n| align=\"center\" | 392\\n| align=\"center\" | 73\\n| align=\"center\" | 474\\n|-\\n| {{u|Tanja 007}}\\n| align=\"center\" | 244\\n| align=\"center\" | 0\\n| align=\"center\" | 123\\n| align=\"center\" | 367\\n|-\\n| {{u|Efra33}}\\n| align=\"center\" | 0\\n| align=\"center\" | 342\\n| align=\"center\" | 0\\n| align=\"center\" | 342\\n|-\\n| {{u|Millars}}\\n| align=\"center\" | 209\\n| align=\"center\" | 62\\n| align=\"center\" | 0\\n| align=\"center\" | 271\\n|-\\n| {{u|Aglaya72}}\\n| align=\"center\" | 75\\n| align=\"center\" | 64\\n| align=\"center\" | 64\\n| align=\"center\" | 203\\n|-\\n| {{u|Fedoce1}}\\n| align=\"center\" | 0\\n| align=\"center\" | 0\\n| align=\"center\" | 192\\n| align=\"center\" | 192\\n|-\\n| {{u|Enric}}\\n| align=\"center\" | 0\\n| align=\"center\" | 182\\n| align=\"center\" | 0\\n| align=\"center\" | 182\\n|-\\n| {{u|Victor Salvador Vilari\\xf1o}}\\n| align=\"center\" | 0\\n| align=\"center\" | 173\\n| align=\"center\" | 0\\n| align=\"center\" | 173\\n|-\\n| {{u|MACfoto1963}}\\n| align=\"center\" | 0\\n| align=\"center\" | 0\\n| align=\"center\" | 124\\n| align=\"center\" | 124\\n|-\\n| {{u|ACaminero}}\\n| align=\"center\" | 113\\n| align=\"center\" | 0\\n| align=\"center\" | 0\\n| align=\"center\" | 113\\n|-\\n| {{u|Francisco Lera}}\\n| align=\"center\" | 112\\n| align=\"center\" | 0\\n| align=\"center\" | 0\\n| align=\"center\" | 112\\n|-\\n| {{u|Bhavagati}}\\n| align=\"center\" | 101\\n| align=\"center\" | 0\\n| align=\"center\" | 0\\n| align=\"center\" | 101\\n|-\\n| {{u|Dorieo}}\\n| align=\"center\" | 0\\n| align=\"center\" | 24\\n| align=\"center\" | 75\\n| align=\"center\" | 99\\n|-\\n| {{u|Mabelcalabuig}}\\n| align=\"center\" | 96\\n| align=\"center\" | 0\\n| align=\"center\" | 0\\n| align=\"center\" | 96\\n|-\\n| {{u|MsLids}}\\n| align=\"center\" | 92\\n| align=\"center\" | 0\\n| align=\"center\" | 0\\n| align=\"center\" | 92\\n|-\\n| {{u|Baldomorejon}}\\n| align=\"center\" | 87\\n| align=\"center\" | 0\\n| align=\"center\" | 0\\n| align=\"center\" | 87\\n|-\\n| [https://www.flickr.com/people/48600102544@N01 Victor R. Ruiz]\\n| align=\"center\" | 86\\n| align=\"center\" | 0\\n| align=\"center\" | 0\\n| align=\"center\" | 86\\n|-\\n| {{u|Ivanhercaz}}\\n| align=\"center\" | 0\\n| align=\"center\" | 85\\n| align=\"center\" | 0\\n| align=\"center\" | 85\\n|-\\n| {{u|Parque natural monta\\xf1a palentina}}\\n| align=\"center\" | 0\\n| align=\"center\" | 79\\n| align=\"center\" | 0\\n| align=\"center\" | 79\\n|-\\n| {{u|The man who shot liberty valance}}\\n| align=\"center\" | 0\\n| align=\"center\" | 0\\n| align=\"center\" | 74\\n| align=\"center\" | 74\\n|-\\n| {{u|Nandicus}}\\n| align=\"center\" | 0\\n| align=\"center\" | 0\\n| align=\"center\" | 71\\n| align=\"center\" | 71\\n|-\\n| {{u|Mr.Wagner22}}\\n| align=\"center\" | 69\\n| align=\"center\" | 0\\n| align=\"center\" | 0\\n| align=\"center\" | 69\\n|-\\n| {{u|Carmen Sanz Cabedo}}\\n| align=\"center\" | 0\\n| align=\"center\" | 28\\n| align=\"center\" | 40\\n| align=\"center\" | 68\\n|-\\n| [https://www.flickr.com/people/47153649@N03 Ra\\xfal Hidalgo]\\n| align=\"center\" | 68\\n| align=\"center\" | 0\\n| align=\"center\" | 0\\n| align=\"center\" | 68\\n|-\\n| {{u|Tamara k}}\\n| align=\"center\" | 27\\n| align=\"center\" | 40\\n| align=\"center\" | 0\\n| align=\"center\" | 67\\n|-\\n| {{u|Songbird8}}\\n| align=\"center\" | 0\\n| align=\"center\" | 0\\n| align=\"center\" | 67\\n| align=\"center\" | 67\\n|-\\n| {{u|Harpagornis}}\\n| align=\"center\" | 0\\n| align=\"center\" | 63\\n| align=\"center\" | 0\\n| align=\"center\" | 63\\n|-\\n| {{u|Madixator}}\\n| align=\"center\" | 0\\n| align=\"center\" | 0\\n| align=\"center\" | 60\\n| align=\"center\" | 60\\n|-\\n| {{u|AnaisGoepner}}\\n| align=\"center\" | 0\\n| align=\"center\" | 0\\n| align=\"center\" | 60\\n| align=\"center\" | 60\\n|-\\n| {{u|Martely}}\\n| align=\"center\" | 0\\n| align=\"center\" | 56\\n| align=\"center\" | 0\\n| align=\"center\" | 56\\n|-\\n| {{u|Boruguita}}\\n| align=\"center\" | 54\\n| align=\"center\" | 0\\n| align=\"center\" | 0\\n| align=\"center\" | 54\\n|-\\n| {{u|Javier martinlo}}\\n| align=\"center\" | 54\\n| align=\"center\" | 0\\n| align=\"center\" | 0\\n| align=\"center\" | 54\\n|-\\n| {{u|Srg1989}}\\n| align=\"center\" | 0\\n| align=\"center\" | 0\\n| align=\"center\" | 53\\n| align=\"center\" | 53\\n|-\\n| {{u|Jseoanepascual}}\\n| align=\"center\" | 0\\n| align=\"center\" | 52\\n| align=\"center\" | 0\\n| align=\"center\" | 52\\n|-\\n| {{u|Andr\\xe9s Flajszer}}\\n| align=\"center\" | 52\\n| align=\"center\" | 0\\n| align=\"center\" | 0\\n| align=\"center\" | 52\\n|-\\n| {{u|Namiac}}\\n| align=\"center\" | 52\\n| align=\"center\" | 0\\n| align=\"center\" | 0\\n| align=\"center\" | 52\\n|-\\n| {{u|Okenok}}\\n| align=\"center\" | 50\\n| align=\"center\" | 0\\n| align=\"center\" | 0\\n| align=\"center\" | 50\\n|-\\n| {{u|Anthiro 57}}\\n| align=\"center\" | 50\\n| align=\"center\" | 0\\n| align=\"center\" | 0\\n| align=\"center\" | 50\\n|-\\n| {{u|Poco a poco}}\\n| align=\"center\" | 49\\n| align=\"center\" | 1\\n| align=\"center\" | 0\\n| align=\"center\" | 50\\n|-\\n| {{u|Iker Cia}}\\n| align=\"center\" | 0\\n| align=\"center\" | 50\\n| align=\"center\" | 0\\n| align=\"center\" | 50\\n|-\\n| {{u|JB aus Siegen}}\\n| align=\"center\" | 0\\n| align=\"center\" | 50\\n| align=\"center\" | 0\\n| align=\"center\" | 50\\n|-\\n| {{u|Vallejoale}}\\n| align=\"center\" | 0\\n| align=\"center\" | 49\\n| align=\"center\" | 0\\n| align=\"center\" | 49\\n|-\\n| {{u|Kadellar}}\\n| align=\"center\" | 49\\n| align=\"center\" | 0\\n| align=\"center\" | 0\\n| align=\"center\" | 49\\n|-\\n| {{u|Kippelboy}}\\n| align=\"center\" | 0\\n| align=\"center\" | 48\\n| align=\"center\" | 0\\n| align=\"center\" | 48\\n|-\\n| {{u|Hanarko}}\\n| align=\"center\" | 0\\n| align=\"center\" | 48\\n| align=\"center\" | 0\\n| align=\"center\" | 48\\n|-\\n| {{u|Rahernaiz 91}}\\n| align=\"center\" | 47\\n| align=\"center\" | 0\\n| align=\"center\" | 0\\n| align=\"center\" | 47\\n|-\\n| {{u|TRAPICHON}}\\n| align=\"center\" | 47\\n| align=\"center\" | 0\\n| align=\"center\" | 0\\n| align=\"center\" | 47\\n|-\\n| {{u|Rafesmar}}\\n| align=\"center\" | 5\\n| align=\"center\" | 16\\n| align=\"center\" | 24\\n| align=\"center\" | 45\\n|-\\n| {{u|Scorps88}}\\n| align=\"center\" | 0\\n| align=\"center\" | 45\\n| align=\"center\" | 0\\n| align=\"center\" | 45\\n|-\\n| {{u|Xemenendura}}\\n| align=\"center\" | 15\\n| align=\"center\" | 30\\n| align=\"center\" | 0\\n| align=\"center\" | 45\\n|-\\n| {{u|Echeyde777}}\\n| align=\"center\" | 44\\n| align=\"center\" | 0\\n| align=\"center\" | 0\\n| align=\"center\" | 44\\n|-\\n| {{u|Mikipons}}\\n| align=\"center\" | 15\\n| align=\"center\" | 17\\n| align=\"center\" | 12\\n| align=\"center\" | 44\\n|-\\n| {{u|Olga lesiv}}\\n| align=\"center\" | 43\\n| align=\"center\" | 0\\n| align=\"center\" | 0\\n| align=\"center\" | 43\\n|-\\n| {{u|Colsandsol}}\\n| align=\"center\" | 0\\n| align=\"center\" | 0\\n| align=\"center\" | 43\\n| align=\"center\" | 43\\n|-\\n| {{u|Alejandro MezcuA}}\\n| align=\"center\" | 39\\n| align=\"center\" | 4\\n| align=\"center\" | 0\\n| align=\"center\" | 43\\n|-\\n| {{u|Picoesquinamu}}\\n| align=\"center\" | 42\\n| align=\"center\" | 0\\n| align=\"center\" | 0\\n| align=\"center\" | 42\\n|-\\n| {{u|Tardor62}}\\n| align=\"center\" | 0\\n| align=\"center\" | 41\\n| align=\"center\" | 0\\n| align=\"center\" | 41\\n|-\\n| {{u|MACfoto63}}\\n| align=\"center\" | 0\\n| align=\"center\" | 0\\n| align=\"center\" | 41\\n| align=\"center\" | 41\\n|-\\n| {{u|JavierValencia2005}}\\n| align=\"center\" | 0\\n| align=\"center\" | 40\\n| align=\"center\" | 0\\n| align=\"center\" | 40\\n|-\\n| {{u|ALusitana}}\\n| align=\"center\" | 40\\n| align=\"center\" | 0\\n| align=\"center\" | 0\\n| align=\"center\" | 40\\n|-\\n| {{u|Dapatxi}}\\n| align=\"center\" | 0\\n| align=\"center\" | 39\\n| align=\"center\" | 0\\n| align=\"center\" | 39\\n|-\\n| {{u|Xavier GF}}\\n| align=\"center\" | 39\\n| align=\"center\" | 0\\n| align=\"center\" | 0\\n| align=\"center\" | 39\\n|-\\n| {{u|Riparga}}\\n| align=\"center\" | 0\\n| align=\"center\" | 39\\n| align=\"center\" | 0\\n| align=\"center\" | 39\\n|-\\n| {{u|Obdulio Obduliez}}\\n| align=\"center\" | 38\\n| align=\"center\" | 0\\n| align=\"center\" | 0\\n| align=\"center\" | 38\\n|-\\n| {{u|Laurammmmm}}\\n| align=\"center\" | 0\\n| align=\"center\" | 37\\n| align=\"center\" | 0\\n| align=\"center\" | 37\\n|-\\n| {{u|Aitor.fcj}}\\n| align=\"center\" | 0\\n| align=\"center\" | 37\\n| align=\"center\" | 0\\n| align=\"center\" | 37\\n|-\\n| {{u|Wux1989}}\\n| align=\"center\" | 36\\n| align=\"center\" | 0\\n| align=\"center\" | 0\\n| align=\"center\" | 36\\n|-\\n| {{u|Lluislsd}}\\n| align=\"center\" | 36\\n| align=\"center\" | 0\\n| align=\"center\" | 0\\n| align=\"center\" | 36\\n|-\\n| {{u|Maria planas aulet}}\\n| align=\"center\" | 35\\n| align=\"center\" | 0\\n| align=\"center\" | 0\\n| align=\"center\" | 35\\n|-\\n| {{u|Mariantoniaina}}\\n| align=\"center\" | 35\\n| align=\"center\" | 0\\n| align=\"center\" | 0\\n| align=\"center\" | 35\\n|-\\n| {{u|Gbcoronadoh}}\\n| align=\"center\" | 0\\n| align=\"center\" | 0\\n| align=\"center\" | 35\\n| align=\"center\" | 35\\n|-\\n| {{u|15Gitte}}\\n| align=\"center\" | 35\\n| align=\"center\" | 0\\n| align=\"center\" | 0\\n| align=\"center\" | 35\\n|-\\n| {{u|Malenaban}}\\n| align=\"center\" | 33\\n| align=\"center\" | 0\\n| align=\"center\" | 0\\n| align=\"center\" | 33\\n|-\\n| {{u|MaS10TeR}}\\n| align=\"center\" | 0\\n| align=\"center\" | 0\\n| align=\"center\" | 33\\n| align=\"center\" | 33\\n|-\\n| {{u|Betty Granjera}}\\n| align=\"center\" | 0\\n| align=\"center\" | 32\\n| align=\"center\" | 0\\n| align=\"center\" | 32\\n|-\\n| {{u|Evirio}}\\n| align=\"center\" | 32\\n| align=\"center\" | 0\\n| align=\"center\" | 0\\n| align=\"center\" | 32\\n|-\\n| {{u|15230181h}}\\n| align=\"center\" | 0\\n| align=\"center\" | 0\\n| align=\"center\" | 32\\n| align=\"center\" | 32\\n|-\\n| {{u|Polmatce}}\\n| align=\"center\" | 32\\n| align=\"center\" | 0\\n| align=\"center\" | 0\\n| align=\"center\" | 32\\n|-\\n| {{u|Agila13}}\\n| align=\"center\" | 32\\n| align=\"center\" | 0\\n| align=\"center\" | 0\\n| align=\"center\" | 32\\n|-\\n| {{u|Vanbasten 23}}\\n| align=\"center\" | 0\\n| align=\"center\" | 0\\n| align=\"center\" | 32\\n| align=\"center\" | 32\\n|-\\n| {{u|Luis Fern\\xe1ndez Garc\\xeda}}\\n| align=\"center\" | 0\\n| align=\"center\" | 31\\n| align=\"center\" | 0\\n| align=\"center\" | 31\\n|-\\n| {{u|JUANALBE}}\\n| align=\"center\" | 0\\n| align=\"center\" | 0\\n| align=\"center\" | 31\\n| align=\"center\" | 31\\n|-\\n| {{u|Yerie2017}}\\n| align=\"center\" | 0\\n| align=\"center\" | 0\\n| align=\"center\" | 30\\n| align=\"center\" | 30\\n|-\\n| {{u|Moipastor}}\\n| align=\"center\" | 30\\n| align=\"center\" | 0\\n| align=\"center\" | 0\\n| align=\"center\" | 30\\n|-\\n| {{u|Ejmillan}}\\n| align=\"center\" | 0\\n| align=\"center\" | 0\\n| align=\"center\" | 29\\n| align=\"center\" | 29\\n|-\\n| {{u|19Tarrestnom65}}\\n| align=\"center\" | 0\\n| align=\"center\" | 0\\n| align=\"center\" | 29\\n| align=\"center\" | 29\\n|-\\n| {{u|Elimedina}}\\n| align=\"center\" | 0\\n| align=\"center\" | 29\\n| align=\"center\" | 0\\n| align=\"center\" | 29\\n|-\\n| {{u|Careerfromhome}}\\n| align=\"center\" | 0\\n| align=\"center\" | 0\\n| align=\"center\" | 29\\n| align=\"center\" | 29\\n|-\\n| {{u|Gwaihhir}}\\n| align=\"center\" | 28\\n| align=\"center\" | 0\\n| align=\"center\" | 0\\n| align=\"center\" | 28\\n|-\\n| {{u|Alesper33}}\\n| align=\"center\" | 0\\n| align=\"center\" | 28\\n| align=\"center\" | 0\\n| align=\"center\" | 28\\n|-\\n| {{u|IsabeauOttolini}}\\n| align=\"center\" | 0\\n| align=\"center\" | 28\\n| align=\"center\" | 0\\n| align=\"center\" | 28\\n|-\\n| {{u|Malopez 21}}\\n| align=\"center\" | 0\\n| align=\"center\" | 0\\n| align=\"center\" | 28\\n| align=\"center\" | 28\\n|-\\n| {{u|Alberto-g-rovi}}\\n| align=\"center\" | 12\\n| align=\"center\" | 15\\n| align=\"center\" | 0\\n| align=\"center\" | 27\\n|-\\n| {{u|Angela Llop}}\\n| align=\"center\" | 0\\n| align=\"center\" | 0\\n| align=\"center\" | 27\\n| align=\"center\" | 27\\n|-\\n| {{u|Pemolo}}\\n| align=\"center\" | 26\\n| align=\"center\" | 0\\n| align=\"center\" | 0\\n| align=\"center\" | 26\\n|-\\n| {{u|Koruko}}\\n| align=\"center\" | 26\\n| align=\"center\" | 0\\n| align=\"center\" | 0\\n| align=\"center\" | 26\\n|-\\n| {{u|Dcarrero}}\\n| align=\"center\" | 26\\n| align=\"center\" | 0\\n| align=\"center\" | 0\\n| align=\"center\" | 26\\n|-\\n| {{u|Pablobonal}}\\n| align=\"center\" | 0\\n| align=\"center\" | 24\\n| align=\"center\" | 0\\n| align=\"center\" | 24\\n|-\\n| {{u|Ncambara}}\\n| align=\"center\" | 24\\n| align=\"center\" | 0\\n| align=\"center\" | 0\\n| align=\"center\" | 24\\n|-\\n| {{u|Frankv691}}\\n| align=\"center\" | 0\\n| align=\"center\" | 0\\n| align=\"center\" | 24\\n| align=\"center\" | 24\\n|-\\n| {{u|Tuispi}}\\n| align=\"center\" | 23\\n| align=\"center\" | 0\\n| align=\"center\" | 0\\n| align=\"center\" | 23\\n|-\\n| {{u|Walkinaway}}\\n| align=\"center\" | 23\\n| align=\"center\" | 0\\n| align=\"center\" | 0\\n| align=\"center\" | 23\\n|-\\n| {{u|Andrey Tenerife}}\\n| align=\"center\" | 0\\n| align=\"center\" | 0\\n| align=\"center\" | 23\\n| align=\"center\" | 23\\n|-\\n| {{u|Javieralbertos}}\\n| align=\"center\" | 0\\n| align=\"center\" | 0\\n| align=\"center\" | 23\\n| align=\"center\" | 23\\n|-\\n| {{u|MarcelaLie}}\\n| align=\"center\" | 22\\n| align=\"center\" | 0\\n| align=\"center\" | 0\\n| align=\"center\" | 22\\n|-\\n| {{u|Tramullas}}\\n| align=\"center\" | 13\\n| align=\"center\" | 0\\n| align=\"center\" | 9\\n| align=\"center\" | 22\\n|-\\n| {{u|F\\xe4hrtenleser}}\\n| align=\"center\" | 0\\n| align=\"center\" | 22\\n| align=\"center\" | 0\\n| align=\"center\" | 22\\n|-\\n| {{u|Toni P\\xe9rez Padilla}}\\n| align=\"center\" | 0\\n| align=\"center\" | 21\\n| align=\"center\" | 0\\n| align=\"center\" | 21\\n|-\\n| {{u|Albamaria.paz}}\\n| align=\"center\" | 0\\n| align=\"center\" | 21\\n| align=\"center\" | 0\\n| align=\"center\" | 21\\n|-\\n| {{u|Juan Lobo}}\\n| align=\"center\" | 0\\n| align=\"center\" | 0\\n| align=\"center\" | 21\\n| align=\"center\" | 21\\n|-\\n| {{u|Josemmdiaz}}\\n| align=\"center\" | 0\\n| align=\"center\" | 21\\n| align=\"center\" | 0\\n| align=\"center\" | 21\\n|-\\n| {{u|Sonya Othero}}\\n| align=\"center\" | 21\\n| align=\"center\" | 0\\n| align=\"center\" | 0\\n| align=\"center\" | 21\\n|-\\n| {{u|Seiko09}}\\n| align=\"center\" | 0\\n| align=\"center\" | 21\\n| align=\"center\" | 0\\n| align=\"center\" | 21\\n|-\\n| {{u|Asqueladd}}\\n| align=\"center\" | 0\\n| align=\"center\" | 0\\n| align=\"center\" | 20\\n| align=\"center\" | 20\\n|-\\n| {{u|Pau lopezca}}\\n| align=\"center\" | 20\\n| align=\"center\" | 0\\n| align=\"center\" | 0\\n| align=\"center\" | 20\\n|-\\n| {{u|Vanesamunuera}}\\n| align=\"center\" | 20\\n| align=\"center\" | 0\\n| align=\"center\" | 0\\n| align=\"center\" | 20\\n|-\\n| {{u|Jesusbernalgarrido}}\\n| align=\"center\" | 20\\n| align=\"center\" | 0\\n| align=\"center\" | 0\\n| align=\"center\" | 20\\n|-\\n| {{u|Tyros.andi}}\\n| align=\"center\" | 0\\n| align=\"center\" | 20\\n| align=\"center\" | 0\\n| align=\"center\" | 20\\n|-\\n| {{u|Robertomagan}}\\n| align=\"center\" | 0\\n| align=\"center\" | 20\\n| align=\"center\" | 0\\n| align=\"center\" | 20\\n|-\\n| {{u|REFLEX MBN}}\\n| align=\"center\" | 0\\n| align=\"center\" | 0\\n| align=\"center\" | 20\\n| align=\"center\" | 20\\n|-\\n| {{u|Antartidae}}\\n| align=\"center\" | 0\\n| align=\"center\" | 20\\n| align=\"center\" | 0\\n| align=\"center\" | 20\\n|-\\n| {{u|Juan Emilio Prades Bel}}\\n| align=\"center\" | 19\\n| align=\"center\" | 0\\n| align=\"center\" | 0\\n| align=\"center\" | 19\\n|-\\n| {{u|Quijotemancha}}\\n| align=\"center\" | 0\\n| align=\"center\" | 0\\n| align=\"center\" | 18\\n| align=\"center\" | 18\\n|-\\n| {{u|AnuskaCM}}\\n| align=\"center\" | 18\\n| align=\"center\" | 0\\n| align=\"center\" | 0\\n| align=\"center\" | 18\\n|-\\n| {{u|Prinxiwexa}}\\n| align=\"center\" | 0\\n| align=\"center\" | 18\\n| align=\"center\" | 0\\n| align=\"center\" | 18\\n|-\\n| {{u|Formesar}}\\n| align=\"center\" | 0\\n| align=\"center\" | 18\\n| align=\"center\" | 0\\n| align=\"center\" | 18\\n|-\\n| {{u|ROSUROB}}\\n| align=\"center\" | 18\\n| align=\"center\" | 0\\n| align=\"center\" | 0\\n| align=\"center\" | 18\\n|-\\n| {{u|Marsan}}\\n| align=\"center\" | 5\\n| align=\"center\" | 13\\n| align=\"center\" | 0\\n| align=\"center\" | 18\\n|-\\n| {{u|Hecsuag}}\\n| align=\"center\" | 17\\n| align=\"center\" | 0\\n| align=\"center\" | 0\\n| align=\"center\" | 17\\n|-\\n| {{u|Jdelahid}}\\n| align=\"center\" | 0\\n| align=\"center\" | 0\\n| align=\"center\" | 17\\n| align=\"center\" | 17\\n|-\\n| {{u|Mentefria88}}\\n| align=\"center\" | 17\\n| align=\"center\" | 0\\n| align=\"center\" | 0\\n| align=\"center\" | 17\\n|-\\n| {{u|Yabedanie}}\\n| align=\"center\" | 15\\n| align=\"center\" | 2\\n| align=\"center\" | 0\\n| align=\"center\" | 17\\n|-\\n| {{u|Javiertorrespereira}}\\n| align=\"center\" | 17\\n| align=\"center\" | 0\\n| align=\"center\" | 0\\n| align=\"center\" | 17\\n|-\\n| {{u|Joaqu\\xedn Matos Morales}}\\n| align=\"center\" | 0\\n| align=\"center\" | 0\\n| align=\"center\" | 17\\n| align=\"center\" | 17\\n|-\\n| {{u|Audalix}}\\n| align=\"center\" | 0\\n| align=\"center\" | 0\\n| align=\"center\" | 17\\n| align=\"center\" | 17\\n|-\\n| {{u|Mariogil1971}}\\n| align=\"center\" | 0\\n| align=\"center\" | 0\\n| align=\"center\" | 17\\n| align=\"center\" | 17\\n|-\\n| {{u|Adolfobrigido}}\\n| align=\"center\" | 17\\n| align=\"center\" | 0\\n| align=\"center\" | 0\\n| align=\"center\" | 17\\n|-\\n| {{u|Damaqu}}\\n| align=\"center\" | 0\\n| align=\"center\" | 0\\n| align=\"center\" | 17\\n| align=\"center\" | 17\\n|-\\n| {{u|Zeus11 Commons}}\\n| align=\"center\" | 16\\n| align=\"center\" | 0\\n| align=\"center\" | 0\\n| align=\"center\" | 16\\n|-\\n| {{u|Carlos Martin Diaz}}\\n| align=\"center\" | 0\\n| align=\"center\" | 16\\n| align=\"center\" | 0\\n| align=\"center\" | 16\\n|-\\n| {{u|Lolalatorre}}\\n| align=\"center\" | 16\\n| align=\"center\" | 0\\n| align=\"center\" | 0\\n| align=\"center\" | 16\\n|-\\n| {{u|JDMenRom}}\\n| align=\"center\" | 0\\n| align=\"center\" | 16\\n| align=\"center\" | 0\\n| align=\"center\" | 16\\n|-\\n| {{u|Casasdeselva}}\\n| align=\"center\" | 16\\n| align=\"center\" | 0\\n| align=\"center\" | 0\\n| align=\"center\" | 16\\n|-\\n| {{u|NachoBen}}\\n| align=\"center\" | 1\\n| align=\"center\" | 15\\n| align=\"center\" | 0\\n| align=\"center\" | 16\\n|-\\n| {{u|Cardenasaaron}}\\n| align=\"center\" | 0\\n| align=\"center\" | 0\\n| align=\"center\" | 16\\n| align=\"center\" | 16\\n|-\\n| {{u|AlexanderKlink}}\\n| align=\"center\" | 0\\n| align=\"center\" | 16\\n| align=\"center\" | 0\\n| align=\"center\" | 16\\n|-\\n| {{u|Alexis de Arce}}\\n| align=\"center\" | 0\\n| align=\"center\" | 0\\n| align=\"center\" | 16\\n| align=\"center\" | 16\\n|-\\n| {{u|Lulusao5}}\\n| align=\"center\" | 0\\n| align=\"center\" | 0\\n| align=\"center\" | 16\\n| align=\"center\" | 16\\n|-\\n| {{u|Elfrankgonzalez}}\\n| align=\"center\" | 0\\n| align=\"center\" | 0\\n| align=\"center\" | 15\\n| align=\"center\" | 15\\n|-\\n| {{u|Mmorell}}\\n| align=\"center\" | 15\\n| align=\"center\" | 0\\n| align=\"center\" | 0\\n| align=\"center\" | 15\\n|-\\n| [https://www.flickr.com/people/100761407@N02 Daniel Garcia-Castellanos]\\n| align=\"center\" | 15\\n| align=\"center\" | 0\\n| align=\"center\" | 0\\n| align=\"center\" | 15\\n|-\\n| {{u|ALR3641}}\\n| align=\"center\" | 0\\n| align=\"center\" | 0\\n| align=\"center\" | 15\\n| align=\"center\" | 15\\n|-\\n| {{u|Mario peces}}\\n| align=\"center\" | 0\\n| align=\"center\" | 0\\n| align=\"center\" | 15\\n| align=\"center\" | 15\\n|-\\n| {{u|Iriartejaialai}}\\n| align=\"center\" | 0\\n| align=\"center\" | 0\\n| align=\"center\" | 15\\n| align=\"center\" | 15\\n|-\\n| {{u|Itoparra}}\\n| align=\"center\" | 0\\n| align=\"center\" | 0\\n| align=\"center\" | 15\\n| align=\"center\" | 15\\n|-\\n| {{u|Jenniferveramartin}}\\n| align=\"center\" | 0\\n| align=\"center\" | 0\\n| align=\"center\" | 15\\n| align=\"center\" | 15\\n|-\\n| {{u|Teck\\xf6mo}}\\n| align=\"center\" | 15\\n| align=\"center\" | 0\\n| align=\"center\" | 0\\n| align=\"center\" | 15\\n|-\\n| {{u|ManoloMoraMorales}}\\n| align=\"center\" | 14\\n| align=\"center\" | 0\\n| align=\"center\" | 0\\n| align=\"center\" | 14\\n|-\\n| {{u|Pinilla.jesus}}\\n| align=\"center\" | 0\\n| align=\"center\" | 0\\n| align=\"center\" | 14\\n| align=\"center\" | 14\\n|-\\n| {{u|Jones suonatore}}\\n| align=\"center\" | 14\\n| align=\"center\" | 0\\n| align=\"center\" | 0\\n| align=\"center\" | 14\\n|-\\n| {{u|Mouteira}}\\n| align=\"center\" | 14\\n| align=\"center\" | 0\\n| align=\"center\" | 0\\n| align=\"center\" | 14\\n|-\\n| {{u|\\xc1lvarolo4ever}}\\n| align=\"center\" | 0\\n| align=\"center\" | 0\\n| align=\"center\" | 14\\n| align=\"center\" | 14\\n|-\\n| {{u|BrendanRyanII}}\\n| align=\"center\" | 0\\n| align=\"center\" | 0\\n| align=\"center\" | 14\\n| align=\"center\" | 14\\n|-\\n| {{u|Colin C Wheeler}}\\n| align=\"center\" | 14\\n| align=\"center\" | 0\\n| align=\"center\" | 0\\n| align=\"center\" | 14\\n|-\\n| {{u|Canary Dron}}\\n| align=\"center\" | 13\\n| align=\"center\" | 0\\n| align=\"center\" | 0\\n| align=\"center\" | 13\\n|-\\n| {{u|MoraoI}}\\n| align=\"center\" | 13\\n| align=\"center\" | 0\\n| align=\"center\" | 0\\n| align=\"center\" | 13\\n|-\\n| {{u|Conxita clara}}\\n| align=\"center\" | 13\\n| align=\"center\" | 0\\n| align=\"center\" | 0\\n| align=\"center\" | 13\\n|-\\n| {{u|Javiergomezvet}}\\n| align=\"center\" | 0\\n| align=\"center\" | 13\\n| align=\"center\" | 0\\n| align=\"center\" | 13\\n|-\\n| {{u|Arment mad}}\\n| align=\"center\" | 13\\n| align=\"center\" | 0\\n| align=\"center\" | 0\\n| align=\"center\" | 13\\n|-\\n| {{u|Montilac}}\\n| align=\"center\" | 0\\n| align=\"center\" | 13\\n| align=\"center\" | 0\\n| align=\"center\" | 13\\n|-\\n| {{u|Merdaseca}}\\n| align=\"center\" | 0\\n| align=\"center\" | 0\\n| align=\"center\" | 13\\n| align=\"center\" | 13\\n|-\\n| {{u|JaimeRhino}}\\n| align=\"center\" | 13\\n| align=\"center\" | 0\\n| align=\"center\" | 0\\n| align=\"center\" | 13\\n|-\\n| {{u|Jose Manuel Casti\\xf1eira}}\\n| align=\"center\" | 13\\n| align=\"center\" | 0\\n| align=\"center\" | 0\\n| align=\"center\" | 13\\n|-\\n| {{u|Javiersanchezechevarria}}\\n| align=\"center\" | 13\\n| align=\"center\" | 0\\n| align=\"center\" | 0\\n| align=\"center\" | 13\\n|-\\n| {{u|Priast80}}\\n| align=\"center\" | 13\\n| align=\"center\" | 0\\n| align=\"center\" | 0\\n| align=\"center\" | 13\\n|-\\n| {{u|Gahlaiba}}\\n| align=\"center\" | 13\\n| align=\"center\" | 0\\n| align=\"center\" | 0\\n| align=\"center\" | 13\\n|-\\n| {{u|Manuel Mu\\xf1oz Farriols}}\\n| align=\"center\" | 0\\n| align=\"center\" | 13\\n| align=\"center\" | 0\\n| align=\"center\" | 13\\n|-\\n| {{u|Miquel1004}}\\n| align=\"center\" | 0\\n| align=\"center\" | 0\\n| align=\"center\" | 13\\n| align=\"center\" | 13\\n|-\\n| {{u|Viladomat57}}\\n| align=\"center\" | 0\\n| align=\"center\" | 12\\n| align=\"center\" | 0\\n| align=\"center\" | 12\\n|-\\n| {{u|Pepeladillas}}\\n| align=\"center\" | 12\\n| align=\"center\" | 0\\n| align=\"center\" | 0\\n| align=\"center\" | 12\\n|-\\n| {{u|Adescarrega}}\\n| align=\"center\" | 0\\n| align=\"center\" | 12\\n| align=\"center\" | 0\\n| align=\"center\" | 12\\n|-\\n| {{u|Vishal dh}}\\n| align=\"center\" | 0\\n| align=\"center\" | 12\\n| align=\"center\" | 0\\n| align=\"center\" | 12\\n|-\\n| {{u|Arrebatacapas}}\\n| align=\"center\" | 0\\n| align=\"center\" | 12\\n| align=\"center\" | 0\\n| align=\"center\" | 12\\n|-\\n| {{u|ITellado}}\\n| align=\"center\" | 0\\n| align=\"center\" | 12\\n| align=\"center\" | 0\\n| align=\"center\" | 12\\n|-\\n| {{u|Niko35moral}}\\n| align=\"center\" | 12\\n| align=\"center\" | 0\\n| align=\"center\" | 0\\n| align=\"center\" | 12\\n|-\\n| {{u|Saldeplata}}\\n| align=\"center\" | 12\\n| align=\"center\" | 0\\n| align=\"center\" | 0\\n| align=\"center\" | 12\\n|-\\n| {{u|Alzur000}}\\n| align=\"center\" | 12\\n| align=\"center\" | 0\\n| align=\"center\" | 0\\n| align=\"center\" | 12\\n|-\\n| {{u|LILAP.JV}}\\n| align=\"center\" | 12\\n| align=\"center\" | 0\\n| align=\"center\" | 0\\n| align=\"center\" | 12\\n|-\\n| {{u|Palomixu20}}\\n| align=\"center\" | 12\\n| align=\"center\" | 0\\n| align=\"center\" | 0\\n| align=\"center\" | 12\\n|-\\n| {{u|Eafosan}}\\n| align=\"center\" | 0\\n| align=\"center\" | 0\\n| align=\"center\" | 12\\n| align=\"center\" | 12\\n|-\\n| {{u|Cadoalla}}\\n| align=\"center\" | 7\\n| align=\"center\" | 5\\n| align=\"center\" | 0\\n| align=\"center\" | 12\\n|-\\n| [https://www.flickr.com/people/63438723@N03 sergioski1982]\\n| align=\"center\" | 12\\n| align=\"center\" | 0\\n| align=\"center\" | 0\\n| align=\"center\" | 12\\n|-\\n| {{u|Donjuanfe}}\\n| align=\"center\" | 0\\n| align=\"center\" | 11\\n| align=\"center\" | 0\\n| align=\"center\" | 11\\n|-\\n| {{u|Gaianauta}}\\n| align=\"center\" | 11\\n| align=\"center\" | 0\\n| align=\"center\" | 0\\n| align=\"center\" | 11\\n|-\\n| {{u|Jose duarte llorente}}\\n| align=\"center\" | 11\\n| align=\"center\" | 0\\n| align=\"center\" | 0\\n| align=\"center\" | 11\\n|-\\n| {{u|ElBute}}\\n| align=\"center\" | 11\\n| align=\"center\" | 0\\n| align=\"center\" | 0\\n| align=\"center\" | 11\\n|-\\n| {{u|Miguello98}}\\n| align=\"center\" | 11\\n| align=\"center\" | 0\\n| align=\"center\" | 0\\n| align=\"center\" | 11\\n|-\\n| {{u|Nachopoar97}}\\n| align=\"center\" | 11\\n| align=\"center\" | 0\\n| align=\"center\" | 0\\n| align=\"center\" | 11\\n|-\\n| {{u|Ruben.ojecir}}\\n| align=\"center\" | 0\\n| align=\"center\" | 11\\n| align=\"center\" | 0\\n| align=\"center\" | 11\\n|-\\n| {{u|Orlicatombe}}\\n| align=\"center\" | 0\\n| align=\"center\" | 11\\n| align=\"center\" | 0\\n| align=\"center\" | 11\\n|-\\n| {{u|Igor Rico}}\\n| align=\"center\" | 11\\n| align=\"center\" | 0\\n| align=\"center\" | 0\\n| align=\"center\" | 11\\n|-\\n| {{u|Eckhard}}\\n| align=\"center\" | 0\\n| align=\"center\" | 0\\n| align=\"center\" | 11\\n| align=\"center\" | 11\\n|-\\n| {{u|Jynus}}\\n| align=\"center\" | 0\\n| align=\"center\" | 10\\n| align=\"center\" | 0\\n| align=\"center\" | 10\\n|-\\n| {{u|Angelrtz}}\\n| align=\"center\" | 0\\n| align=\"center\" | 10\\n| align=\"center\" | 0\\n| align=\"center\" | 10\\n|-\\n| {{u|Gregoriobart}}\\n| align=\"center\" | 10\\n| align=\"center\" | 0\\n| align=\"center\" | 0\\n| align=\"center\" | 10\\n|-\\n| {{u|HelenaB100}}\\n| align=\"center\" | 10\\n| align=\"center\" | 0\\n| align=\"center\" | 0\\n| align=\"center\" | 10\\n|-\\n| {{u|Dgalan}}\\n| align=\"center\" | 0\\n| align=\"center\" | 10\\n| align=\"center\" | 0\\n| align=\"center\" | 10\\n|-\\n| {{u|Rahico}}\\n| align=\"center\" | 0\\n| align=\"center\" | 10\\n| align=\"center\" | 0\\n| align=\"center\" | 10\\n|-\\n| {{u|Rodelar}}\\n| align=\"center\" | 0\\n| align=\"center\" | 5\\n| align=\"center\" | 5\\n| align=\"center\" | 10\\n|-\\n| {{u|Jegarcialva}}\\n| align=\"center\" | 0\\n| align=\"center\" | 10\\n| align=\"center\" | 0\\n| align=\"center\" | 10\\n|-\\n| {{u|Yoseph Walker}}\\n| align=\"center\" | 10\\n| align=\"center\" | 0\\n| align=\"center\" | 0\\n| align=\"center\" | 10\\n|-\\n| {{u|Av remi04}}\\n| align=\"center\" | 0\\n| align=\"center\" | 0\\n| align=\"center\" | 10\\n| align=\"center\" | 10\\n|-\\n| {{u|Santiago P\\xe9rez Malvido}}\\n| align=\"center\" | 0\\n| align=\"center\" | 9\\n| align=\"center\" | 0\\n| align=\"center\" | 9\\n|-\\n| {{u|EeBfD 007}}\\n| align=\"center\" | 0\\n| align=\"center\" | 0\\n| align=\"center\" | 9\\n| align=\"center\" | 9\\n|-\\n| {{u|Fom45}}\\n| align=\"center\" | 9\\n| align=\"center\" | 0\\n| align=\"center\" | 0\\n| align=\"center\" | 9\\n|-\\n| {{u|Maria jose 1963}}\\n| align=\"center\" | 0\\n| align=\"center\" | 9\\n| align=\"center\" | 0\\n| align=\"center\" | 9\\n|-\\n| {{u|Anubisvive}}\\n| align=\"center\" | 9\\n| align=\"center\" | 0\\n| align=\"center\" | 0\\n| align=\"center\" | 9\\n|-\\n| {{u|1Dalanyo}}\\n| align=\"center\" | 9\\n| align=\"center\" | 0\\n| align=\"center\" | 0\\n| align=\"center\" | 9\\n|-\\n| {{u|Troesel}}\\n| align=\"center\" | 0\\n| align=\"center\" | 0\\n| align=\"center\" | 9\\n| align=\"center\" | 9\\n|-\\n| {{u|Lorena1988}}\\n| align=\"center\" | 9\\n| align=\"center\" | 0\\n| align=\"center\" | 0\\n| align=\"center\" | 9\\n|-\\n| {{u|EnriqueZor}}\\n| align=\"center\" | 0\\n| align=\"center\" | 0\\n| align=\"center\" | 9\\n| align=\"center\" | 9\\n|-\\n| {{u|El Pantera}}\\n| align=\"center\" | 8\\n| align=\"center\" | 0\\n| align=\"center\" | 1\\n| align=\"center\" | 9\\n|-\\n| {{u|Haizea S.}}\\n| align=\"center\" | 0\\n| align=\"center\" | 9\\n| align=\"center\" | 0\\n| align=\"center\" | 9\\n|-\\n| {{u|Leviatan189}}\\n| align=\"center\" | 9\\n| align=\"center\" | 0\\n| align=\"center\" | 0\\n| align=\"center\" | 9\\n|-\\n| {{u|Acuencam}}\\n| align=\"center\" | 9\\n| align=\"center\" | 0\\n| align=\"center\" | 0\\n| align=\"center\" | 9\\n|-\\n| {{u|JesusLucena27}}\\n| align=\"center\" | 0\\n| align=\"center\" | 0\\n| align=\"center\" | 9\\n| align=\"center\" | 9\\n|-\\n| {{u|Freddymalde}}\\n| align=\"center\" | 8\\n| align=\"center\" | 0\\n| align=\"center\" | 0\\n| align=\"center\" | 8\\n|-\\n| {{u|Joselbernal}}\\n| align=\"center\" | 0\\n| align=\"center\" | 8\\n| align=\"center\" | 0\\n| align=\"center\" | 8\\n|-\\n| {{u|JTechno}}\\n| align=\"center\" | 8\\n| align=\"center\" | 0\\n| align=\"center\" | 0\\n| align=\"center\" | 8\\n|-\\n| {{u|Sagarvel}}\\n| align=\"center\" | 8\\n| align=\"center\" | 0\\n| align=\"center\" | 0\\n| align=\"center\" | 8\\n|-\\n| {{u|Onioram}}\\n| align=\"center\" | 8\\n| align=\"center\" | 0\\n| align=\"center\" | 0\\n| align=\"center\" | 8\\n|-\\n| {{u|Jafras}}\\n| align=\"center\" | 8\\n| align=\"center\" | 0\\n| align=\"center\" | 0\\n| align=\"center\" | 8\\n|-\\n| {{u|Jaime Juan}}\\n| align=\"center\" | 8\\n| align=\"center\" | 0\\n| align=\"center\" | 0\\n| align=\"center\" | 8\\n|-\\n| {{u|PereiradosReis}}\\n| align=\"center\" | 8\\n| align=\"center\" | 0\\n| align=\"center\" | 0\\n| align=\"center\" | 8\\n|-\\n| {{u|Amfeli}}\\n| align=\"center\" | 0\\n| align=\"center\" | 0\\n| align=\"center\" | 8\\n| align=\"center\" | 8\\n|-\\n| {{u|Saul moreno}}\\n| align=\"center\" | 0\\n| align=\"center\" | 0\\n| align=\"center\" | 8\\n| align=\"center\" | 8\\n|-\\n| {{u|Gegomez}}\\n| align=\"center\" | 8\\n| align=\"center\" | 0\\n| align=\"center\" | 0\\n| align=\"center\" | 8\\n|-\\n| {{u|Javialji}}\\n| align=\"center\" | 0\\n| align=\"center\" | 0\\n| align=\"center\" | 8\\n| align=\"center\" | 8\\n|-\\n| {{u|Rafa Diez}}\\n| align=\"center\" | 0\\n| align=\"center\" | 0\\n| align=\"center\" | 8\\n| align=\"center\" | 8\\n|-\\n| {{u|TheScrewman11}}\\n| align=\"center\" | 0\\n| align=\"center\" | 8\\n| align=\"center\" | 0\\n| align=\"center\" | 8\\n|-\\n| {{u|Rastrojo}}\\n| align=\"center\" | 8\\n| align=\"center\" | 0\\n| align=\"center\" | 0\\n| align=\"center\" | 8\\n|-\\n| {{u|Evita000000}}\\n| align=\"center\" | 8\\n| align=\"center\" | 0\\n| align=\"center\" | 0\\n| align=\"center\" | 8\\n|-\\n| {{u|Elpringado}}\\n| align=\"center\" | 8\\n| align=\"center\" | 0\\n| align=\"center\" | 0\\n| align=\"center\" | 8\\n|-\\n| {{u|Zangolotina}}\\n| align=\"center\" | 8\\n| align=\"center\" | 0\\n| align=\"center\" | 0\\n| align=\"center\" | 8\\n|-\\n| {{u|Fdonatoledo}}\\n| align=\"center\" | 8\\n| align=\"center\" | 0\\n| align=\"center\" | 0\\n| align=\"center\" | 8\\n|-\\n| {{u|BoaGon}}\\n| align=\"center\" | 0\\n| align=\"center\" | 8\\n| align=\"center\" | 0\\n| align=\"center\" | 8\\n|-\\n| {{u|Ebaquero}}\\n| align=\"center\" | 8\\n| align=\"center\" | 0\\n| align=\"center\" | 0\\n| align=\"center\" | 8\\n|-\\n| {{u|MiraAlCel}}\\n| align=\"center\" | 8\\n| align=\"center\" | 0\\n| align=\"center\" | 0\\n| align=\"center\" | 8\\n|-\\n| {{u|Kuock}}\\n| align=\"center\" | 8\\n| align=\"center\" | 0\\n| align=\"center\" | 0\\n| align=\"center\" | 8\\n|-\\n| [https://www.flickr.com/people/78391947@N06 Antonio L]\\n| align=\"center\" | 8\\n| align=\"center\" | 0\\n| align=\"center\" | 0\\n| align=\"center\" | 8\\n|-\\n| {{u|Toporaton}}\\n| align=\"center\" | 0\\n| align=\"center\" | 8\\n| align=\"center\" | 0\\n| align=\"center\" | 8\\n|-\\n| {{u|Tordo12}}\\n| align=\"center\" | 0\\n| align=\"center\" | 8\\n| align=\"center\" | 0\\n| align=\"center\" | 8\\n|-\\n| {{u|Whistletraveler}}\\n| align=\"center\" | 7\\n| align=\"center\" | 0\\n| align=\"center\" | 0\\n| align=\"center\" | 7\\n|-\\n| {{u|Angeldp}}\\n| align=\"center\" | 7\\n| align=\"center\" | 0\\n| align=\"center\" | 0\\n| align=\"center\" | 7\\n|-\\n| {{u|Jenni sv}}\\n| align=\"center\" | 0\\n| align=\"center\" | 0\\n| align=\"center\" | 7\\n| align=\"center\" | 7\\n|-\\n| {{u|David Reina Roja}}\\n| align=\"center\" | 0\\n| align=\"center\" | 7\\n| align=\"center\" | 0\\n| align=\"center\" | 7\\n|-\\n| {{u|Emesax}}\\n| align=\"center\" | 7\\n| align=\"center\" | 0\\n| align=\"center\" | 0\\n| align=\"center\" | 7\\n|-\\n| {{u|Abel Mu\\xf1oz}}\\n| align=\"center\" | 7\\n| align=\"center\" | 0\\n| align=\"center\" | 0\\n| align=\"center\" | 7\\n|-\\n| {{u|Dr.Chandra}}\\n| align=\"center\" | 7\\n| align=\"center\" | 0\\n| align=\"center\" | 0\\n| align=\"center\" | 7\\n|-\\n| {{u|Elisamar}}\\n| align=\"center\" | 0\\n| align=\"center\" | 7\\n| align=\"center\" | 0\\n| align=\"center\" | 7\\n|-\\n| {{u|El Caminante y su Sombra}}\\n| align=\"center\" | 0\\n| align=\"center\" | 0\\n| align=\"center\" | 7\\n| align=\"center\" | 7\\n|-\\n| {{u|Mabi1403}}\\n| align=\"center\" | 0\\n| align=\"center\" | 0\\n| align=\"center\" | 7\\n| align=\"center\" | 7\\n|-\\n| {{u|Mcdwmont}}\\n| align=\"center\" | 0\\n| align=\"center\" | 7\\n| align=\"center\" | 0\\n| align=\"center\" | 7\\n|-\\n| {{u|Wallet Mr}}\\n| align=\"center\" | 0\\n| align=\"center\" | 7\\n| align=\"center\" | 0\\n| align=\"center\" | 7\\n|-\\n| {{u|Cesarmenes}}\\n| align=\"center\" | 7\\n| align=\"center\" | 0\\n| align=\"center\" | 0\\n| align=\"center\" | 7\\n|-\\n| {{u|Ilcantabria}}\\n| align=\"center\" | 7\\n| align=\"center\" | 0\\n| align=\"center\" | 0\\n| align=\"center\" | 7\\n|-\\n| {{u|Mscs}}\\n| align=\"center\" | 0\\n| align=\"center\" | 0\\n| align=\"center\" | 7\\n| align=\"center\" | 7\\n|-\\n| {{u|Webposible}}\\n| align=\"center\" | 7\\n| align=\"center\" | 0\\n| align=\"center\" | 0\\n| align=\"center\" | 7\\n|-\\n| {{u|Ricardodorda}}\\n| align=\"center\" | 7\\n| align=\"center\" | 0\\n| align=\"center\" | 0\\n| align=\"center\" | 7\\n|-\\n| {{u|FabioGag}}\\n| align=\"center\" | 0\\n| align=\"center\" | 7\\n| align=\"center\" | 0\\n| align=\"center\" | 7\\n|-\\n| {{u|Olgapibars}}\\n| align=\"center\" | 0\\n| align=\"center\" | 7\\n| align=\"center\" | 0\\n| align=\"center\" | 7\\n|-\\n| {{u|Pilarflores}}\\n| align=\"center\" | 0\\n| align=\"center\" | 0\\n| align=\"center\" | 7\\n| align=\"center\" | 7\\n|-\\n| {{u|Jos\\xe9 Francisco Herrero}}\\n| align=\"center\" | 0\\n| align=\"center\" | 7\\n| align=\"center\" | 0\\n| align=\"center\" | 7\\n|-\\n| {{u|Jordi Carceller Comas}}\\n| align=\"center\" | 0\\n| align=\"center\" | 7\\n| align=\"center\" | 0\\n| align=\"center\" | 7\\n|-\\n| {{u|Farmoa11}}\\n| align=\"center\" | 0\\n| align=\"center\" | 7\\n| align=\"center\" | 0\\n| align=\"center\" | 7\\n|-\\n| {{u|Festeret}}\\n| align=\"center\" | 7\\n| align=\"center\" | 0\\n| align=\"center\" | 0\\n| align=\"center\" | 7\\n|-\\n| {{u|KatiaMO}}\\n| align=\"center\" | 0\\n| align=\"center\" | 7\\n| align=\"center\" | 0\\n| align=\"center\" | 7\\n|-\\n| {{u|Kevin Mesa Vargas}}\\n| align=\"center\" | 0\\n| align=\"center\" | 7\\n| align=\"center\" | 0\\n| align=\"center\" | 7\\n|-\\n| {{u|Jflosada}}\\n| align=\"center\" | 0\\n| align=\"center\" | 0\\n| align=\"center\" | 7\\n| align=\"center\" | 7\\n|-\\n| {{u|Seguicollar}}\\n| align=\"center\" | 7\\n| align=\"center\" | 0\\n| align=\"center\" | 0\\n| align=\"center\" | 7\\n|-\\n| {{u|Noeliagonzalezperezz}}\\n| align=\"center\" | 0\\n| align=\"center\" | 0\\n| align=\"center\" | 7\\n| align=\"center\" | 7\\n|-\\n| {{u|ManuMaldo}}\\n| align=\"center\" | 0\\n| align=\"center\" | 6\\n| align=\"center\" | 0\\n| align=\"center\" | 6\\n|-\\n| {{u|Jos\\xe9 Luis Garc\\xeda-Isla}}\\n| align=\"center\" | 6\\n| align=\"center\" | 0\\n| align=\"center\" | 0\\n| align=\"center\" | 6\\n|-\\n| {{u|Mbtirado}}\\n| align=\"center\" | 0\\n| align=\"center\" | 0\\n| align=\"center\" | 6\\n| align=\"center\" | 6\\n|-\\n| {{u|Juanmu93}}\\n| align=\"center\" | 6\\n| align=\"center\" | 0\\n| align=\"center\" | 0\\n| align=\"center\" | 6\\n|-\\n| {{u|Melreneth}}\\n| align=\"center\" | 6\\n| align=\"center\" | 0\\n| align=\"center\" | 0\\n| align=\"center\" | 6\\n|-\\n| {{u|Maduixa}}\\n| align=\"center\" | 6\\n| align=\"center\" | 0\\n| align=\"center\" | 0\\n| align=\"center\" | 6\\n|-\\n| {{u|Nemosineaudiovisual}}\\n| align=\"center\" | 6\\n| align=\"center\" | 0\\n| align=\"center\" | 0\\n| align=\"center\" | 6\\n|-\\n| {{u|KekunESP}}\\n| align=\"center\" | 6\\n| align=\"center\" | 0\\n| align=\"center\" | 0\\n| align=\"center\" | 6\\n|-\\n| {{u|Nachway}}\\n| align=\"center\" | 6\\n| align=\"center\" | 0\\n| align=\"center\" | 0\\n| align=\"center\" | 6\\n|-\\n| {{u|Kepassatio}}\\n| align=\"center\" | 0\\n| align=\"center\" | 6\\n| align=\"center\" | 0\\n| align=\"center\" | 6\\n|-\\n| {{u|Paco Pa\\xf1os}}\\n| align=\"center\" | 6\\n| align=\"center\" | 0\\n| align=\"center\" | 0\\n| align=\"center\" | 6\\n|-\\n| {{u|Javierme}}\\n| align=\"center\" | 6\\n| align=\"center\" | 0\\n| align=\"center\" | 0\\n| align=\"center\" | 6\\n|-\\n| {{u|Murciopia}}\\n| align=\"center\" | 0\\n| align=\"center\" | 6\\n| align=\"center\" | 0\\n| align=\"center\" | 6\\n|-\\n| {{u|Laia G\\xf3mez Mu\\xf1oz}}\\n| align=\"center\" | 6\\n| align=\"center\" | 0\\n| align=\"center\" | 0\\n| align=\"center\" | 6\\n|-\\n| {{u|Jjimen18}}\\n| align=\"center\" | 0\\n| align=\"center\" | 0\\n| align=\"center\" | 6\\n| align=\"center\" | 6\\n|-\\n| {{u|Phanzom}}\\n| align=\"center\" | 0\\n| align=\"center\" | 0\\n| align=\"center\" | 6\\n| align=\"center\" | 6\\n|-\\n| {{u|Miguel A. BlancoM}}\\n| align=\"center\" | 6\\n| align=\"center\" | 0\\n| align=\"center\" | 0\\n| align=\"center\" | 6\\n|-\\n| {{u|Maria missae}}\\n| align=\"center\" | 0\\n| align=\"center\" | 0\\n| align=\"center\" | 6\\n| align=\"center\" | 6\\n|-\\n| {{u|Guillo86}}\\n| align=\"center\" | 6\\n| align=\"center\" | 0\\n| align=\"center\" | 0\\n| align=\"center\" | 6\\n|-\\n| {{u|Silviavargasg}}\\n| align=\"center\" | 6\\n| align=\"center\" | 0\\n| align=\"center\" | 0\\n| align=\"center\" | 6\\n|-\\n| {{u|Sopasconhonda}}\\n| align=\"center\" | 6\\n| align=\"center\" | 0\\n| align=\"center\" | 0\\n| align=\"center\" | 6\\n|-\\n| {{u|Sabrina Huang}}\\n| align=\"center\" | 0\\n| align=\"center\" | 0\\n| align=\"center\" | 6\\n| align=\"center\" | 6\\n|-\\n| {{u|Hiddenpools}}\\n| align=\"center\" | 0\\n| align=\"center\" | 6\\n| align=\"center\" | 0\\n| align=\"center\" | 6\\n|-\\n| {{u|Davejsy1975}}\\n| align=\"center\" | 6\\n| align=\"center\" | 0\\n| align=\"center\" | 0\\n| align=\"center\" | 6\\n|-\\n| {{u|Sherwik}}\\n| align=\"center\" | 0\\n| align=\"center\" | 0\\n| align=\"center\" | 6\\n| align=\"center\" | 6\\n|-\\n| {{u|Sergiuchi}}\\n| align=\"center\" | 6\\n| align=\"center\" | 0\\n| align=\"center\" | 0\\n| align=\"center\" | 6\\n|-\\n| {{u|Diherson}}\\n| align=\"center\" | 0\\n| align=\"center\" | 6\\n| align=\"center\" | 0\\n| align=\"center\" | 6\\n|-\\n| {{u|Samornet}}\\n| align=\"center\" | 6\\n| align=\"center\" | 0\\n| align=\"center\" | 0\\n| align=\"center\" | 6\\n|-\\n| {{u|Havista}}\\n| align=\"center\" | 0\\n| align=\"center\" | 0\\n| align=\"center\" | 6\\n| align=\"center\" | 6\\n|-\\n| {{u|Adrianrodriguezfotografia}}\\n| align=\"center\" | 6\\n| align=\"center\" | 0\\n| align=\"center\" | 0\\n| align=\"center\" | 6\\n|-\\n| {{u|Yolandoska}}\\n| align=\"center\" | 0\\n| align=\"center\" | 0\\n| align=\"center\" | 6\\n| align=\"center\" | 6\\n|-\\n| {{u|Felipehuelva86}}\\n| align=\"center\" | 6\\n| align=\"center\" | 0\\n| align=\"center\" | 0\\n| align=\"center\" | 6\\n|-\\n| {{u|Teamsamuraispain}}\\n| align=\"center\" | 0\\n| align=\"center\" | 6\\n| align=\"center\" | 0\\n| align=\"center\" | 6\\n|-\\n| {{u|Rita.siklosi}}\\n| align=\"center\" | 0\\n| align=\"center\" | 6\\n| align=\"center\" | 0\\n| align=\"center\" | 6\\n|-\\n| {{u|Saraconlaccasolito}}\\n| align=\"center\" | 0\\n| align=\"center\" | 0\\n| align=\"center\" | 6\\n| align=\"center\" | 6\\n|-\\n| {{u|Fernando Mejido}}\\n| align=\"center\" | 6\\n| align=\"center\" | 0\\n| align=\"center\" | 0\\n| align=\"center\" | 6\\n|-\\n| {{u|Amosya}}\\n| align=\"center\" | 6\\n| align=\"center\" | 0\\n| align=\"center\" | 0\\n| align=\"center\" | 6\\n|-\\n| {{u|Clanzas}}\\n| align=\"center\" | 0\\n| align=\"center\" | 0\\n| align=\"center\" | 6\\n| align=\"center\" | 6\\n|-\\n| {{u|Croonenberghs}}\\n| align=\"center\" | 0\\n| align=\"center\" | 0\\n| align=\"center\" | 6\\n| align=\"center\" | 6\\n|-\\n| {{u|Leticia Castellano S\\xe1nchez}}\\n| align=\"center\" | 5\\n| align=\"center\" | 0\\n| align=\"center\" | 0\\n| align=\"center\" | 5\\n|-\\n| {{u|Pacomoloco}}\\n| align=\"center\" | 5\\n| align=\"center\" | 0\\n| align=\"center\" | 0\\n| align=\"center\" | 5\\n|-\\n| {{u|Yonathan Tabaibo}}\\n| align=\"center\" | 5\\n| align=\"center\" | 0\\n| align=\"center\" | 0\\n| align=\"center\" | 5\\n|-\\n| {{u|Yulia K}}\\n| align=\"center\" | 5\\n| align=\"center\" | 0\\n| align=\"center\" | 0\\n| align=\"center\" | 5\\n|-\\n| {{u|Bruno Fito}}\\n| align=\"center\" | 5\\n| align=\"center\" | 0\\n| align=\"center\" | 0\\n| align=\"center\" | 5\\n|-\\n| {{u|Miriam.nh}}\\n| align=\"center\" | 5\\n| align=\"center\" | 0\\n| align=\"center\" | 0\\n| align=\"center\" | 5\\n|-\\n| {{u|DavidGranda}}\\n| align=\"center\" | 0\\n| align=\"center\" | 0\\n| align=\"center\" | 5\\n| align=\"center\" | 5\\n|-\\n| {{u|Galopax}}\\n| align=\"center\" | 0\\n| align=\"center\" | 0\\n| align=\"center\" | 5\\n| align=\"center\" | 5\\n|-\\n| {{u|Viryinia9}}\\n| align=\"center\" | 5\\n| align=\"center\" | 0\\n| align=\"center\" | 0\\n| align=\"center\" | 5\\n|-\\n| {{u|Darina-loveye}}\\n| align=\"center\" | 0\\n| align=\"center\" | 5\\n| align=\"center\" | 0\\n| align=\"center\" | 5\\n|-\\n| {{u|Architectzaker}}\\n| align=\"center\" | 0\\n| align=\"center\" | 0\\n| align=\"center\" | 5\\n| align=\"center\" | 5\\n|-\\n| {{u|Josep Melero}}\\n| align=\"center\" | 5\\n| align=\"center\" | 0\\n| align=\"center\" | 0\\n| align=\"center\" | 5\\n|-\\n| {{u|N\\xe9stor Mart\\xednez Mart\\xednez}}\\n| align=\"center\" | 5\\n| align=\"center\" | 0\\n| align=\"center\" | 0\\n| align=\"center\" | 5\\n|-\\n| {{u|Noelia Campillo}}\\n| align=\"center\" | 5\\n| align=\"center\" | 0\\n| align=\"center\" | 0\\n| align=\"center\" | 5\\n|-\\n| {{u|Vane loves earth}}\\n| align=\"center\" | 5\\n| align=\"center\" | 0\\n| align=\"center\" | 0\\n| align=\"center\" | 5\\n|-\\n| {{u|Jrsaez}}\\n| align=\"center\" | 0\\n| align=\"center\" | 0\\n| align=\"center\" | 5\\n| align=\"center\" | 5\\n|-\\n| {{u|Armapi}}\\n| align=\"center\" | 5\\n| align=\"center\" | 0\\n| align=\"center\" | 0\\n| align=\"center\" | 5\\n|-\\n| {{u|Nikianiagel}}\\n| align=\"center\" | 5\\n| align=\"center\" | 0\\n| align=\"center\" | 0\\n| align=\"center\" | 5\\n|-\\n| {{u|Aregatero26}}\\n| align=\"center\" | 0\\n| align=\"center\" | 0\\n| align=\"center\" | 5\\n| align=\"center\" | 5\\n|-\\n| {{u|Agbpress}}\\n| align=\"center\" | 5\\n| align=\"center\" | 0\\n| align=\"center\" | 0\\n| align=\"center\" | 5\\n|-\\n| {{u|Karen Franco M}}\\n| align=\"center\" | 0\\n| align=\"center\" | 5\\n| align=\"center\" | 0\\n| align=\"center\" | 5\\n|-\\n| {{u|Ezequielcabo}}\\n| align=\"center\" | 5\\n| align=\"center\" | 0\\n| align=\"center\" | 0\\n| align=\"center\" | 5\\n|-\\n| {{u|Fotosluis}}\\n| align=\"center\" | 5\\n| align=\"center\" | 0\\n| align=\"center\" | 0\\n| align=\"center\" | 5\\n|-\\n| {{u|SGGREDIAGA}}\\n| align=\"center\" | 0\\n| align=\"center\" | 0\\n| align=\"center\" | 5\\n| align=\"center\" | 5\\n|-\\n| {{u|Janisjoplin17}}\\n| align=\"center\" | 5\\n| align=\"center\" | 0\\n| align=\"center\" | 0\\n| align=\"center\" | 5\\n|-\\n| {{u|Donjuanique}}\\n| align=\"center\" | 0\\n| align=\"center\" | 5\\n| align=\"center\" | 0\\n| align=\"center\" | 5\\n|-\\n| {{u|Celalulii}}\\n| align=\"center\" | 5\\n| align=\"center\" | 0\\n| align=\"center\" | 0\\n| align=\"center\" | 5\\n|-\\n| {{u|B25es}}\\n| align=\"center\" | 5\\n| align=\"center\" | 0\\n| align=\"center\" | 0\\n| align=\"center\" | 5\\n|-\\n| {{u|Marinator Sofos}}\\n| align=\"center\" | 5\\n| align=\"center\" | 0\\n| align=\"center\" | 0\\n| align=\"center\" | 5\\n|-\\n| {{u|Angel camu}}\\n| align=\"center\" | 5\\n| align=\"center\" | 0\\n| align=\"center\" | 0\\n| align=\"center\" | 5\\n|-\\n| {{u|Drodriguezmtb}}\\n| align=\"center\" | 0\\n| align=\"center\" | 5\\n| align=\"center\" | 0\\n| align=\"center\" | 5\\n|-\\n| {{u|Jecayarga}}\\n| align=\"center\" | 5\\n| align=\"center\" | 0\\n| align=\"center\" | 0\\n| align=\"center\" | 5\\n|-\\n| {{u|Metalloid}}\\n| align=\"center\" | 5\\n| align=\"center\" | 0\\n| align=\"center\" | 0\\n| align=\"center\" | 5\\n|-\\n| {{u|Charucag}}\\n| align=\"center\" | 0\\n| align=\"center\" | 5\\n| align=\"center\" | 0\\n| align=\"center\" | 5\\n|-\\n| {{u|Jaramberri}}\\n| align=\"center\" | 0\\n| align=\"center\" | 5\\n| align=\"center\" | 0\\n| align=\"center\" | 5\\n|-\\n| {{u|Eckhard Bick}}\\n| align=\"center\" | 0\\n| align=\"center\" | 5\\n| align=\"center\" | 0\\n| align=\"center\" | 5\\n|-\\n| {{u|Jaimesm}}\\n| align=\"center\" | 0\\n| align=\"center\" | 0\\n| align=\"center\" | 5\\n| align=\"center\" | 5\\n|-\\n| {{u|DavidMarqu\\xe9sGarc\\xeda}}\\n| align=\"center\" | 5\\n| align=\"center\" | 0\\n| align=\"center\" | 0\\n| align=\"center\" | 5\\n|-\\n| {{u|Anaarias}}\\n| align=\"center\" | 5\\n| align=\"center\" | 0\\n| align=\"center\" | 0\\n| align=\"center\" | 5\\n|-\\n| {{u|Jag352}}\\n| align=\"center\" | 0\\n| align=\"center\" | 5\\n| align=\"center\" | 0\\n| align=\"center\" | 5\\n|-\\n| {{u|Jesusccastillo}}\\n| align=\"center\" | 5\\n| align=\"center\" | 0\\n| align=\"center\" | 0\\n| align=\"center\" | 5\\n|-\\n| {{u|Marcela Escandell}}\\n| align=\"center\" | 5\\n| align=\"center\" | 0\\n| align=\"center\" | 0\\n| align=\"center\" | 5\\n|-\\n| {{u|Marcin Wereszczynski}}\\n| align=\"center\" | 5\\n| align=\"center\" | 0\\n| align=\"center\" | 0\\n| align=\"center\" | 5\\n|-\\n| {{u|Malmirk}}\\n| align=\"center\" | 0\\n| align=\"center\" | 0\\n| align=\"center\" | 5\\n| align=\"center\" | 5\\n|-\\n| [https://www.flickr.com/people/66012514@N03 Maximo Remon]\\n| align=\"center\" | 4\\n| align=\"center\" | 0\\n| align=\"center\" | 0\\n| align=\"center\" | 4\\n|-\\n| {{u|Marc capdevila}}\\n| align=\"center\" | 0\\n| align=\"center\" | 4\\n| align=\"center\" | 0\\n| align=\"center\" | 4\\n|-\\n| {{u|Katy Espino}}\\n| align=\"center\" | 4\\n| align=\"center\" | 0\\n| align=\"center\" | 0\\n| align=\"center\" | 4\\n|-\\n| {{u|Cadiz-Turismo}}\\n| align=\"center\" | 4\\n| align=\"center\" | 0\\n| align=\"center\" | 0\\n| align=\"center\" | 4\\n|-\\n| {{u|B\\xf6rste}}\\n| align=\"center\" | 4\\n| align=\"center\" | 0\\n| align=\"center\" | 0\\n| align=\"center\" | 4\\n|-\\n| {{u|Beauruguay}}\\n| align=\"center\" | 4\\n| align=\"center\" | 0\\n| align=\"center\" | 0\\n| align=\"center\" | 4\\n|-\\n| [https://www.flickr.com/people/53534967@N07 Carlos Olmedillas. 500 followers!!]\\n| align=\"center\" | 4\\n| align=\"center\" | 0\\n| align=\"center\" | 0\\n| align=\"center\" | 4\\n|-\\n| {{u|Dobroide}}\\n| align=\"center\" | 0\\n| align=\"center\" | 0\\n| align=\"center\" | 4\\n| align=\"center\" | 4\\n|-\\n| {{u|Dancara}}\\n| align=\"center\" | 0\\n| align=\"center\" | 4\\n| align=\"center\" | 0\\n| align=\"center\" | 4\\n|-\\n| {{u|Aval34}}\\n| align=\"center\" | 4\\n| align=\"center\" | 0\\n| align=\"center\" | 0\\n| align=\"center\" | 4\\n|-\\n| [https://www.flickr.com/people/55645486@N03 jose martinez navarro]\\n| align=\"center\" | 4\\n| align=\"center\" | 0\\n| align=\"center\" | 0\\n| align=\"center\" | 4\\n|-\\n| {{u|Lucapelcp}}\\n| align=\"center\" | 0\\n| align=\"center\" | 4\\n| align=\"center\" | 0\\n| align=\"center\" | 4\\n|-\\n| {{u|Mmcyjcp}}\\n| align=\"center\" | 4\\n| align=\"center\" | 0\\n| align=\"center\" | 0\\n| align=\"center\" | 4\\n|-\\n| {{u|Aureo82}}\\n| align=\"center\" | 0\\n| align=\"center\" | 4\\n| align=\"center\" | 0\\n| align=\"center\" | 4\\n|-\\n| {{u|ALFONSO GONZALEZ RODENAS}}\\n| align=\"center\" | 4\\n| align=\"center\" | 0\\n| align=\"center\" | 0\\n| align=\"center\" | 4\\n|-\\n| {{u|Ehades}}\\n| align=\"center\" | 4\\n| align=\"center\" | 0\\n| align=\"center\" | 0\\n| align=\"center\" | 4\\n|-\\n| {{u|Luislo1969}}\\n| align=\"center\" | 4\\n| align=\"center\" | 0\\n| align=\"center\" | 0\\n| align=\"center\" | 4\\n|-\\n| {{u|MichiNerja}}\\n| align=\"center\" | 4\\n| align=\"center\" | 0\\n| align=\"center\" | 0\\n| align=\"center\" | 4\\n|-\\n| {{u|Dasanun}}\\n| align=\"center\" | 4\\n| align=\"center\" | 0\\n| align=\"center\" | 0\\n| align=\"center\" | 4\\n|-\\n| [https://www.flickr.com/people/57244669@N08 Raul]\\n| align=\"center\" | 4\\n| align=\"center\" | 0\\n| align=\"center\" | 0\\n| align=\"center\" | 4\\n|-\\n| {{u|Bufoga}}\\n| align=\"center\" | 0\\n| align=\"center\" | 0\\n| align=\"center\" | 4\\n| align=\"center\" | 4\\n|-\\n| {{u|APerdi}}\\n| align=\"center\" | 0\\n| align=\"center\" | 0\\n| align=\"center\" | 4\\n| align=\"center\" | 4\\n|-\\n| {{u|Bixovolador}}\\n| align=\"center\" | 4\\n| align=\"center\" | 0\\n| align=\"center\" | 0\\n| align=\"center\" | 4\\n|-\\n| {{u|Foto.jandro}}\\n| align=\"center\" | 0\\n| align=\"center\" | 4\\n| align=\"center\" | 0\\n| align=\"center\" | 4\\n|-\\n| [https://www.flickr.com/people/15008142@N07 Retratista de paisajes y paisanajes]\\n| align=\"center\" | 4\\n| align=\"center\" | 0\\n| align=\"center\" | 0\\n| align=\"center\" | 4\\n|-\\n| {{u|Reketett}}\\n| align=\"center\" | 4\\n| align=\"center\" | 0\\n| align=\"center\" | 0\\n| align=\"center\" | 4\\n|-\\n| {{u|Annamoreno}}\\n| align=\"center\" | 0\\n| align=\"center\" | 4\\n| align=\"center\" | 0\\n| align=\"center\" | 4\\n|-\\n| {{u|Steevnco}}\\n| align=\"center\" | 0\\n| align=\"center\" | 4\\n| align=\"center\" | 0\\n| align=\"center\" | 4\\n|-\\n| {{u|Jesus627}}\\n| align=\"center\" | 0\\n| align=\"center\" | 0\\n| align=\"center\" | 4\\n| align=\"center\" | 4\\n|-\\n| {{u|Ameliacsj}}\\n| align=\"center\" | 4\\n| align=\"center\" | 0\\n| align=\"center\" | 0\\n| align=\"center\" | 4\\n|-\\n| {{u|SeoHae}}\\n| align=\"center\" | 4\\n| align=\"center\" | 0\\n| align=\"center\" | 0\\n| align=\"center\" | 4\\n|-\\n| {{u|Julio armelles}}\\n| align=\"center\" | 4\\n| align=\"center\" | 0\\n| align=\"center\" | 0\\n| align=\"center\" | 4\\n|-\\n| {{u|Sergionc87}}\\n| align=\"center\" | 0\\n| align=\"center\" | 0\\n| align=\"center\" | 4\\n| align=\"center\" | 4\\n|-\\n| {{u|Pedro Francisco Cond\\xe9s de la Torre}}\\n| align=\"center\" | 4\\n| align=\"center\" | 0\\n| align=\"center\" | 0\\n| align=\"center\" | 4\\n|-\\n| {{u|Cazuzana}}\\n| align=\"center\" | 4\\n| align=\"center\" | 0\\n| align=\"center\" | 0\\n| align=\"center\" | 4\\n|-\\n| {{u|Gonzalo.chumillas}}\\n| align=\"center\" | 0\\n| align=\"center\" | 0\\n| align=\"center\" | 4\\n| align=\"center\" | 4\\n|-\\n| {{u|Case\\xf1osanchez}}\\n| align=\"center\" | 0\\n| align=\"center\" | 4\\n| align=\"center\" | 0\\n| align=\"center\" | 4\\n|-\\n| {{u|Scmjht}}\\n| align=\"center\" | 4\\n| align=\"center\" | 0\\n| align=\"center\" | 0\\n| align=\"center\" | 4\\n|-\\n| {{u|Javier Pina}}\\n| align=\"center\" | 0\\n| align=\"center\" | 0\\n| align=\"center\" | 4\\n| align=\"center\" | 4\\n|-\\n| {{u|Ollevrequ\\xed}}\\n| align=\"center\" | 0\\n| align=\"center\" | 0\\n| align=\"center\" | 4\\n| align=\"center\" | 4\\n|-\\n| {{u|Chestal 5}}\\n| align=\"center\" | 4\\n| align=\"center\" | 0\\n| align=\"center\" | 0\\n| align=\"center\" | 4\\n|-\\n| {{u|Stela bm}}\\n| align=\"center\" | 4\\n| align=\"center\" | 0\\n| align=\"center\" | 0\\n| align=\"center\" | 4\\n|-\\n| {{u|Raimundo Pastor}}\\n| align=\"center\" | 0\\n| align=\"center\" | 0\\n| align=\"center\" | 4\\n| align=\"center\" | 4\\n|-\\n| {{u|Nasasmi}}\\n| align=\"center\" | 0\\n| align=\"center\" | 0\\n| align=\"center\" | 4\\n| align=\"center\" | 4\\n|-\\n| {{u|Rodric valls}}\\n| align=\"center\" | 4\\n| align=\"center\" | 0\\n| align=\"center\" | 0\\n| align=\"center\" | 4\\n|-\\n| {{u|Isidro Jabato}}\\n| align=\"center\" | 0\\n| align=\"center\" | 4\\n| align=\"center\" | 0\\n| align=\"center\" | 4\\n|-\\n| {{u|Juanjosepascua}}\\n| align=\"center\" | 4\\n| align=\"center\" | 0\\n| align=\"center\" | 0\\n| align=\"center\" | 4\\n|-\\n| {{u|Jpalonsog}}\\n| align=\"center\" | 0\\n| align=\"center\" | 4\\n| align=\"center\" | 0\\n| align=\"center\" | 4\\n|-\\n| {{u|Ripjar}}\\n| align=\"center\" | 0\\n| align=\"center\" | 4\\n| align=\"center\" | 0\\n| align=\"center\" | 4\\n|-\\n| {{u|ClauFran03}}\\n| align=\"center\" | 0\\n| align=\"center\" | 0\\n| align=\"center\" | 4\\n| align=\"center\" | 4\\n|-\\n| {{u|Nisoca}}\\n| align=\"center\" | 4\\n| align=\"center\" | 0\\n| align=\"center\" | 0\\n| align=\"center\" | 4\\n|-\\n| {{u|Poqew}}\\n| align=\"center\" | 3\\n| align=\"center\" | 0\\n| align=\"center\" | 0\\n| align=\"center\" | 3\\n|-\\n| {{u|Marianonicolasgil1971}}\\n| align=\"center\" | 3\\n| align=\"center\" | 0\\n| align=\"center\" | 0\\n| align=\"center\" | 3\\n|-\\n| {{u|Sara Bento Photography}}\\n| align=\"center\" | 3\\n| align=\"center\" | 0\\n| align=\"center\" | 0\\n| align=\"center\" | 3\\n|-\\n| {{u|Metrodom}}\\n| align=\"center\" | 0\\n| align=\"center\" | 0\\n| align=\"center\" | 3\\n| align=\"center\" | 3\\n|-\\n| {{u|PoisonedDragonfly}}\\n| align=\"center\" | 0\\n| align=\"center\" | 3\\n| align=\"center\" | 0\\n| align=\"center\" | 3\\n|-\\n| {{u|Angela003}}\\n| align=\"center\" | 0\\n| align=\"center\" | 0\\n| align=\"center\" | 3\\n| align=\"center\" | 3\\n|-\\n| {{u|Queroseno}}\\n| align=\"center\" | 0\\n| align=\"center\" | 3\\n| align=\"center\" | 0\\n| align=\"center\" | 3\\n|-\\n| {{u|Mekong56}}\\n| align=\"center\" | 0\\n| align=\"center\" | 0\\n| align=\"center\" | 3\\n| align=\"center\" | 3\\n|-\\n| {{u|Mario Borrasca}}\\n| align=\"center\" | 0\\n| align=\"center\" | 0\\n| align=\"center\" | 3\\n| align=\"center\" | 3\\n|-\\n| {{u|Marinalaves24}}\\n| align=\"center\" | 0\\n| align=\"center\" | 0\\n| align=\"center\" | 3\\n| align=\"center\" | 3\\n|-\\n| {{u|Rosinabeach}}\\n| align=\"center\" | 3\\n| align=\"center\" | 0\\n| align=\"center\" | 0\\n| align=\"center\" | 3\\n|-\\n| {{u|Martaubedar}}\\n| align=\"center\" | 0\\n| align=\"center\" | 3\\n| align=\"center\" | 0\\n| align=\"center\" | 3\\n|-\\n| {{u|Roman Machin}}\\n| align=\"center\" | 0\\n| align=\"center\" | 3\\n| align=\"center\" | 0\\n| align=\"center\" | 3\\n|-\\n| {{u|MartaBrito8}}\\n| align=\"center\" | 0\\n| align=\"center\" | 3\\n| align=\"center\" | 0\\n| align=\"center\" | 3\\n|-\\n| {{u|Maroto el bellaco}}\\n| align=\"center\" | 0\\n| align=\"center\" | 0\\n| align=\"center\" | 3\\n| align=\"center\" | 3\\n|-\\n| {{u|Anajg2}}\\n| align=\"center\" | 3\\n| align=\"center\" | 0\\n| align=\"center\" | 0\\n| align=\"center\" | 3\\n|-\\n| {{u|Rogarciah}}\\n| align=\"center\" | 0\\n| align=\"center\" | 3\\n| align=\"center\" | 0\\n| align=\"center\" | 3\\n|-\\n| {{u|Andrespg99}}\\n| align=\"center\" | 0\\n| align=\"center\" | 3\\n| align=\"center\" | 0\\n| align=\"center\" | 3\\n|-\\n| {{u|Sartoris1973}}\\n| align=\"center\" | 3\\n| align=\"center\" | 0\\n| align=\"center\" | 0\\n| align=\"center\" | 3\\n|-\\n| {{u|ArgiopeZen}}\\n| align=\"center\" | 3\\n| align=\"center\" | 0\\n| align=\"center\" | 0\\n| align=\"center\" | 3\\n|-\\n| {{u|PicsART05}}\\n| align=\"center\" | 0\\n| align=\"center\" | 3\\n| align=\"center\" | 0\\n| align=\"center\" | 3\\n|-\\n| {{u|Sofrita}}\\n| align=\"center\" | 0\\n| align=\"center\" | 3\\n| align=\"center\" | 0\\n| align=\"center\" | 3\\n|-\\n| {{u|Agustin de Sanluca}}\\n| align=\"center\" | 3\\n| align=\"center\" | 0\\n| align=\"center\" | 0\\n| align=\"center\" | 3\\n|-\\n| {{u|Nanysaurio}}\\n| align=\"center\" | 0\\n| align=\"center\" | 0\\n| align=\"center\" | 3\\n| align=\"center\" | 3\\n|-\\n| {{u|Ainhizem}}\\n| align=\"center\" | 0\\n| align=\"center\" | 3\\n| align=\"center\" | 0\\n| align=\"center\" | 3\\n|-\\n| {{u|Ratpenat123}}\\n| align=\"center\" | 0\\n| align=\"center\" | 0\\n| align=\"center\" | 3\\n| align=\"center\" | 3\\n|-\\n| {{u|Unaberta}}\\n| align=\"center\" | 0\\n| align=\"center\" | 0\\n| align=\"center\" | 3\\n| align=\"center\" | 3\\n|-\\n| {{u|Aliciamartincaballero}}\\n| align=\"center\" | 3\\n| align=\"center\" | 0\\n| align=\"center\" | 0\\n| align=\"center\" | 3\\n|-\\n| {{u|Susana Garz\\xf3n}}\\n| align=\"center\" | 0\\n| align=\"center\" | 0\\n| align=\"center\" | 3\\n| align=\"center\" | 3\\n|-\\n| {{u|Sucuruxa}}\\n| align=\"center\" | 3\\n| align=\"center\" | 0\\n| align=\"center\" | 0\\n| align=\"center\" | 3\\n|-\\n| {{u|Whoiscoque}}\\n| align=\"center\" | 3\\n| align=\"center\" | 0\\n| align=\"center\" | 0\\n| align=\"center\" | 3\\n|-\\n| {{u|NNoel}}\\n| align=\"center\" | 0\\n| align=\"center\" | 0\\n| align=\"center\" | 3\\n| align=\"center\" | 3\\n|-\\n| {{u|Aaroncm95}}\\n| align=\"center\" | 3\\n| align=\"center\" | 0\\n| align=\"center\" | 0\\n| align=\"center\" | 3\\n|-\\n| {{u|Msltortosa}}\\n| align=\"center\" | 0\\n| align=\"center\" | 3\\n| align=\"center\" | 0\\n| align=\"center\" | 3\\n|-\\n| {{u|ArneACP}}\\n| align=\"center\" | 3\\n| align=\"center\" | 0\\n| align=\"center\" | 0\\n| align=\"center\" | 3\\n|-\\n| {{u|Seanitero}}\\n| align=\"center\" | 0\\n| align=\"center\" | 3\\n| align=\"center\" | 0\\n| align=\"center\" | 3\\n|-\\n| {{u|PFranco75}}\\n| align=\"center\" | 3\\n| align=\"center\" | 0\\n| align=\"center\" | 0\\n| align=\"center\" | 3\\n|-\\n| {{u|Mrcsvte}}\\n| align=\"center\" | 0\\n| align=\"center\" | 3\\n| align=\"center\" | 0\\n| align=\"center\" | 3\\n|-\\n| {{u|Asturgreen}}\\n| align=\"center\" | 3\\n| align=\"center\" | 0\\n| align=\"center\" | 0\\n| align=\"center\" | 3\\n|-\\n| {{u|Pakitochus}}\\n| align=\"center\" | 3\\n| align=\"center\" | 0\\n| align=\"center\" | 0\\n| align=\"center\" | 3\\n|-\\n| {{u|Parnacor15}}\\n| align=\"center\" | 3\\n| align=\"center\" | 0\\n| align=\"center\" | 0\\n| align=\"center\" | 3\\n|-\\n| {{u|Pasi\\xf1o a Pasi\\xf1o}}\\n| align=\"center\" | 3\\n| align=\"center\" | 0\\n| align=\"center\" | 0\\n| align=\"center\" | 3\\n|-\\n| {{u|Pauet04}}\\n| align=\"center\" | 0\\n| align=\"center\" | 0\\n| align=\"center\" | 3\\n| align=\"center\" | 3\\n|-\\n| {{u|Pcaldenteypozo}}\\n| align=\"center\" | 3\\n| align=\"center\" | 0\\n| align=\"center\" | 0\\n| align=\"center\" | 3\\n|-\\n| [https://www.flickr.com/people/127949119@N05 Roberto Ortega]\\n| align=\"center\" | 3\\n| align=\"center\" | 0\\n| align=\"center\" | 0\\n| align=\"center\" | 3\\n|-\\n| {{u|Pedrotemb}}\\n| align=\"center\" | 0\\n| align=\"center\" | 3\\n| align=\"center\" | 0\\n| align=\"center\" | 3\\n|-\\n| {{u|Mirfack}}\\n| align=\"center\" | 3\\n| align=\"center\" | 0\\n| align=\"center\" | 0\\n| align=\"center\" | 3\\n|-\\n| {{u|Pepeparapepinponpan}}\\n| align=\"center\" | 3\\n| align=\"center\" | 0\\n| align=\"center\" | 0\\n| align=\"center\" | 3\\n|-\\n| {{u|TechArtGer}}\\n| align=\"center\" | 0\\n| align=\"center\" | 3\\n| align=\"center\" | 0\\n| align=\"center\" | 3\\n|-\\n| {{u|David.lopezgo9985}}\\n| align=\"center\" | 0\\n| align=\"center\" | 0\\n| align=\"center\" | 3\\n| align=\"center\" | 3\\n|-\\n| {{u|Juanherreros}}\\n| align=\"center\" | 0\\n| align=\"center\" | 0\\n| align=\"center\" | 3\\n| align=\"center\" | 3\\n|-\\n| {{u|Dadavid85}}\\n| align=\"center\" | 0\\n| align=\"center\" | 3\\n| align=\"center\" | 0\\n| align=\"center\" | 3\\n|-\\n| {{u|Jean Almart}}\\n| align=\"center\" | 3\\n| align=\"center\" | 0\\n| align=\"center\" | 0\\n| align=\"center\" | 3\\n|-\\n| {{u|DJGam2015}}\\n| align=\"center\" | 3\\n| align=\"center\" | 0\\n| align=\"center\" | 0\\n| align=\"center\" | 3\\n|-\\n| {{u|Jballest}}\\n| align=\"center\" | 3\\n| align=\"center\" | 0\\n| align=\"center\" | 0\\n| align=\"center\" | 3\\n|-\\n| {{u|Havel 93}}\\n| align=\"center\" | 3\\n| align=\"center\" | 0\\n| align=\"center\" | 0\\n| align=\"center\" | 3\\n|-\\n| {{u|Christian satxa}}\\n| align=\"center\" | 3\\n| align=\"center\" | 0\\n| align=\"center\" | 0\\n| align=\"center\" | 3\\n|-\\n| {{u|JAVITROM}}\\n| align=\"center\" | 3\\n| align=\"center\" | 0\\n| align=\"center\" | 0\\n| align=\"center\" | 3\\n|-\\n| {{u|Frayov}}\\n| align=\"center\" | 3\\n| align=\"center\" | 0\\n| align=\"center\" | 0\\n| align=\"center\" | 3\\n|-\\n| {{u|Fsanchezme}}\\n| align=\"center\" | 3\\n| align=\"center\" | 0\\n| align=\"center\" | 0\\n| align=\"center\" | 3\\n|-\\n| {{u|Juanluss31}}\\n| align=\"center\" | 0\\n| align=\"center\" | 0\\n| align=\"center\" | 3\\n| align=\"center\" | 3\\n|-\\n| {{u|ColibriSpain}}\\n| align=\"center\" | 0\\n| align=\"center\" | 0\\n| align=\"center\" | 3\\n| align=\"center\" | 3\\n|-\\n| {{u|Genus qp}}\\n| align=\"center\" | 3\\n| align=\"center\" | 0\\n| align=\"center\" | 0\\n| align=\"center\" | 3\\n|-\\n| {{u|Luis Bravo Jarilla}}\\n| align=\"center\" | 3\\n| align=\"center\" | 0\\n| align=\"center\" | 0\\n| align=\"center\" | 3\\n|-\\n| {{u|Koldo51}}\\n| align=\"center\" | 3\\n| align=\"center\" | 0\\n| align=\"center\" | 0\\n| align=\"center\" | 3\\n|-\\n| {{u|Hector Amato}}\\n| align=\"center\" | 0\\n| align=\"center\" | 3\\n| align=\"center\" | 0\\n| align=\"center\" | 3\\n|-\\n| {{u|Carlitos Urrutia}}\\n| align=\"center\" | 3\\n| align=\"center\" | 0\\n| align=\"center\" | 0\\n| align=\"center\" | 3\\n|-\\n| {{u|Lorgcor}}\\n| align=\"center\" | 0\\n| align=\"center\" | 3\\n| align=\"center\" | 0\\n| align=\"center\" | 3\\n|-\\n| {{u|Lisbeth07}}\\n| align=\"center\" | 3\\n| align=\"center\" | 0\\n| align=\"center\" | 0\\n| align=\"center\" | 3\\n|-\\n| {{u|Leoncio52}}\\n| align=\"center\" | 0\\n| align=\"center\" | 3\\n| align=\"center\" | 0\\n| align=\"center\" | 3\\n|-\\n| {{u|Laura112211}}\\n| align=\"center\" | 3\\n| align=\"center\" | 0\\n| align=\"center\" | 0\\n| align=\"center\" | 3\\n|-\\n| {{u|LeoVilluercas}}\\n| align=\"center\" | 0\\n| align=\"center\" | 3\\n| align=\"center\" | 0\\n| align=\"center\" | 3\\n|-\\n| {{u|Crimeanmedal}}\\n| align=\"center\" | 3\\n| align=\"center\" | 0\\n| align=\"center\" | 0\\n| align=\"center\" | 3\\n|-\\n| {{u|JesusLeonardo}}\\n| align=\"center\" | 0\\n| align=\"center\" | 0\\n| align=\"center\" | 3\\n| align=\"center\" | 3\\n|-\\n| {{u|LenaTM}}\\n| align=\"center\" | 0\\n| align=\"center\" | 3\\n| align=\"center\" | 0\\n| align=\"center\" | 3\\n|-\\n| {{u|Edoarrdo}}\\n| align=\"center\" | 0\\n| align=\"center\" | 3\\n| align=\"center\" | 0\\n| align=\"center\" | 3\\n|-\\n| {{u|Ecseivier}}\\n| align=\"center\" | 0\\n| align=\"center\" | 3\\n| align=\"center\" | 0\\n| align=\"center\" | 3\\n|-\\n| {{u|El ni\\xf1o jesus}}\\n| align=\"center\" | 0\\n| align=\"center\" | 0\\n| align=\"center\" | 3\\n| align=\"center\" | 3\\n|-\\n| {{u|EilaDaniela}}\\n| align=\"center\" | 3\\n| align=\"center\" | 0\\n| align=\"center\" | 0\\n| align=\"center\" | 3\\n|-\\n| {{u|Mancergo}}\\n| align=\"center\" | 3\\n| align=\"center\" | 0\\n| align=\"center\" | 0\\n| align=\"center\" | 3\\n|-\\n| {{u|ManuElaKa}}\\n| align=\"center\" | 0\\n| align=\"center\" | 3\\n| align=\"center\" | 0\\n| align=\"center\" | 3\\n|-\\n| {{u|Jflaquer}}\\n| align=\"center\" | 3\\n| align=\"center\" | 0\\n| align=\"center\" | 0\\n| align=\"center\" | 3\\n|-\\n| {{u|Jes\\xfas Alberto Hern\\xe1ndez Criado}}\\n| align=\"center\" | 0\\n| align=\"center\" | 3\\n| align=\"center\" | 0\\n| align=\"center\" | 3\\n|-\\n| {{u|Jlfm66}}\\n| align=\"center\" | 3\\n| align=\"center\" | 0\\n| align=\"center\" | 0\\n| align=\"center\" | 3\\n|-\\n| {{u|Jordiventura96}}\\n| align=\"center\" | 3\\n| align=\"center\" | 0\\n| align=\"center\" | 0\\n| align=\"center\" | 3\\n|-\\n| {{u|Ericpatriciogomez}}\\n| align=\"center\" | 0\\n| align=\"center\" | 3\\n| align=\"center\" | 0\\n| align=\"center\" | 3\\n|-\\n| {{u|Euwk}}\\n| align=\"center\" | 0\\n| align=\"center\" | 0\\n| align=\"center\" | 3\\n| align=\"center\" | 3\\n|-\\n| {{u|Joseba temez}}\\n| align=\"center\" | 0\\n| align=\"center\" | 3\\n| align=\"center\" | 0\\n| align=\"center\" | 3\\n|-\\n| {{u|Diegator}}\\n| align=\"center\" | 0\\n| align=\"center\" | 0\\n| align=\"center\" | 3\\n| align=\"center\" | 3\\n|-\\n| {{u|Mabelgomac}}\\n| align=\"center\" | 0\\n| align=\"center\" | 3\\n| align=\"center\" | 0\\n| align=\"center\" | 3\\n|-\\n| {{u|Santos T Gonzalez}}\\n| align=\"center\" | 0\\n| align=\"center\" | 2\\n| align=\"center\" | 0\\n| align=\"center\" | 2\\n|-\\n| {{u|Antropocofi}}\\n| align=\"center\" | 0\\n| align=\"center\" | 2\\n| align=\"center\" | 0\\n| align=\"center\" | 2\\n|-\\n| {{u|Santicl}}\\n| align=\"center\" | 2\\n| align=\"center\" | 0\\n| align=\"center\" | 0\\n| align=\"center\" | 2\\n|-\\n| {{u|Sammy pompon}}\\n| align=\"center\" | 2\\n| align=\"center\" | 0\\n| align=\"center\" | 0\\n| align=\"center\" | 2\\n|-\\n| {{u|Salods24}}\\n| align=\"center\" | 0\\n| align=\"center\" | 2\\n| align=\"center\" | 0\\n| align=\"center\" | 2\\n|-\\n| {{u|Jmarianogr}}\\n| align=\"center\" | 0\\n| align=\"center\" | 2\\n| align=\"center\" | 0\\n| align=\"center\" | 2\\n|-\\n| {{u|Salo94}}\\n| align=\"center\" | 1\\n| align=\"center\" | 0\\n| align=\"center\" | 1\\n| align=\"center\" | 2\\n|-\\n| {{u|Pilarillan}}\\n| align=\"center\" | 0\\n| align=\"center\" | 0\\n| align=\"center\" | 2\\n| align=\"center\" | 2\\n|-\\n| {{u|Rumrue}}\\n| align=\"center\" | 0\\n| align=\"center\" | 0\\n| align=\"center\" | 2\\n| align=\"center\" | 2\\n|-\\n| {{u|SMiranda}}\\n| align=\"center\" | 2\\n| align=\"center\" | 0\\n| align=\"center\" | 0\\n| align=\"center\" | 2\\n|-\\n| {{u|Jlbarbag}}\\n| align=\"center\" | 2\\n| align=\"center\" | 0\\n| align=\"center\" | 0\\n| align=\"center\" | 2\\n|-\\n| {{u|Jesubrv}}\\n| align=\"center\" | 0\\n| align=\"center\" | 2\\n| align=\"center\" | 0\\n| align=\"center\" | 2\\n|-\\n| {{u|Ic74}}\\n| align=\"center\" | 0\\n| align=\"center\" | 2\\n| align=\"center\" | 0\\n| align=\"center\" | 2\\n|-\\n| {{u|Inajar}}\\n| align=\"center\" | 2\\n| align=\"center\" | 0\\n| align=\"center\" | 0\\n| align=\"center\" | 2\\n|-\\n| {{u|Pepegar}}\\n| align=\"center\" | 0\\n| align=\"center\" | 0\\n| align=\"center\" | 2\\n| align=\"center\" | 2\\n|-\\n| {{u|Israjis}}\\n| align=\"center\" | 2\\n| align=\"center\" | 0\\n| align=\"center\" | 0\\n| align=\"center\" | 2\\n|-\\n| {{u|Peque\\xf1o Santi}}\\n| align=\"center\" | 0\\n| align=\"center\" | 0\\n| align=\"center\" | 2\\n| align=\"center\" | 2\\n|-\\n| {{u|ItxHatesYou}}\\n| align=\"center\" | 2\\n| align=\"center\" | 0\\n| align=\"center\" | 0\\n| align=\"center\" | 2\\n|-\\n| {{u|Rincon Costa}}\\n| align=\"center\" | 2\\n| align=\"center\" | 0\\n| align=\"center\" | 0\\n| align=\"center\" | 2\\n|-\\n| {{u|Casquijo200}}\\n| align=\"center\" | 2\\n| align=\"center\" | 0\\n| align=\"center\" | 0\\n| align=\"center\" | 2\\n|-\\n| {{u|JESUS SANCHEZ RODRIGUEZ}}\\n| align=\"center\" | 2\\n| align=\"center\" | 0\\n| align=\"center\" | 0\\n| align=\"center\" | 2\\n|-\\n| {{u|Jcabess}}\\n| align=\"center\" | 2\\n| align=\"center\" | 0\\n| align=\"center\" | 0\\n| align=\"center\" | 2\\n|-\\n| {{u|Jarango980}}\\n| align=\"center\" | 2\\n| align=\"center\" | 0\\n| align=\"center\" | 0\\n| align=\"center\" | 2\\n|-\\n| {{u|Groserus}}\\n| align=\"center\" | 2\\n| align=\"center\" | 0\\n| align=\"center\" | 0\\n| align=\"center\" | 2\\n|-\\n| {{u|Haku}}\\n| align=\"center\" | 2\\n| align=\"center\" | 0\\n| align=\"center\" | 0\\n| align=\"center\" | 2\\n|-\\n| {{u|Xafardejant}}\\n| align=\"center\" | 0\\n| align=\"center\" | 2\\n| align=\"center\" | 0\\n| align=\"center\" | 2\\n|-\\n| {{u|FernandoCuenca}}\\n| align=\"center\" | 0\\n| align=\"center\" | 0\\n| align=\"center\" | 2\\n| align=\"center\" | 2\\n|-\\n| {{u|Adrylaur}}\\n| align=\"center\" | 0\\n| align=\"center\" | 0\\n| align=\"center\" | 2\\n| align=\"center\" | 2\\n|-\\n| {{u|F.vazquez.86}}\\n| align=\"center\" | 0\\n| align=\"center\" | 0\\n| align=\"center\" | 2\\n| align=\"center\" | 2\\n|-\\n| {{u|Vbenmont}}\\n| align=\"center\" | 0\\n| align=\"center\" | 0\\n| align=\"center\" | 2\\n| align=\"center\" | 2\\n|-\\n| {{u|Viere78}}\\n| align=\"center\" | 2\\n| align=\"center\" | 0\\n| align=\"center\" | 0\\n| align=\"center\" | 2\\n|-\\n| {{u|EvaMaria13}}\\n| align=\"center\" | 0\\n| align=\"center\" | 0\\n| align=\"center\" | 2\\n| align=\"center\" | 2\\n|-\\n| {{u|Emiluga}}\\n| align=\"center\" | 0\\n| align=\"center\" | 0\\n| align=\"center\" | 2\\n| align=\"center\" | 2\\n|-\\n| {{u|Eloyj2}}\\n| align=\"center\" | 2\\n| align=\"center\" | 0\\n| align=\"center\" | 0\\n| align=\"center\" | 2\\n|-\\n| {{u|Albasilv}}\\n| align=\"center\" | 0\\n| align=\"center\" | 0\\n| align=\"center\" | 2\\n| align=\"center\" | 2\\n|-\\n| {{u|Xoxemorente}}\\n| align=\"center\" | 2\\n| align=\"center\" | 0\\n| align=\"center\" | 0\\n| align=\"center\" | 2\\n|-\\n| {{u|Xuanriba}}\\n| align=\"center\" | 0\\n| align=\"center\" | 2\\n| align=\"center\" | 0\\n| align=\"center\" | 2\\n|-\\n| {{u|AMADA MARTINEZ GOMEZ}}\\n| align=\"center\" | 0\\n| align=\"center\" | 0\\n| align=\"center\" | 2\\n| align=\"center\" | 2\\n|-\\n| {{u|Yolandaeb}}\\n| align=\"center\" | 2\\n| align=\"center\" | 0\\n| align=\"center\" | 0\\n| align=\"center\" | 2\\n|-\\n| {{u|Efrainlarrea}}\\n| align=\"center\" | 1\\n| align=\"center\" | 0\\n| align=\"center\" | 1\\n| align=\"center\" | 2\\n|-\\n| {{u|Edumartinez89}}\\n| align=\"center\" | 2\\n| align=\"center\" | 0\\n| align=\"center\" | 0\\n| align=\"center\" | 2\\n|-\\n| {{u|Dvazquezq}}\\n| align=\"center\" | 2\\n| align=\"center\" | 0\\n| align=\"center\" | 0\\n| align=\"center\" | 2\\n|-\\n| {{u|Tommasocherubini}}\\n| align=\"center\" | 0\\n| align=\"center\" | 0\\n| align=\"center\" | 2\\n| align=\"center\" | 2\\n|-\\n| {{u|Alejandro.g.sz}}\\n| align=\"center\" | 0\\n| align=\"center\" | 0\\n| align=\"center\" | 2\\n| align=\"center\" | 2\\n|-\\n| {{u|Cristina Souto}}\\n| align=\"center\" | 0\\n| align=\"center\" | 0\\n| align=\"center\" | 2\\n| align=\"center\" | 2\\n|-\\n| {{u|SofiPereez}}\\n| align=\"center\" | 2\\n| align=\"center\" | 0\\n| align=\"center\" | 0\\n| align=\"center\" | 2\\n|-\\n| {{u|Ameljim}}\\n| align=\"center\" | 2\\n| align=\"center\" | 0\\n| align=\"center\" | 0\\n| align=\"center\" | 2\\n|-\\n| {{u|Gutca}}\\n| align=\"center\" | 0\\n| align=\"center\" | 2\\n| align=\"center\" | 0\\n| align=\"center\" | 2\\n|-\\n| {{u|Gunkan}}\\n| align=\"center\" | 2\\n| align=\"center\" | 0\\n| align=\"center\" | 0\\n| align=\"center\" | 2\\n|-\\n| {{u|Sergiportero}}\\n| align=\"center\" | 0\\n| align=\"center\" | 2\\n| align=\"center\" | 0\\n| align=\"center\" | 2\\n|-\\n| {{u|Gonzalo Juli\\xe1n Carpintero}}\\n| align=\"center\" | 2\\n| align=\"center\" | 0\\n| align=\"center\" | 0\\n| align=\"center\" | 2\\n|-\\n| {{u|Shahbazcreativos}}\\n| align=\"center\" | 0\\n| align=\"center\" | 0\\n| align=\"center\" | 2\\n| align=\"center\" | 2\\n|-\\n| {{u|Sigloxxxi}}\\n| align=\"center\" | 2\\n| align=\"center\" | 0\\n| align=\"center\" | 0\\n| align=\"center\" | 2\\n|-\\n| {{u|Sofillo}}\\n| align=\"center\" | 0\\n| align=\"center\" | 0\\n| align=\"center\" | 2\\n| align=\"center\" | 2\\n|-\\n| {{u|C\\xe1ndido Correa}}\\n| align=\"center\" | 0\\n| align=\"center\" | 2\\n| align=\"center\" | 0\\n| align=\"center\" | 2\\n|-\\n| {{u|Gecoteix}}\\n| align=\"center\" | 0\\n| align=\"center\" | 2\\n| align=\"center\" | 0\\n| align=\"center\" | 2\\n|-\\n| {{u|Sorginmendi}}\\n| align=\"center\" | 2\\n| align=\"center\" | 0\\n| align=\"center\" | 0\\n| align=\"center\" | 2\\n|-\\n| {{u|GabiGaba97}}\\n| align=\"center\" | 0\\n| align=\"center\" | 0\\n| align=\"center\" | 2\\n| align=\"center\" | 2\\n|-\\n| {{u|Fuluki}}\\n| align=\"center\" | 0\\n| align=\"center\" | 0\\n| align=\"center\" | 2\\n| align=\"center\" | 2\\n|-\\n| {{u|Tanimargon}}\\n| align=\"center\" | 0\\n| align=\"center\" | 0\\n| align=\"center\" | 2\\n| align=\"center\" | 2\\n|-\\n| {{u|Alfredo Serra}}\\n| align=\"center\" | 2\\n| align=\"center\" | 0\\n| align=\"center\" | 0\\n| align=\"center\" | 2\\n|-\\n| {{u|Tebi rg}}\\n| align=\"center\" | 0\\n| align=\"center\" | 2\\n| align=\"center\" | 0\\n| align=\"center\" | 2\\n|-\\n| {{u|Joan Francesc Hern\\xe1ndez}}\\n| align=\"center\" | 2\\n| align=\"center\" | 0\\n| align=\"center\" | 0\\n| align=\"center\" | 2\\n|-\\n| {{u|Maria Concetta D\\'Amore}}\\n| align=\"center\" | 0\\n| align=\"center\" | 0\\n| align=\"center\" | 2\\n| align=\"center\" | 2\\n|-\\n| {{u|Mirkaah}}\\n| align=\"center\" | 0\\n| align=\"center\" | 0\\n| align=\"center\" | 2\\n| align=\"center\" | 2\\n|-\\n| {{u|MWhite00}}\\n| align=\"center\" | 2\\n| align=\"center\" | 0\\n| align=\"center\" | 0\\n| align=\"center\" | 2\\n|-\\n| {{u|Carla.Martina07}}\\n| align=\"center\" | 0\\n| align=\"center\" | 0\\n| align=\"center\" | 2\\n| align=\"center\" | 2\\n|-\\n| {{u|Josezam}}\\n| align=\"center\" | 2\\n| align=\"center\" | 0\\n| align=\"center\" | 0\\n| align=\"center\" | 2\\n|-\\n| {{u|Noemi Campo}}\\n| align=\"center\" | 2\\n| align=\"center\" | 0\\n| align=\"center\" | 0\\n| align=\"center\" | 2\\n|-\\n| {{u|Jos\\xe9 Miguel Grandal}}\\n| align=\"center\" | 0\\n| align=\"center\" | 2\\n| align=\"center\" | 0\\n| align=\"center\" | 2\\n|-\\n| {{u|Bermiego}}\\n| align=\"center\" | 2\\n| align=\"center\" | 0\\n| align=\"center\" | 0\\n| align=\"center\" | 2\\n|-\\n| {{u|Aveima}}\\n| align=\"center\" | 0\\n| align=\"center\" | 0\\n| align=\"center\" | 2\\n| align=\"center\" | 2\\n|-\\n| {{u|Maryna Dymovich}}\\n| align=\"center\" | 0\\n| align=\"center\" | 0\\n| align=\"center\" | 2\\n| align=\"center\" | 2\\n|-\\n| {{u|Nico4nicolas}}\\n| align=\"center\" | 0\\n| align=\"center\" | 2\\n| align=\"center\" | 0\\n| align=\"center\" | 2\\n|-\\n| {{u|Bicisenderistanovata}}\\n| align=\"center\" | 2\\n| align=\"center\" | 0\\n| align=\"center\" | 0\\n| align=\"center\" | 2\\n|-\\n| {{u|Juanmd01}}\\n| align=\"center\" | 2\\n| align=\"center\" | 0\\n| align=\"center\" | 0\\n| align=\"center\" | 2\\n|-\\n| {{u|N n.nicole e}}\\n| align=\"center\" | 2\\n| align=\"center\" | 0\\n| align=\"center\" | 0\\n| align=\"center\" | 2\\n|-\\n| {{u|Joseacas}}\\n| align=\"center\" | 2\\n| align=\"center\" | 0\\n| align=\"center\" | 0\\n| align=\"center\" | 2\\n|-\\n| {{u|Mssoller}}\\n| align=\"center\" | 2\\n| align=\"center\" | 0\\n| align=\"center\" | 0\\n| align=\"center\" | 2\\n|-\\n| {{u|Luismra}}\\n| align=\"center\" | 0\\n| align=\"center\" | 2\\n| align=\"center\" | 0\\n| align=\"center\" | 2\\n|-\\n| {{u|Lauracadeddu}}\\n| align=\"center\" | 0\\n| align=\"center\" | 0\\n| align=\"center\" | 2\\n| align=\"center\" | 2\\n|-\\n| {{u|Mosrsy}}\\n| align=\"center\" | 2\\n| align=\"center\" | 0\\n| align=\"center\" | 0\\n| align=\"center\" | 2\\n|-\\n| {{u|Montse Gil}}\\n| align=\"center\" | 0\\n| align=\"center\" | 0\\n| align=\"center\" | 2\\n| align=\"center\" | 2\\n|-\\n| {{u|Lolonls}}\\n| align=\"center\" | 2\\n| align=\"center\" | 0\\n| align=\"center\" | 0\\n| align=\"center\" | 2\\n|-\\n| {{u|Luis Santiago Costa}}\\n| align=\"center\" | 0\\n| align=\"center\" | 2\\n| align=\"center\" | 0\\n| align=\"center\" | 2\\n|-\\n| {{u|Lourdes Mtz}}\\n| align=\"center\" | 0\\n| align=\"center\" | 2\\n| align=\"center\" | 0\\n| align=\"center\" | 2\\n|-\\n| {{u|Mirosergi}}\\n| align=\"center\" | 2\\n| align=\"center\" | 0\\n| align=\"center\" | 0\\n| align=\"center\" | 2\\n|-\\n| {{u|Borjascervera}}\\n| align=\"center\" | 2\\n| align=\"center\" | 0\\n| align=\"center\" | 0\\n| align=\"center\" | 2\\n|-\\n| {{u|BRODER55}}\\n| align=\"center\" | 0\\n| align=\"center\" | 2\\n| align=\"center\" | 0\\n| align=\"center\" | 2\\n|-\\n| {{u|MinaRandom}}\\n| align=\"center\" | 2\\n| align=\"center\" | 0\\n| align=\"center\" | 0\\n| align=\"center\" | 2\\n|-\\n| {{u|Omakaseman}}\\n| align=\"center\" | 2\\n| align=\"center\" | 0\\n| align=\"center\" | 0\\n| align=\"center\" | 2\\n|-\\n| {{u|Jorgeboco}}\\n| align=\"center\" | 2\\n| align=\"center\" | 0\\n| align=\"center\" | 0\\n| align=\"center\" | 2\\n|-\\n| {{u|Otatis93}}\\n| align=\"center\" | 0\\n| align=\"center\" | 0\\n| align=\"center\" | 2\\n| align=\"center\" | 2\\n|-\\n| {{u|Marilolita}}\\n| align=\"center\" | 0\\n| align=\"center\" | 0\\n| align=\"center\" | 2\\n| align=\"center\" | 2\\n|-\\n| {{u|Jose Pujol Serrate}}\\n| align=\"center\" | 2\\n| align=\"center\" | 0\\n| align=\"center\" | 0\\n| align=\"center\" | 2\\n|-\\n| {{u|Baifulang}}\\n| align=\"center\" | 2\\n| align=\"center\" | 0\\n| align=\"center\" | 0\\n| align=\"center\" | 2\\n|-\\n| {{u|Balles2601}}\\n| align=\"center\" | 2\\n| align=\"center\" | 0\\n| align=\"center\" | 0\\n| align=\"center\" | 2\\n|-\\n| {{u|Marinaobdulia}}\\n| align=\"center\" | 0\\n| align=\"center\" | 1\\n| align=\"center\" | 0\\n| align=\"center\" | 1\\n|-\\n| {{u|Avaldia}}\\n| align=\"center\" | 1\\n| align=\"center\" | 0\\n| align=\"center\" | 0\\n| align=\"center\" | 1\\n|-\\n| {{u|Badiolaasier}}\\n| align=\"center\" | 1\\n| align=\"center\" | 0\\n| align=\"center\" | 0\\n| align=\"center\" | 1\\n|-\\n| {{u|Alfoncarrillo}}\\n| align=\"center\" | 1\\n| align=\"center\" | 0\\n| align=\"center\" | 0\\n| align=\"center\" | 1\\n|-\\n| {{u|Luzitani}}\\n| align=\"center\" | 1\\n| align=\"center\" | 0\\n| align=\"center\" | 0\\n| align=\"center\" | 1\\n|-\\n| {{u|Lynxibericus}}\\n| align=\"center\" | 0\\n| align=\"center\" | 1\\n| align=\"center\" | 0\\n| align=\"center\" | 1\\n|-\\n| {{u|Blas FG}}\\n| align=\"center\" | 0\\n| align=\"center\" | 1\\n| align=\"center\" | 0\\n| align=\"center\" | 1\\n|-\\n| {{u|A. Sede\\xf1o}}\\n| align=\"center\" | 0\\n| align=\"center\" | 1\\n| align=\"center\" | 0\\n| align=\"center\" | 1\\n|-\\n| {{u|Tekhors}}\\n| align=\"center\" | 0\\n| align=\"center\" | 1\\n| align=\"center\" | 0\\n| align=\"center\" | 1\\n|-\\n| {{u|Aliciaderksen}}\\n| align=\"center\" | 0\\n| align=\"center\" | 0\\n| align=\"center\" | 1\\n| align=\"center\" | 1\\n|-\\n| {{u|Tenerifetrade}}\\n| align=\"center\" | 0\\n| align=\"center\" | 0\\n| align=\"center\" | 1\\n| align=\"center\" | 1\\n|-\\n| {{u|Blacklaserlight}}\\n| align=\"center\" | 1\\n| align=\"center\" | 0\\n| align=\"center\" | 0\\n| align=\"center\" | 1\\n|-\\n| {{u|Franciscopresencia}}\\n| align=\"center\" | 0\\n| align=\"center\" | 1\\n| align=\"center\" | 0\\n| align=\"center\" | 1\\n|-\\n| {{u|Tito P\\xe9rez Cort\\xe9s}}\\n| align=\"center\" | 0\\n| align=\"center\" | 1\\n| align=\"center\" | 0\\n| align=\"center\" | 1\\n|-\\n| {{u|MAdridespain}}\\n| align=\"center\" | 0\\n| align=\"center\" | 0\\n| align=\"center\" | 1\\n| align=\"center\" | 1\\n|-\\n| {{u|DACE2k}}\\n| align=\"center\" | 0\\n| align=\"center\" | 1\\n| align=\"center\" | 0\\n| align=\"center\" | 1\\n|-\\n| {{u|Luismaraia}}\\n| align=\"center\" | 1\\n| align=\"center\" | 0\\n| align=\"center\" | 0\\n| align=\"center\" | 1\\n|-\\n| {{u|Luisenrodrigo}}\\n| align=\"center\" | 1\\n| align=\"center\" | 0\\n| align=\"center\" | 0\\n| align=\"center\" | 1\\n|-\\n| {{u|MiguelYF}}\\n| align=\"center\" | 0\\n| align=\"center\" | 0\\n| align=\"center\" | 1\\n| align=\"center\" | 1\\n|-\\n| {{u|Allona Riera}}\\n| align=\"center\" | 1\\n| align=\"center\" | 0\\n| align=\"center\" | 0\\n| align=\"center\" | 1\\n|-\\n| {{u|Amanda Hiems}}\\n| align=\"center\" | 1\\n| align=\"center\" | 0\\n| align=\"center\" | 0\\n| align=\"center\" | 1\\n|-\\n| {{u|SoniaDiezU}}\\n| align=\"center\" | 0\\n| align=\"center\" | 1\\n| align=\"center\" | 0\\n| align=\"center\" | 1\\n|-\\n| {{u|Luis Martinez Villar}}\\n| align=\"center\" | 1\\n| align=\"center\" | 0\\n| align=\"center\" | 0\\n| align=\"center\" | 1\\n|-\\n| {{u|Gato con patas}}\\n| align=\"center\" | 0\\n| align=\"center\" | 1\\n| align=\"center\" | 0\\n| align=\"center\" | 1\\n|-\\n| {{u|Mikirabba}}\\n| align=\"center\" | 0\\n| align=\"center\" | 0\\n| align=\"center\" | 1\\n| align=\"center\" | 1\\n|-\\n| {{u|Soukaina06}}\\n| align=\"center\" | 0\\n| align=\"center\" | 1\\n| align=\"center\" | 0\\n| align=\"center\" | 1\\n|-\\n| {{u|Spinor69}}\\n| align=\"center\" | 0\\n| align=\"center\" | 0\\n| align=\"center\" | 1\\n| align=\"center\" | 1\\n|-\\n| {{u|Galibea}}\\n| align=\"center\" | 1\\n| align=\"center\" | 0\\n| align=\"center\" | 0\\n| align=\"center\" | 1\\n|-\\n| [https://www.flickr.com/people/47021688@N04 Bruno  Dur\\xe1n]\\n| align=\"center\" | 1\\n| align=\"center\" | 0\\n| align=\"center\" | 0\\n| align=\"center\" | 1\\n|-\\n| {{u|Diegui57}}\\n| align=\"center\" | 0\\n| align=\"center\" | 0\\n| align=\"center\" | 1\\n| align=\"center\" | 1\\n|-\\n| {{u|David Checa Fenol}}\\n| align=\"center\" | 0\\n| align=\"center\" | 1\\n| align=\"center\" | 0\\n| align=\"center\" | 1\\n|-\\n| {{u|Maria zamorap}}\\n| align=\"center\" | 0\\n| align=\"center\" | 1\\n| align=\"center\" | 0\\n| align=\"center\" | 1\\n|-\\n| {{u|Ctrisan}}\\n| align=\"center\" | 1\\n| align=\"center\" | 0\\n| align=\"center\" | 0\\n| align=\"center\" | 1\\n|-\\n| {{u|Sugusmugus}}\\n| align=\"center\" | 1\\n| align=\"center\" | 0\\n| align=\"center\" | 0\\n| align=\"center\" | 1\\n|-\\n| [https://www.flickr.com/people/54453066@N06 Goya Fotografia]\\n| align=\"center\" | 1\\n| align=\"center\" | 0\\n| align=\"center\" | 0\\n| align=\"center\" | 1\\n|-\\n| {{u|Ed.Kruit}}\\n| align=\"center\" | 0\\n| align=\"center\" | 1\\n| align=\"center\" | 0\\n| align=\"center\" | 1\\n|-\\n| {{u|Fotoquimico}}\\n| align=\"center\" | 1\\n| align=\"center\" | 0\\n| align=\"center\" | 0\\n| align=\"center\" | 1\\n|-\\n| {{u|Florido mc}}\\n| align=\"center\" | 1\\n| align=\"center\" | 0\\n| align=\"center\" | 0\\n| align=\"center\" | 1\\n|-\\n| {{u|Ahmed Mehrem}}\\n| align=\"center\" | 1\\n| align=\"center\" | 0\\n| align=\"center\" | 0\\n| align=\"center\" | 1\\n|-\\n| {{u|Elbujia}}\\n| align=\"center\" | 1\\n| align=\"center\" | 0\\n| align=\"center\" | 0\\n| align=\"center\" | 1\\n|-\\n| {{u|Awilder225}}\\n| align=\"center\" | 1\\n| align=\"center\" | 0\\n| align=\"center\" | 0\\n| align=\"center\" | 1\\n|-\\n| {{u|DagafeSQV}}\\n| align=\"center\" | 1\\n| align=\"center\" | 0\\n| align=\"center\" | 0\\n| align=\"center\" | 1\\n|-\\n| {{u|Benigno Varillas}}\\n| align=\"center\" | 0\\n| align=\"center\" | 1\\n| align=\"center\" | 0\\n| align=\"center\" | 1\\n|-\\n| {{u|Emilio Redondo}}\\n| align=\"center\" | 0\\n| align=\"center\" | 1\\n| align=\"center\" | 0\\n| align=\"center\" | 1\\n|-\\n| {{u|Emejota3}}\\n| align=\"center\" | 0\\n| align=\"center\" | 0\\n| align=\"center\" | 1\\n| align=\"center\" | 1\\n|-\\n| {{u|MarkJessop1}}\\n| align=\"center\" | 0\\n| align=\"center\" | 1\\n| align=\"center\" | 0\\n| align=\"center\" | 1\\n|-\\n| {{u|Mariquillam}}\\n| align=\"center\" | 1\\n| align=\"center\" | 0\\n| align=\"center\" | 0\\n| align=\"center\" | 1\\n|-\\n| {{u|Aaguayom}}\\n| align=\"center\" | 0\\n| align=\"center\" | 1\\n| align=\"center\" | 0\\n| align=\"center\" | 1\\n|-\\n| {{u|Xoc3}}\\n| align=\"center\" | 0\\n| align=\"center\" | 0\\n| align=\"center\" | 1\\n| align=\"center\" | 1\\n|-\\n| {{u|Mapohi70}}\\n| align=\"center\" | 1\\n| align=\"center\" | 0\\n| align=\"center\" | 0\\n| align=\"center\" | 1\\n|-\\n| {{u|Zagrillero}}\\n| align=\"center\" | 0\\n| align=\"center\" | 1\\n| align=\"center\" | 0\\n| align=\"center\" | 1\\n|-\\n| {{u|Mariolado}}\\n| align=\"center\" | 0\\n| align=\"center\" | 0\\n| align=\"center\" | 1\\n| align=\"center\" | 1\\n|-\\n| {{u|Marioalvarezquientero544}}\\n| align=\"center\" | 0\\n| align=\"center\" | 1\\n| align=\"center\" | 0\\n| align=\"center\" | 1\\n|-\\n| {{u|Daniel 19junio}}\\n| align=\"center\" | 1\\n| align=\"center\" | 0\\n| align=\"center\" | 0\\n| align=\"center\" | 1\\n|-\\n| {{u|DanielIniguez}}\\n| align=\"center\" | 1\\n| align=\"center\" | 0\\n| align=\"center\" | 0\\n| align=\"center\" | 1\\n|-\\n| {{u|Basky316}}\\n| align=\"center\" | 1\\n| align=\"center\" | 0\\n| align=\"center\" | 0\\n| align=\"center\" | 1\\n|-\\n| {{u|Eledayla}}\\n| align=\"center\" | 0\\n| align=\"center\" | 0\\n| align=\"center\" | 1\\n| align=\"center\" | 1\\n|-\\n| {{u|ALISIAHERNANDEZ89}}\\n| align=\"center\" | 1\\n| align=\"center\" | 0\\n| align=\"center\" | 0\\n| align=\"center\" | 1\\n|-\\n| {{u|Esther Ahuir Catal\\xe0}}\\n| align=\"center\" | 0\\n| align=\"center\" | 0\\n| align=\"center\" | 1\\n| align=\"center\" | 1\\n|-\\n| {{u|Eugenia lvarez}}\\n| align=\"center\" | 0\\n| align=\"center\" | 0\\n| align=\"center\" | 1\\n| align=\"center\" | 1\\n|-\\n| {{u|Maryyout}}\\n| align=\"center\" | 1\\n| align=\"center\" | 0\\n| align=\"center\" | 0\\n| align=\"center\" | 1\\n|-\\n| {{u|Flopez~commonswiki}}\\n| align=\"center\" | 0\\n| align=\"center\" | 1\\n| align=\"center\" | 0\\n| align=\"center\" | 1\\n|-\\n| {{u|Mcartor}}\\n| align=\"center\" | 0\\n| align=\"center\" | 0\\n| align=\"center\" | 1\\n| align=\"center\" | 1\\n|-\\n| {{u|DaVicarius}}\\n| align=\"center\" | 0\\n| align=\"center\" | 1\\n| align=\"center\" | 0\\n| align=\"center\" | 1\\n|-\\n| {{u|Aechav}}\\n| align=\"center\" | 1\\n| align=\"center\" | 0\\n| align=\"center\" | 0\\n| align=\"center\" | 1\\n|-\\n| {{u|Valsevalse}}\\n| align=\"center\" | 0\\n| align=\"center\" | 1\\n| align=\"center\" | 0\\n| align=\"center\" | 1\\n|-\\n| {{u|Marinabenavente}}\\n| align=\"center\" | 0\\n| align=\"center\" | 0\\n| align=\"center\" | 1\\n| align=\"center\" | 1\\n|-\\n| {{u|FRAMUAR}}\\n| align=\"center\" | 1\\n| align=\"center\" | 0\\n| align=\"center\" | 0\\n| align=\"center\" | 1\\n|-\\n| [https://www.flickr.com/people/125764255@N04 Josevi11]\\n| align=\"center\" | 1\\n| align=\"center\" | 0\\n| align=\"center\" | 0\\n| align=\"center\" | 1\\n|-\\n| {{u|Marta Rodrigues Francisco}}\\n| align=\"center\" | 1\\n| align=\"center\" | 0\\n| align=\"center\" | 0\\n| align=\"center\" | 1\\n|-\\n| [https://www.flickr.com/people/115667078@N03 Sergio de Gracia D\\'Agosto]\\n| align=\"center\" | 1\\n| align=\"center\" | 0\\n| align=\"center\" | 0\\n| align=\"center\" | 1\\n|-\\n| {{u|Ventayol}}\\n| align=\"center\" | 0\\n| align=\"center\" | 0\\n| align=\"center\" | 1\\n| align=\"center\" | 1\\n|-\\n| {{u|GelaSynyster}}\\n| align=\"center\" | 1\\n| align=\"center\" | 0\\n| align=\"center\" | 0\\n| align=\"center\" | 1\\n|-\\n| {{u|Martitaacb}}\\n| align=\"center\" | 1\\n| align=\"center\" | 0\\n| align=\"center\" | 0\\n| align=\"center\" | 1\\n|-\\n| {{u|ACIICA1981}}\\n| align=\"center\" | 0\\n| align=\"center\" | 1\\n| align=\"center\" | 0\\n| align=\"center\" | 1\\n|-\\n| {{u|Egortiz}}\\n| align=\"center\" | 1\\n| align=\"center\" | 0\\n| align=\"center\" | 0\\n| align=\"center\" | 1\\n|-\\n| {{u|Vir LP}}\\n| align=\"center\" | 1\\n| align=\"center\" | 0\\n| align=\"center\" | 0\\n| align=\"center\" | 1\\n|-\\n| {{u|Viajero del tiempo}}\\n| align=\"center\" | 0\\n| align=\"center\" | 1\\n| align=\"center\" | 0\\n| align=\"center\" | 1\\n|-\\n| {{u|Joaqu\\xedn Caballero}}\\n| align=\"center\" | 1\\n| align=\"center\" | 0\\n| align=\"center\" | 0\\n| align=\"center\" | 1\\n|-\\n| {{u|Luis Ignacio Blanco}}\\n| align=\"center\" | 1\\n| align=\"center\" | 0\\n| align=\"center\" | 0\\n| align=\"center\" | 1\\n|-\\n| {{u|Jpuenteupm}}\\n| align=\"center\" | 0\\n| align=\"center\" | 0\\n| align=\"center\" | 1\\n| align=\"center\" | 1\\n|-\\n| {{u|Applantalamor}}\\n| align=\"center\" | 0\\n| align=\"center\" | 1\\n| align=\"center\" | 0\\n| align=\"center\" | 1\\n|-\\n| {{u|Arauzcarlos}}\\n| align=\"center\" | 1\\n| align=\"center\" | 0\\n| align=\"center\" | 0\\n| align=\"center\" | 1\\n|-\\n| {{u|Pintafontes}}\\n| align=\"center\" | 1\\n| align=\"center\" | 0\\n| align=\"center\" | 0\\n| align=\"center\" | 1\\n|-\\n| {{u|Pmx}}\\n| align=\"center\" | 1\\n| align=\"center\" | 0\\n| align=\"center\" | 0\\n| align=\"center\" | 1\\n|-\\n| {{u|Jerdozain}}\\n| align=\"center\" | 1\\n| align=\"center\" | 0\\n| align=\"center\" | 0\\n| align=\"center\" | 1\\n|-\\n| {{u|Cauevolpe}}\\n| align=\"center\" | 1\\n| align=\"center\" | 0\\n| align=\"center\" | 0\\n| align=\"center\" | 1\\n|-\\n| {{u|Jos\\xe9 Luis ru g}}\\n| align=\"center\" | 1\\n| align=\"center\" | 0\\n| align=\"center\" | 0\\n| align=\"center\" | 1\\n|-\\n| {{u|Pwdk}}\\n| align=\"center\" | 1\\n| align=\"center\" | 0\\n| align=\"center\" | 0\\n| align=\"center\" | 1\\n|-\\n| {{u|Jaxrop}}\\n| align=\"center\" | 1\\n| align=\"center\" | 0\\n| align=\"center\" | 0\\n| align=\"center\" | 1\\n|-\\n| {{u|Jatilati8}}\\n| align=\"center\" | 1\\n| align=\"center\" | 0\\n| align=\"center\" | 0\\n| align=\"center\" | 1\\n|-\\n| {{u|R mano}}\\n| align=\"center\" | 0\\n| align=\"center\" | 0\\n| align=\"center\" | 1\\n| align=\"center\" | 1\\n|-\\n| {{u|Andrespg1969}}\\n| align=\"center\" | 0\\n| align=\"center\" | 1\\n| align=\"center\" | 0\\n| align=\"center\" | 1\\n|-\\n| {{u|RGMiddleton}}\\n| align=\"center\" | 0\\n| align=\"center\" | 0\\n| align=\"center\" | 1\\n| align=\"center\" | 1\\n|-\\n| {{u|Jasset}}\\n| align=\"center\" | 1\\n| align=\"center\" | 0\\n| align=\"center\" | 0\\n| align=\"center\" | 1\\n|-\\n| {{u|Racamet}}\\n| align=\"center\" | 1\\n| align=\"center\" | 0\\n| align=\"center\" | 0\\n| align=\"center\" | 1\\n|-\\n| {{u|Mardecants}}\\n| align=\"center\" | 1\\n| align=\"center\" | 0\\n| align=\"center\" | 0\\n| align=\"center\" | 1\\n|-\\n| {{u|Ampiku}}\\n| align=\"center\" | 0\\n| align=\"center\" | 1\\n| align=\"center\" | 0\\n| align=\"center\" | 1\\n|-\\n| {{u|Chris Riverpeace}}\\n| align=\"center\" | 1\\n| align=\"center\" | 0\\n| align=\"center\" | 0\\n| align=\"center\" | 1\\n|-\\n| {{u|JKim}}\\n| align=\"center\" | 1\\n| align=\"center\" | 0\\n| align=\"center\" | 0\\n| align=\"center\" | 1\\n|-\\n| {{u|Jesusiii}}\\n| align=\"center\" | 1\\n| align=\"center\" | 0\\n| align=\"center\" | 0\\n| align=\"center\" | 1\\n|-\\n| {{u|Ankievandeweerd}}\\n| align=\"center\" | 0\\n| align=\"center\" | 1\\n| align=\"center\" | 0\\n| align=\"center\" | 1\\n|-\\n| {{u|Petergm official}}\\n| align=\"center\" | 0\\n| align=\"center\" | 1\\n| align=\"center\" | 0\\n| align=\"center\" | 1\\n|-\\n| {{u|Pedrosquamata}}\\n| align=\"center\" | 0\\n| align=\"center\" | 0\\n| align=\"center\" | 1\\n| align=\"center\" | 1\\n|-\\n| {{u|Joaquinestepa}}\\n| align=\"center\" | 1\\n| align=\"center\" | 0\\n| align=\"center\" | 0\\n| align=\"center\" | 1\\n|-\\n| {{u|JordiPons}}\\n| align=\"center\" | 1\\n| align=\"center\" | 0\\n| align=\"center\" | 0\\n| align=\"center\" | 1\\n|-\\n| {{u|Pablo.mazorra}}\\n| align=\"center\" | 0\\n| align=\"center\" | 1\\n| align=\"center\" | 0\\n| align=\"center\" | 1\\n|-\\n| {{u|JoPuFer}}\\n| align=\"center\" | 0\\n| align=\"center\" | 0\\n| align=\"center\" | 1\\n| align=\"center\" | 1\\n|-\\n| {{u|Antonio Casado Puerto}}\\n| align=\"center\" | 1\\n| align=\"center\" | 0\\n| align=\"center\" | 0\\n| align=\"center\" | 1\\n|-\\n| {{u|Jmgarciadguez}}\\n| align=\"center\" | 1\\n| align=\"center\" | 0\\n| align=\"center\" | 0\\n| align=\"center\" | 1\\n|-\\n| {{u|Paulamir09}}\\n| align=\"center\" | 0\\n| align=\"center\" | 1\\n| align=\"center\" | 0\\n| align=\"center\" | 1\\n|-\\n| {{u|Paulitaa 90}}\\n| align=\"center\" | 0\\n| align=\"center\" | 1\\n| align=\"center\" | 0\\n| align=\"center\" | 1\\n|-\\n| {{u|Oscargende}}\\n| align=\"center\" | 0\\n| align=\"center\" | 0\\n| align=\"center\" | 1\\n| align=\"center\" | 1\\n|-\\n| {{u|Perec~eswiki}}\\n| align=\"center\" | 1\\n| align=\"center\" | 0\\n| align=\"center\" | 0\\n| align=\"center\" | 1\\n|-\\n| {{u|Peibolcostas}}\\n| align=\"center\" | 1\\n| align=\"center\" | 0\\n| align=\"center\" | 0\\n| align=\"center\" | 1\\n|-\\n| {{u|Jjgarvaz}}\\n| align=\"center\" | 0\\n| align=\"center\" | 1\\n| align=\"center\" | 0\\n| align=\"center\" | 1\\n|-\\n| {{u|Pepadelosmares}}\\n| align=\"center\" | 1\\n| align=\"center\" | 0\\n| align=\"center\" | 0\\n| align=\"center\" | 1\\n|-\\n| {{u|PepeeCazorla}}\\n| align=\"center\" | 1\\n| align=\"center\" | 0\\n| align=\"center\" | 0\\n| align=\"center\" | 1\\n|-\\n| {{u|Jos Doc}}\\n| align=\"center\" | 1\\n| align=\"center\" | 0\\n| align=\"center\" | 0\\n| align=\"center\" | 1\\n|-\\n| {{u|Jjbaron}}\\n| align=\"center\" | 0\\n| align=\"center\" | 0\\n| align=\"center\" | 1\\n| align=\"center\" | 1\\n|-\\n| {{u|Jjb1996}}\\n| align=\"center\" | 1\\n| align=\"center\" | 0\\n| align=\"center\" | 0\\n| align=\"center\" | 1\\n|-\\n| {{u|Ontherock.es}}\\n| align=\"center\" | 0\\n| align=\"center\" | 0\\n| align=\"center\" | 1\\n| align=\"center\" | 1\\n|-\\n| {{u|Rameylauren}}\\n| align=\"center\" | 0\\n| align=\"center\" | 1\\n| align=\"center\" | 0\\n| align=\"center\" | 1\\n|-\\n| {{u|Juan Bosco Garc\\xeda Lozano}}\\n| align=\"center\" | 0\\n| align=\"center\" | 0\\n| align=\"center\" | 1\\n| align=\"center\" | 1\\n|-\\n| {{u|Smiles at midnigth}}\\n| align=\"center\" | 1\\n| align=\"center\" | 0\\n| align=\"center\" | 0\\n| align=\"center\" | 1\\n|-\\n| {{u|JCVel}}\\n| align=\"center\" | 0\\n| align=\"center\" | 0\\n| align=\"center\" | 1\\n| align=\"center\" | 1\\n|-\\n| {{u|LalaUmy}}\\n| align=\"center\" | 0\\n| align=\"center\" | 1\\n| align=\"center\" | 0\\n| align=\"center\" | 1\\n|-\\n| {{u|Hebertperez}}\\n| align=\"center\" | 0\\n| align=\"center\" | 1\\n| align=\"center\" | 0\\n| align=\"center\" | 1\\n|-\\n| {{u|SandraPerez212}}\\n| align=\"center\" | 1\\n| align=\"center\" | 0\\n| align=\"center\" | 0\\n| align=\"center\" | 1\\n|-\\n| {{u|Heavenrocket}}\\n| align=\"center\" | 1\\n| align=\"center\" | 0\\n| align=\"center\" | 0\\n| align=\"center\" | 1\\n|-\\n| {{u|Laumarnov}}\\n| align=\"center\" | 1\\n| align=\"center\" | 0\\n| align=\"center\" | 0\\n| align=\"center\" | 1\\n|-\\n| {{u|Crestofono Ofono}}\\n| align=\"center\" | 0\\n| align=\"center\" | 0\\n| align=\"center\" | 1\\n| align=\"center\" | 1\\n|-\\n| {{u|Sarandreu84}}\\n| align=\"center\" | 1\\n| align=\"center\" | 0\\n| align=\"center\" | 0\\n| align=\"center\" | 1\\n|-\\n| {{u|MrMarioZ}}\\n| align=\"center\" | 1\\n| align=\"center\" | 0\\n| align=\"center\" | 0\\n| align=\"center\" | 1\\n|-\\n| {{u|Mpoullet}}\\n| align=\"center\" | 1\\n| align=\"center\" | 0\\n| align=\"center\" | 0\\n| align=\"center\" | 1\\n|-\\n| {{u|GuusvWyk}}\\n| align=\"center\" | 0\\n| align=\"center\" | 1\\n| align=\"center\" | 0\\n| align=\"center\" | 1\\n|-\\n| {{u|Audiolibro}}\\n| align=\"center\" | 1\\n| align=\"center\" | 0\\n| align=\"center\" | 0\\n| align=\"center\" | 1\\n|-\\n| {{u|Gumi333}}\\n| align=\"center\" | 0\\n| align=\"center\" | 1\\n| align=\"center\" | 0\\n| align=\"center\" | 1\\n|-\\n| {{u|Palaciosmara}}\\n| align=\"center\" | 0\\n| align=\"center\" | 0\\n| align=\"center\" | 1\\n| align=\"center\" | 1\\n|-\\n| {{u|Luis A Lopez Martinez}}\\n| align=\"center\" | 1\\n| align=\"center\" | 0\\n| align=\"center\" | 0\\n| align=\"center\" | 1\\n|-\\n| {{u|Shanomag}}\\n| align=\"center\" | 1\\n| align=\"center\" | 0\\n| align=\"center\" | 0\\n| align=\"center\" | 1\\n|-\\n| {{u|Goldorak}}\\n| align=\"center\" | 0\\n| align=\"center\" | 1\\n| align=\"center\" | 0\\n| align=\"center\" | 1\\n|-\\n| {{u|Miradasypaisajes}}\\n| align=\"center\" | 1\\n| align=\"center\" | 0\\n| align=\"center\" | 0\\n| align=\"center\" | 1\\n|-\\n| {{u|SinVozAsturias}}\\n| align=\"center\" | 0\\n| align=\"center\" | 1\\n| align=\"center\" | 0\\n| align=\"center\" | 1\\n|-\\n| {{u|Sinforosa2000}}\\n| align=\"center\" | 0\\n| align=\"center\" | 0\\n| align=\"center\" | 1\\n| align=\"center\" | 1\\n|-\\n| {{u|Samarpau}}\\n| align=\"center\" | 1\\n| align=\"center\" | 0\\n| align=\"center\" | 0\\n| align=\"center\" | 1\\n|-\\n| {{u|Saly75}}\\n| align=\"center\" | 1\\n| align=\"center\" | 0\\n| align=\"center\" | 0\\n| align=\"center\" | 1\\n|-\\n| {{u|Laharl~eswiki}}\\n| align=\"center\" | 1\\n| align=\"center\" | 0\\n| align=\"center\" | 0\\n| align=\"center\" | 1\\n|-\\n| {{u|Constanzaberu}}\\n| align=\"center\" | 1\\n| align=\"center\" | 0\\n| align=\"center\" | 0\\n| align=\"center\" | 1\\n|-\\n| {{u|Campmany}}\\n| align=\"center\" | 0\\n| align=\"center\" | 0\\n| align=\"center\" | 1\\n| align=\"center\" | 1\\n|-\\n| {{u|Richard C Oakes}}\\n| align=\"center\" | 1\\n| align=\"center\" | 0\\n| align=\"center\" | 0\\n| align=\"center\" | 1\\n|-\\n| {{u|Clara cav}}\\n| align=\"center\" | 1\\n| align=\"center\" | 0\\n| align=\"center\" | 0\\n| align=\"center\" | 1\\n|-\\n| {{u|Calvento}}\\n| align=\"center\" | 1\\n| align=\"center\" | 0\\n| align=\"center\" | 0\\n| align=\"center\" | 1\\n|-\\n| {{u|Cagaliendres}}\\n| align=\"center\" | 1\\n| align=\"center\" | 0\\n| align=\"center\" | 0\\n| align=\"center\" | 1\\n|-\\n| {{u|Isoli}}\\n| align=\"center\" | 0\\n| align=\"center\" | 0\\n| align=\"center\" | 1\\n| align=\"center\" | 1\\n|-\\n| {{u|Isagsmt}}\\n| align=\"center\" | 0\\n| align=\"center\" | 1\\n| align=\"center\" | 0\\n| align=\"center\" | 1\\n|-\\n| {{u|Nardensonel}}\\n| align=\"center\" | 0\\n| align=\"center\" | 0\\n| align=\"center\" | 1\\n| align=\"center\" | 1\\n|-\\n| {{u|JulioCamba}}\\n| align=\"center\" | 1\\n| align=\"center\" | 0\\n| align=\"center\" | 0\\n| align=\"center\" | 1\\n|-\\n| {{u|Copboc}}\\n| align=\"center\" | 0\\n| align=\"center\" | 1\\n| align=\"center\" | 0\\n| align=\"center\" | 1\\n|-\\n| {{u|Hi im Chest3r}}\\n| align=\"center\" | 1\\n| align=\"center\" | 0\\n| align=\"center\" | 0\\n| align=\"center\" | 1\\n|-\\n| {{u|Ruise\\xf1or86}}\\n| align=\"center\" | 1\\n| align=\"center\" | 0\\n| align=\"center\" | 0\\n| align=\"center\" | 1\\n|-\\n| {{u|Kellps}}\\n| align=\"center\" | 0\\n| align=\"center\" | 1\\n| align=\"center\" | 0\\n| align=\"center\" | 1\\n|-\\n| {{u|Rydak25}}\\n| align=\"center\" | 0\\n| align=\"center\" | 1\\n| align=\"center\" | 0\\n| align=\"center\" | 1\\n|-\\n| {{u|Hector2pi}}\\n| align=\"center\" | 0\\n| align=\"center\" | 1\\n| align=\"center\" | 0\\n| align=\"center\" | 1\\n|-\\n| {{u|Kenzvivas}}\\n| align=\"center\" | 1\\n| align=\"center\" | 0\\n| align=\"center\" | 0\\n| align=\"center\" | 1\\n|-\\n| {{u|Krapauska}}\\n| align=\"center\" | 0\\n| align=\"center\" | 1\\n| align=\"center\" | 0\\n| align=\"center\" | 1\\n|-\\n| {{u|Hector Ache}}\\n| align=\"center\" | 0\\n| align=\"center\" | 1\\n| align=\"center\" | 0\\n| align=\"center\" | 1\\n|-\\n| {{u|Jaime Calatayud}}\\n| align=\"center\" | 0\\n| align=\"center\" | 1\\n| align=\"center\" | 0\\n| align=\"center\" | 1\\n|}'"
      ]
     },
     "execution_count": 186,
     "metadata": {},
     "output_type": "execute_result"
    }
   ],
   "source": [
    "_text"
   ]
  },
  {
   "cell_type": "code",
   "execution_count": 187,
   "metadata": {
    "collapsed": false
   },
   "outputs": [
    {
     "name": "stderr",
     "output_type": "stream",
     "text": [
      "Publishing --> WLE Statistics\n",
      "Page [[User:Discasto/test1]] saved\n"
     ]
    }
   ],
   "source": [
    "_page = pb.Page(commons_site, u\"User:Discasto/test1\")\n",
    "_page.text = _text\n",
    "pb.output('Publishing --> WLE Statistics')\n",
    "#print statisticts_text\n",
    "_page.save(u\"WLE Spain statistics\")"
   ]
  },
  {
   "cell_type": "code",
   "execution_count": null,
   "metadata": {
    "collapsed": true
   },
   "outputs": [],
   "source": [
    "\n",
    "\n"
   ]
  },
  {
   "cell_type": "code",
   "execution_count": null,
   "metadata": {
    "collapsed": true
   },
   "outputs": [],
   "source": []
  }
 ],
 "metadata": {
  "kernelspec": {
   "display_name": "Python 2",
   "language": "python",
   "name": "python2"
  },
  "language_info": {
   "codemirror_mode": {
    "name": "ipython",
    "version": 2
   },
   "file_extension": ".py",
   "mimetype": "text/x-python",
   "name": "python",
   "nbconvert_exporter": "python",
   "pygments_lexer": "ipython2",
   "version": "2.7.12"
  }
 },
 "nbformat": 4,
 "nbformat_minor": 0
}
