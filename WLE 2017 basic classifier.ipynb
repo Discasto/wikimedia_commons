{
 "cells": [
  {
   "cell_type": "code",
   "execution_count": 1,
   "metadata": {
    "collapsed": true
   },
   "outputs": [],
   "source": [
    "#!/usr/bin/python\n",
    "# -*- coding: latin-1 -*-\n",
    "\n",
    "import os, sys, inspect\n",
    "\n",
    "current_folder = os.path.realpath(os.path.abspath(os.path.split(inspect.getfile(inspect.currentframe()))[0]))\n",
    "folder_parts = current_folder.split(os.sep)\n",
    "pywikibot_folder = os.sep.join(folder_parts[0:-1])\n",
    "\n",
    "if current_folder not in sys.path:\n",
    "    sys.path.insert(0, current_folder)\n",
    "if pywikibot_folder not in sys.path:\n",
    "    sys.path.insert(0, pywikibot_folder)\n",
    "\n",
    "import pywikibot as pb\n",
    "from pywikibot import pagegenerators, textlib\n",
    "from StringIO import StringIO\n",
    "import mwparserfromhell as mwh\n",
    "import pandas as pd"
   ]
  },
  {
   "cell_type": "code",
   "execution_count": 2,
   "metadata": {
    "collapsed": false
   },
   "outputs": [],
   "source": [
    "WLE_CATEGORY = u\"Category:Images from Wiki Loves Earth 2017 in Spain\"\n",
    "WLE_UQ_CATEGORY_1 = u\"Category:Unqualified images from Wiki Loves Earth 2017 in Spain (not from a site of community importance)\"\n",
    "NO_TEMPLATE_CATEGORY = u\"Category:Images from Wiki Loves Earth 2017 in Spain without valid template\"\n",
    "NO_ID_CATEGORY = u\"Category:Images from Wiki Loves Earth 2017 in Spain without code\"\n",
    "WRONG_ID_CATEGORY = u\"Category:Images from Wiki Loves Earth 2017 in Spain with a wrong code\"\n",
    "\n",
    "NO_TEMPLATE_CATEGORY_STRING = u\"\\n[[%s]]\" % (NO_TEMPLATE_CATEGORY)\n",
    "NO_ID_CATEGORY_STRING = u\"\\n[[%s]]\" % (NO_ID_CATEGORY)\n",
    "WRONG_ID_CATEGORY_STRING = u\"\\n[[%s]]\" % (WRONG_ID_CATEGORY)\n",
    "\n",
    "commons_site = pb.Site(\"commons\", \"commons\")"
   ]
  },
  {
   "cell_type": "code",
   "execution_count": 3,
   "metadata": {
    "collapsed": true
   },
   "outputs": [],
   "source": [
    "BASE_WLE2016_NAME   = u\"Commons:Wiki Loves Earth 2016 in Spain\"\n",
    "SCI_DB_PAGE         = BASE_WLE2016_NAME + u\"/SCI DB\"\n",
    "\n",
    "# we read the already created SCI database and create a dataframe\n",
    "sci_list_page = pb.Page(commons_site, SCI_DB_PAGE)\n",
    "sci_list_text = StringIO(sci_list_page.text[sci_list_page.text.find('\\n') + \n",
    "                                                      1:sci_list_page.text.rfind('\\n')])\n",
    "sci_df = pd.read_csv(sci_list_text, sep=\";\",\n",
    "                     index_col=False,\n",
    "                     names=[\"name\", \"code\", \"magrama_url\", \"community\",\n",
    "                            \"bio_region\", \"continent\", \"min_altitude\",\n",
    "                            \"max_altitude\", \"avg_altitude\", \"longitude\",\n",
    "                            \"latitude\", \"area\", \"marine_percentage\",\n",
    "                            \"marine_area\", \"image\", \"commons_cat\", \"wikidata_id\"])\n",
    "codes = sci_df[\"code\"].tolist()"
   ]
  },
  {
   "cell_type": "code",
   "execution_count": 9,
   "metadata": {
    "collapsed": true
   },
   "outputs": [],
   "source": [
    "# Retrieving author name\n",
    "cat_wle = pb.Category(commons_site, WLE_CATEGORY)\n",
    "gen_wle = pagegenerators.CategorizedPageGenerator(cat_wle)\n",
    "\n",
    "authors_wle = [page.oldest_revision[\"user\"] for page in gen_wle if page.isImage()]\n",
    "authors_wle = set(authors_wle)"
   ]
  },
  {
   "cell_type": "code",
   "execution_count": 4,
   "metadata": {
    "collapsed": false
   },
   "outputs": [
    {
     "name": "stderr",
     "output_type": "stream",
     "text": [
      "Retrieving --> WLE 2017 images from category\n"
     ]
    },
    {
     "data": {
      "text/plain": [
       "51"
      ]
     },
     "execution_count": 4,
     "metadata": {},
     "output_type": "execute_result"
    }
   ],
   "source": [
    "# Retrieving images from the WLE category\n",
    "pb.output('Retrieving --> WLE 2017 images from category')\n",
    "cat_uq_wle_1 = pb.Category(commons_site, WLE_UQ_CATEGORY_1)\n",
    "gen_uq_wle_1 = pagegenerators.CategorizedPageGenerator(cat_uq_wle_1)\n",
    "\n",
    "# Retrieving already unqualified images\n",
    "images_notvalid_1 = [page.title(withNamespace=True) for page in gen_uq_wle_1 if page.isImage()]\n",
    "len(images_notvalid_1)"
   ]
  },
  {
   "cell_type": "code",
   "execution_count": 5,
   "metadata": {
    "collapsed": false
   },
   "outputs": [
    {
     "data": {
      "text/plain": [
       "37"
      ]
     },
     "execution_count": 5,
     "metadata": {},
     "output_type": "execute_result"
    }
   ],
   "source": [
    "# Retrieving images without LIC template\n",
    "cat_uq_wle_2 = pb.Category(commons_site, NO_TEMPLATE_CATEGORY)\n",
    "gen_uq_wle_2 = pagegenerators.CategorizedPageGenerator(cat_uq_wle_2)\n",
    "\n",
    "images_notvalid_2 = [page.title(withNamespace=True) for page in gen_uq_wle_2 if page.isImage()]\n",
    "len(images_notvalid_2)"
   ]
  },
  {
   "cell_type": "code",
   "execution_count": 6,
   "metadata": {
    "collapsed": false
   },
   "outputs": [
    {
     "data": {
      "text/plain": [
       "109"
      ]
     },
     "execution_count": 6,
     "metadata": {},
     "output_type": "execute_result"
    }
   ],
   "source": [
    "# Retrieving images with LIC template and a code without proper format\n",
    "cat_uq_wle_3 = pb.Category(commons_site, NO_ID_CATEGORY)\n",
    "gen_uq_wle_3 = pagegenerators.CategorizedPageGenerator(cat_uq_wle_3)\n",
    "\n",
    "images_notvalid_3 = [page.title(withNamespace=True) for page in gen_uq_wle_3 if page.isImage()]\n",
    "len(images_notvalid_3)"
   ]
  },
  {
   "cell_type": "code",
   "execution_count": 7,
   "metadata": {
    "collapsed": false
   },
   "outputs": [
    {
     "data": {
      "text/plain": [
       "24"
      ]
     },
     "execution_count": 7,
     "metadata": {},
     "output_type": "execute_result"
    }
   ],
   "source": [
    "# Retrieving images with LIC template and a wrong code\n",
    "cat_uq_wle_4 = pb.Category(commons_site, WRONG_ID_CATEGORY)\n",
    "gen_uq_wle_4 = pagegenerators.CategorizedPageGenerator(cat_uq_wle_4)\n",
    "\n",
    "images_notvalid_4 = [page.title(withNamespace=True) for page in gen_uq_wle_4 if page.isImage()]\n",
    "len(images_notvalid_4)"
   ]
  },
  {
   "cell_type": "code",
   "execution_count": 8,
   "metadata": {
    "collapsed": false
   },
   "outputs": [
    {
     "data": {
      "text/plain": [
       "2153"
      ]
     },
     "execution_count": 8,
     "metadata": {},
     "output_type": "execute_result"
    }
   ],
   "source": [
    "# Retrieving valid images\n",
    "cat_wle = pb.Category(commons_site, WLE_CATEGORY)\n",
    "gen_wle = pagegenerators.CategorizedPageGenerator(cat_wle)\n",
    "\n",
    "images_wle = [page.title(withNamespace=True) for page in gen_wle if page.isImage() and \n",
    "              page.title(withNamespace=True) not in images_notvalid_1 and\n",
    "              page.title(withNamespace=True) not in images_notvalid_2 and\n",
    "              page.title(withNamespace=True) not in images_notvalid_3 and\n",
    "              page.title(withNamespace=True) not in images_notvalid_4\n",
    "             ]\n",
    "len(images_wle)"
   ]
  },
  {
   "cell_type": "code",
   "execution_count": 18,
   "metadata": {
    "collapsed": false
   },
   "outputs": [
    {
     "name": "stderr",
     "output_type": "stream",
     "text": [
      "Sleeping for 63.0 seconds, 2017-06-01 23:13:17\n"
     ]
    }
   ],
   "source": [
    "for image in images_wle:\n",
    "    page = pb.Page(commons_site, image)\n",
    "    text = page.text\n",
    "    wikicode = mwh.parse(text)\n",
    "    templates = wikicode.filter_templates()\n",
    "    WLE_template_found = False\n",
    "    WLE_identifier = ''\n",
    "    for template in templates :\n",
    "        #print(\"Template:\", template.name.lower().strip())\n",
    "        if template.name.lower().strip() == u\"lic\" :\n",
    "            WLE_template_found = True\n",
    "            WLE_identifier = template.get(1).value.strip()\n",
    "            break\n",
    "\n",
    "    if WLE_template_found == False :\n",
    "        print (\"--> Not found\")\n",
    "        page.text = text + NO_TEMPLATE_CATEGORY_STRING\n",
    "        page.save(\"WLE Spain 2017: No WLE templage found\")\n",
    "    elif WLE_identifier.startswith('ES') == False :\n",
    "        print (\"--> Not found\")\n",
    "        page.text = text + NO_ID_CATEGORY_STRING\n",
    "        page.save(\"WLE Spain 2017: No WLE identifier found\")\n",
    "    elif WLE_identifier not in codes :\n",
    "        print (\"--> Wrong\")\n",
    "        page.text = text + WRONG_ID_CATEGORY_STRING\n",
    "        page.save(\"WLE Spain 2017: Wrong WLE identifier found\")"
   ]
  },
  {
   "cell_type": "code",
   "execution_count": null,
   "metadata": {
    "collapsed": true
   },
   "outputs": [],
   "source": []
  }
 ],
 "metadata": {
  "kernelspec": {
   "display_name": "Python 2",
   "language": "python",
   "name": "python2"
  },
  "language_info": {
   "codemirror_mode": {
    "name": "ipython",
    "version": 2
   },
   "file_extension": ".py",
   "mimetype": "text/x-python",
   "name": "python",
   "nbconvert_exporter": "python",
   "pygments_lexer": "ipython2",
   "version": "2.7.12"
  }
 },
 "nbformat": 4,
 "nbformat_minor": 2
}
