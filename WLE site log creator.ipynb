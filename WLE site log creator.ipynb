{
 "cells": [
  {
   "cell_type": "code",
   "execution_count": 1,
   "metadata": {
    "collapsed": true
   },
   "outputs": [],
   "source": [
    "#!/usr/bin/python\n",
    "# -*- coding: latin-1 -*-\n",
    "\"\"\"This notebook updates de SCI database from the content of the annexes\"\"\"\n",
    "\n",
    "import os, sys, inspect\n",
    "from datetime import datetime, timedelta\n",
    "\n",
    "current_folder = os.path.realpath(os.path.abspath(os.path.split(inspect.getfile(inspect.currentframe()))[0]))\n",
    "folder_parts = current_folder.split(os.sep)\n",
    "pywikibot_folder = os.sep.join(folder_parts[0:-1])\n",
    "\n",
    "if current_folder not in sys.path:\n",
    "    sys.path.insert(0, current_folder)\n",
    "if pywikibot_folder not in sys.path:\n",
    "    sys.path.insert(0, pywikibot_folder)\n",
    "\n",
    "import pywikibot as pb\n",
    "from pywikibot import pagegenerators, textlib\n",
    "from StringIO import StringIO\n",
    "import mwparserfromhell as mwh\n",
    "import pandas as pd\n",
    "import numpy as np\n",
    "import seaborn as sns"
   ]
  },
  {
   "cell_type": "code",
   "execution_count": 2,
   "metadata": {
    "collapsed": false
   },
   "outputs": [],
   "source": [
    "sns.set_style(\"darkgrid\")\n",
    "\n",
    "%matplotlib inline"
   ]
  },
  {
   "cell_type": "code",
   "execution_count": 3,
   "metadata": {
    "collapsed": true
   },
   "outputs": [],
   "source": [
    "BASE_WLE2016_NAME           = u\"Commons:Wiki Loves Earth 2016 in Spain\"\n",
    "SCI_DB_PAGE                 = BASE_WLE2016_NAME + u\"/SCI DB\""
   ]
  },
  {
   "cell_type": "code",
   "execution_count": 4,
   "metadata": {
    "collapsed": true
   },
   "outputs": [],
   "source": [
    "annexes = [\n",
    "    [u'Anexo:Lugares de importancia comunitaria de Andalucía', u'Andalusia'],\n",
    "    [u'Anexo:Lugares de importancia comunitaria de Aragón', u'Aragon'],\n",
    "    [u'Anexo:Lugares de importancia comunitaria de Asturias', u'Asturias'],\n",
    "    [u'Anexo:Lugares de importancia comunitaria de Cantabria', u'Cantabria'],\n",
    "    [u'Anexo:Lugares de importancia comunitaria de Castilla-La Mancha', u'Castile-La Mancha'],\n",
    "    [u'Anexo:Lugares de importancia comunitaria de Castilla y León', u'Castile and León'],\n",
    "    [u'Anexo:Lugares de importancia comunitaria de Cataluña', u'Catalonia'],\n",
    "    [u'Anexo:Lugares de importancia comunitaria de la Comunidad de Madrid', u'Community of Madrid'],\n",
    "    [u'Anexo:Lugares de importancia comunitaria de la Comunidad Valenciana', u'Valencian Community'],\n",
    "    [u'Anexo:Lugares de importancia comunitaria de Extremadura', u'Extremadura'],\n",
    "    [u'Anexo:Lugares de importancia comunitaria de las Islas Baleares', u'Balearic Islands'],\n",
    "    [u'Anexo:Lugares de importancia comunitaria de las Islas Canarias', u'Canary Islands'],\n",
    "    [u'Anexo:Lugares de importancia comunitaria de Galicia', u'Galicia'],\n",
    "    [u'Anexo:Lugares de importancia comunitaria de La Rioja', u'La Rioja'],\n",
    "    [u'Anexo:Lugares de importancia comunitaria de Navarra', u'Navarre'],\n",
    "    [u'Anexo:Lugares de importancia comunitaria de la Región de Murcia', u'Region of Murcia'],\n",
    "    [u'Anexo:Lugares de importancia comunitaria del País Vasco', u'Basque Country'],\n",
    "    [u'Anexo:Lugares de importancia comunitaria de Ceuta y Melilla', u'Ceuta y Melilla'],\n",
    "    [u'Anexo:Lugares de importancia comunitaria del MAGRAMA', u'MAGRAMA']\n",
    "]"
   ]
  },
  {
   "cell_type": "code",
   "execution_count": 5,
   "metadata": {
    "collapsed": false
   },
   "outputs": [
    {
     "name": "stderr",
     "output_type": "stream",
     "text": [
      "Processing annex Anexo:Lugares de importancia comunitaria de Andalucía\n",
      "Processing annex Anexo:Lugares de importancia comunitaria de Aragón\n",
      "Processing annex Anexo:Lugares de importancia comunitaria de Asturias\n",
      "Processing annex Anexo:Lugares de importancia comunitaria de Cantabria\n",
      "Processing annex Anexo:Lugares de importancia comunitaria de Castilla-La Mancha\n",
      "Processing annex Anexo:Lugares de importancia comunitaria de Castilla y León\n",
      "Processing annex Anexo:Lugares de importancia comunitaria de Cataluña\n",
      "Processing annex Anexo:Lugares de importancia comunitaria de la Comunidad de Madrid\n",
      "Processing annex Anexo:Lugares de importancia comunitaria de la Comunidad Valenciana\n",
      "Processing annex Anexo:Lugares de importancia comunitaria de Extremadura\n",
      "Processing annex Anexo:Lugares de importancia comunitaria de las Islas Baleares\n",
      "Processing annex Anexo:Lugares de importancia comunitaria de las Islas Canarias\n",
      "Processing annex Anexo:Lugares de importancia comunitaria de Galicia\n",
      "Processing annex Anexo:Lugares de importancia comunitaria de La Rioja\n",
      "Processing annex Anexo:Lugares de importancia comunitaria de Navarra\n",
      "Processing annex Anexo:Lugares de importancia comunitaria de la Región de Murcia\n",
      "Processing annex Anexo:Lugares de importancia comunitaria del País Vasco\n",
      "Processing annex Anexo:Lugares de importancia comunitaria de Ceuta y Melilla\n",
      "Processing annex Anexo:Lugares de importancia comunitaria del MAGRAMA\n"
     ]
    }
   ],
   "source": [
    "commons_site = pb.Site(\"commons\", \"commons\")\n",
    "wikipedia_site = pb.Site(\"es\", \"wikipedia\")\n",
    "\n",
    "sites_df = pd.DataFrame(\n",
    "    columns=['code', 'commons_cat', 'image'])\n",
    "\n",
    "for annex in annexes:\n",
    "    pb.output(\"Processing annex \" + annex[0])\n",
    "    page = pb.Page(wikipedia_site, annex[0])\n",
    "    text = page.text\n",
    "    wikicode = mwh.parse(text)\n",
    "    templates = [template for template in wikicode.filter_templates() if template.name.lower().strip() == u\"fila lic\"]\n",
    "    for template in templates :\n",
    "        df_row = dict()\n",
    "        df_row[\"code\"] = template.get(u\"código\").value.strip()\n",
    "        df_row[\"commons_cat\"] = u''\n",
    "        df_row[\"image\"] = u''\n",
    "        try:\n",
    "            if template.get(u\"categoría-Commons\").value :\n",
    "                df_row[\"commons_cat\"] = template.get(u\"categoría-Commons\").value.strip()\n",
    "            if template.get(u\"imagen\").value :\n",
    "                df_row[\"image\"] = template.get(u\"imagen\").value.strip()\n",
    "        except :\n",
    "            print template.get(u\"código\").value.strip()\n",
    "\n",
    "        sites_df = sites_df.append(df_row, ignore_index=True)"
   ]
  },
  {
   "cell_type": "code",
   "execution_count": 6,
   "metadata": {
    "collapsed": false
   },
   "outputs": [
    {
     "name": "stderr",
     "output_type": "stream",
     "text": [
      "Retrieving --> WLE SCI list\n",
      "Retrieved --> WLE SCI list\n"
     ]
    }
   ],
   "source": [
    "pb.output('Retrieving --> WLE SCI list')\n",
    "sci_list_page = pb.Page(commons_site, SCI_DB_PAGE)\n",
    "sci_list_text = StringIO(sci_list_page.text[sci_list_page.text.find('\\n') + \n",
    "                                                      1:sci_list_page.text.rfind('\\n')])\n",
    "sci_df = pd.read_csv(sci_list_text, sep=\";\",\n",
    "                     index_col=False,\n",
    "                     names=[\"name\", \"code\", \"magrama_url\", \"community\",\n",
    "                            \"bio_region\", \"continent\", \"min_altitude\",\n",
    "                            \"max_altitude\", \"avg_altitude\", \"longitude\",\n",
    "                            \"latitude\", \"area\", \"marine_percentage\",\n",
    "                            \"marine_area\", \"image\", \"commons_cat\", \"wikidata_id\"])\n",
    "pb.output('Retrieved --> WLE SCI list')"
   ]
  },
  {
   "cell_type": "code",
   "execution_count": 7,
   "metadata": {
    "collapsed": true
   },
   "outputs": [],
   "source": [
    "sci_df.drop(['commons_cat', 'image'], axis=1, inplace=True)"
   ]
  },
  {
   "cell_type": "code",
   "execution_count": 8,
   "metadata": {
    "collapsed": false
   },
   "outputs": [],
   "source": [
    "columns = [\"name\", \"code\", \"magrama_url\", \"community\",\n",
    "                            \"bio_region\", \"continent\", \"min_altitude\",\n",
    "                            \"max_altitude\", \"avg_altitude\", \"longitude\",\n",
    "                            \"latitude\", \"area\", \"marine_percentage\",\n",
    "                            \"marine_area\", \"image\", \"commons_cat\", \"wikidata_id\"]\n",
    "result = pd.merge(sci_df, sites_df, on='code', how='outer')\n",
    "result = result[columns]\n",
    "csv_text = result.to_csv(sep=';', encoding='utf-8', header=False, index=False)\n",
    "csv_text = '<pre>\\n' + csv_text.replace('.0;', ';') + '\\n</pre>'"
   ]
  },
  {
   "cell_type": "code",
   "execution_count": 9,
   "metadata": {
    "collapsed": false
   },
   "outputs": [
    {
     "name": "stderr",
     "output_type": "stream",
     "text": [
      "Publishing --> WLE 2017 SCI DB update\n",
      "Sleeping for 12.3 seconds, 2017-06-16 19:21:07\n",
      "Page [[Commons:Wiki Loves Earth 2016 in Spain/SCI DB]] saved\n"
     ]
    }
   ],
   "source": [
    "db_page = pb.Page(commons_site, SCI_DB_PAGE)\n",
    "db_page.text = unicode(csv_text, \"utf-8\", \"replace\")\n",
    "pb.output('Publishing --> WLE SCI DB update')\n",
    "db_page.save(u\"WLE Spain SCI DB update\")"
   ]
  },
  {
   "cell_type": "code",
   "execution_count": null,
   "metadata": {
    "collapsed": true
   },
   "outputs": [],
   "source": []
  }
 ],
 "metadata": {
  "kernelspec": {
   "display_name": "Python 2",
   "language": "python",
   "name": "python2"
  },
  "language_info": {
   "codemirror_mode": {
    "name": "ipython",
    "version": 2
   },
   "file_extension": ".py",
   "mimetype": "text/x-python",
   "name": "python",
   "nbconvert_exporter": "python",
   "pygments_lexer": "ipython2",
   "version": "2.7.12"
  }
 },
 "nbformat": 4,
 "nbformat_minor": 2
}
