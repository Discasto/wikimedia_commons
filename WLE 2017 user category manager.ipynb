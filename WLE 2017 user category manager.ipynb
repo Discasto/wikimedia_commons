{
 "cells": [
  {
   "cell_type": "code",
   "execution_count": 22,
   "metadata": {
    "collapsed": true
   },
   "outputs": [],
   "source": [
    "#!/usr/bin/python\n",
    "# -*- coding: latin-1 -*-\n",
    "\n",
    "import os, sys, inspect\n",
    "\n",
    "current_folder = os.path.realpath(os.path.abspath(os.path.split(inspect.getfile(inspect.currentframe()))[0]))\n",
    "folder_parts = current_folder.split(os.sep)\n",
    "pywikibot_folder = os.sep.join(folder_parts[0:-1])\n",
    "\n",
    "if current_folder not in sys.path:\n",
    "    sys.path.insert(0, current_folder)\n",
    "if pywikibot_folder not in sys.path:\n",
    "    sys.path.insert(0, pywikibot_folder)\n",
    "\n",
    "import pywikibot as pb\n",
    "from pywikibot import pagegenerators\n",
    "from StringIO import StringIO\n",
    "import pandas as pd"
   ]
  },
  {
   "cell_type": "code",
   "execution_count": 23,
   "metadata": {
    "collapsed": false
   },
   "outputs": [
    {
     "name": "stdout",
     "output_type": "stream",
     "text": [
      "0\n",
      "Commons:Wiki Loves Earth 2015 in Spain/Log\n",
      "1\n",
      "Commons:Wiki Loves Earth 2016 in Spain/Log\n",
      "2\n",
      "Commons:Wiki Loves Earth 2017 in Spain/Log\n"
     ]
    }
   ],
   "source": [
    "commons_site = pb.Site(\"commons\", \"commons\")\n",
    "\n",
    "BASE_WLE_NAME       = u\"Commons:Wiki Loves Earth %d in Spain\"\n",
    "YEARS               = [2015, 2016, 2017]\n",
    "authors = {}\n",
    "for i, year in enumerate(YEARS):\n",
    "    log_page = (BASE_WLE_NAME % year) + u\"/Log\"\n",
    "    wle_list_page = pb.Page(commons_site, log_page)\n",
    "    wle_list_text = StringIO(wle_list_page.text[wle_list_page.text.find('\\n') + \n",
    "                                                      1:wle_list_page.text.rfind('\\n')])\n",
    "    wle_df = pd.read_csv(wle_list_text, sep=\";\",\n",
    "                         index_col=False,\n",
    "                         names=[\"title\", \"code\", \"author\", \"date\"])\n",
    "    authors[year] = set(wle_df[\"author\"].tolist())\n",
    "#BASE_WLE2017_NAME   = u\"Commons:Wiki Loves Earth 2017 in Spain\"\n",
    "#LOG_PAGE_2017       = BASE_WLE2017_NAME + u\"/Log\""
   ]
  },
  {
   "cell_type": "code",
   "execution_count": null,
   "metadata": {
    "collapsed": true
   },
   "outputs": [],
   "source": [
    "# Creation of categories for 2017\n",
    "for author in authors[2017] :\n",
    "    page = pb.Page(commons_site, u'Category:Images from Wiki Loves Earth 2017 in Spain by %s' %(author))\n",
    "    page.text = u'{{hiddencat}}\\n[[Category:Images from Wiki Loves Earth 2017 in Spain by author|%s]]' %(author)\n",
    "    page.save(\"WLE Spain 2017: user category creation\")"
   ]
  },
  {
   "cell_type": "code",
   "execution_count": 51,
   "metadata": {
    "collapsed": false
   },
   "outputs": [
    {
     "name": "stdout",
     "output_type": "stream",
     "text": [
      "{{hiddencat}}\n",
      "{{see also|Category:Images from Wiki Loves Earth 2015 in Spain by Marsan}}\n",
      "[[Category:Images from Wiki Loves Earth 2016 in Spain by author|Marsan]]\n"
     ]
    },
    {
     "name": "stderr",
     "output_type": "stream",
     "text": [
      "Page [[Category:Images from Wiki Loves Earth 2016 in Spain by Marsan]] saved\n",
      "INFO:pywiki:Page [[Category:Images from Wiki Loves Earth 2016 in Spain by Marsan]] saved\n"
     ]
    },
    {
     "name": "stdout",
     "output_type": "stream",
     "text": [
      "{{hiddencat}}\n",
      "{{see also|Category:Images from Wiki Loves Earth 2015 in Spain by Alberto-g-rovi}}\n",
      "[[Category:Images from Wiki Loves Earth 2016 in Spain by author|Alberto-g-rovi]]\n"
     ]
    },
    {
     "name": "stderr",
     "output_type": "stream",
     "text": [
      "Sleeping for 8.5 seconds, 2017-06-04 00:33:20\n",
      "INFO:pywiki:Sleeping for 8.5 seconds, 2017-06-04 00:33:20\n",
      "Page [[Category:Images from Wiki Loves Earth 2016 in Spain by Alberto-g-rovi]] saved\n",
      "INFO:pywiki:Page [[Category:Images from Wiki Loves Earth 2016 in Spain by Alberto-g-rovi]] saved\n",
      "Sleeping for 8.0 seconds, 2017-06-04 00:33:31\n",
      "INFO:pywiki:Sleeping for 8.0 seconds, 2017-06-04 00:33:31\n"
     ]
    },
    {
     "name": "stdout",
     "output_type": "stream",
     "text": [
      "{{hiddencat}}\n",
      "{{see also|Category:Images from Wiki Loves Earth 2015 in Spain by Alejandro MezcuA}}\n",
      "[[Category:Images from Wiki Loves Earth 2016 in Spain by author|Alejandro MezcuA]]\n"
     ]
    },
    {
     "name": "stderr",
     "output_type": "stream",
     "text": [
      "Page [[Category:Images from Wiki Loves Earth 2016 in Spain by Alejandro MezcuA]] saved\n",
      "INFO:pywiki:Page [[Category:Images from Wiki Loves Earth 2016 in Spain by Alejandro MezcuA]] saved\n"
     ]
    },
    {
     "name": "stdout",
     "output_type": "stream",
     "text": [
      "{{hiddencat}}\n",
      "{{see also|Category:Images from Wiki Loves Earth 2017 in Spain by Carmen Sanz Cabedo}}\n",
      "[[Category:Images from Wiki Loves Earth 2016 in Spain by author|Carmen Sanz Cabedo]]\n"
     ]
    },
    {
     "name": "stderr",
     "output_type": "stream",
     "text": [
      "Sleeping for 4.6 seconds, 2017-06-04 00:33:44\n",
      "INFO:pywiki:Sleeping for 4.6 seconds, 2017-06-04 00:33:44\n",
      "Page [[Category:Images from Wiki Loves Earth 2016 in Spain by Carmen Sanz Cabedo]] saved\n",
      "INFO:pywiki:Page [[Category:Images from Wiki Loves Earth 2016 in Spain by Carmen Sanz Cabedo]] saved\n",
      "Sleeping for 7.1 seconds, 2017-06-04 00:33:52\n",
      "INFO:pywiki:Sleeping for 7.1 seconds, 2017-06-04 00:33:52\n"
     ]
    },
    {
     "name": "stdout",
     "output_type": "stream",
     "text": [
      "{{hiddencat}}\n",
      "{{see also|Category:Images from Wiki Loves Earth 2017 in Spain by Mikipons}}\n",
      "{{see also|Category:Images from Wiki Loves Earth 2015 in Spain by Mikipons}}\n",
      "[[Category:Images from Wiki Loves Earth 2016 in Spain by author|Mikipons]]\n"
     ]
    },
    {
     "name": "stderr",
     "output_type": "stream",
     "text": [
      "Page [[Category:Images from Wiki Loves Earth 2016 in Spain by Mikipons]] saved\n",
      "INFO:pywiki:Page [[Category:Images from Wiki Loves Earth 2016 in Spain by Mikipons]] saved\n",
      "Sleeping for 6.0 seconds, 2017-06-04 00:34:03\n",
      "INFO:pywiki:Sleeping for 6.0 seconds, 2017-06-04 00:34:03\n"
     ]
    },
    {
     "name": "stdout",
     "output_type": "stream",
     "text": [
      "{{hiddencat}}\n",
      "{{see also|Category:Images from Wiki Loves Earth 2017 in Spain by Discasto}}\n",
      "{{see also|Category:Images from Wiki Loves Earth 2015 in Spain by Discasto}}\n",
      "[[Category:Images from Wiki Loves Earth 2016 in Spain by author|Discasto]]\n"
     ]
    },
    {
     "name": "stderr",
     "output_type": "stream",
     "text": [
      "Page [[Category:Images from Wiki Loves Earth 2016 in Spain by Discasto]] saved\n",
      "INFO:pywiki:Page [[Category:Images from Wiki Loves Earth 2016 in Spain by Discasto]] saved\n"
     ]
    },
    {
     "name": "stdout",
     "output_type": "stream",
     "text": [
      "{{hiddencat}}\n",
      "{{see also|Category:Images from Wiki Loves Earth 2015 in Spain by Yabedanie}}\n",
      "[[Category:Images from Wiki Loves Earth 2016 in Spain by author|Yabedanie]]\n"
     ]
    },
    {
     "name": "stderr",
     "output_type": "stream",
     "text": [
      "Sleeping for 9.1 seconds, 2017-06-04 00:34:10\n",
      "INFO:pywiki:Sleeping for 9.1 seconds, 2017-06-04 00:34:10\n",
      "Page [[Category:Images from Wiki Loves Earth 2016 in Spain by Yabedanie]] saved\n",
      "INFO:pywiki:Page [[Category:Images from Wiki Loves Earth 2016 in Spain by Yabedanie]] saved\n",
      "Sleeping for 5.2 seconds, 2017-06-04 00:34:23\n",
      "INFO:pywiki:Sleeping for 5.2 seconds, 2017-06-04 00:34:23\n"
     ]
    },
    {
     "name": "stdout",
     "output_type": "stream",
     "text": [
      "{{hiddencat}}\n",
      "{{see also|Category:Images from Wiki Loves Earth 2017 in Spain by Rodelar}}\n",
      "[[Category:Images from Wiki Loves Earth 2016 in Spain by author|Rodelar]]\n"
     ]
    },
    {
     "name": "stderr",
     "output_type": "stream",
     "text": [
      "Page [[Category:Images from Wiki Loves Earth 2016 in Spain by Rodelar]] saved\n",
      "INFO:pywiki:Page [[Category:Images from Wiki Loves Earth 2016 in Spain by Rodelar]] saved\n",
      "Sleeping for 5.4 seconds, 2017-06-04 00:34:33\n",
      "INFO:pywiki:Sleeping for 5.4 seconds, 2017-06-04 00:34:33\n"
     ]
    },
    {
     "name": "stdout",
     "output_type": "stream",
     "text": [
      "{{hiddencat}}\n",
      "{{see also|Category:Images from Wiki Loves Earth 2017 in Spain by Aglaya72}}\n",
      "{{see also|Category:Images from Wiki Loves Earth 2015 in Spain by Aglaya72}}\n",
      "[[Category:Images from Wiki Loves Earth 2016 in Spain by author|Aglaya72]]\n"
     ]
    },
    {
     "name": "stderr",
     "output_type": "stream",
     "text": [
      "Page [[Category:Images from Wiki Loves Earth 2016 in Spain by Aglaya72]] saved\n",
      "INFO:pywiki:Page [[Category:Images from Wiki Loves Earth 2016 in Spain by Aglaya72]] saved\n",
      "Sleeping for 5.3 seconds, 2017-06-04 00:34:43\n",
      "INFO:pywiki:Sleeping for 5.3 seconds, 2017-06-04 00:34:43\n"
     ]
    },
    {
     "name": "stdout",
     "output_type": "stream",
     "text": [
      "{{hiddencat}}\n",
      "{{see also|Category:Images from Wiki Loves Earth 2015 in Spain by NachoBen}}\n",
      "[[Category:Images from Wiki Loves Earth 2016 in Spain by author|NachoBen]]\n"
     ]
    },
    {
     "name": "stderr",
     "output_type": "stream",
     "text": [
      "Page [[Category:Images from Wiki Loves Earth 2016 in Spain by NachoBen]] saved\n",
      "INFO:pywiki:Page [[Category:Images from Wiki Loves Earth 2016 in Spain by NachoBen]] saved\n"
     ]
    },
    {
     "name": "stdout",
     "output_type": "stream",
     "text": [
      "{{hiddencat}}\n",
      "{{see also|Category:Images from Wiki Loves Earth 2015 in Spain by Cadoalla}}\n",
      "[[Category:Images from Wiki Loves Earth 2016 in Spain by author|Cadoalla]]\n"
     ]
    },
    {
     "name": "stderr",
     "output_type": "stream",
     "text": [
      "Sleeping for 3.7 seconds, 2017-06-04 00:34:55\n",
      "INFO:pywiki:Sleeping for 3.7 seconds, 2017-06-04 00:34:55\n",
      "Page [[Category:Images from Wiki Loves Earth 2016 in Spain by Cadoalla]] saved\n",
      "INFO:pywiki:Page [[Category:Images from Wiki Loves Earth 2016 in Spain by Cadoalla]] saved\n",
      "Sleeping for 8.8 seconds, 2017-06-04 00:35:00\n",
      "INFO:pywiki:Sleeping for 8.8 seconds, 2017-06-04 00:35:00\n"
     ]
    },
    {
     "name": "stdout",
     "output_type": "stream",
     "text": [
      "{{hiddencat}}\n",
      "{{see also|Category:Images from Wiki Loves Earth 2015 in Spain by Millars}}\n",
      "[[Category:Images from Wiki Loves Earth 2016 in Spain by author|Millars]]\n"
     ]
    },
    {
     "name": "stderr",
     "output_type": "stream",
     "text": [
      "Page [[Category:Images from Wiki Loves Earth 2016 in Spain by Millars]] saved\n",
      "INFO:pywiki:Page [[Category:Images from Wiki Loves Earth 2016 in Spain by Millars]] saved\n",
      "VERBOSE:pywiki:Found 1 commons:commons processes running, including this one.\n"
     ]
    },
    {
     "name": "stdout",
     "output_type": "stream",
     "text": [
      "{{hiddencat}}\n",
      "{{see also|Category:Images from Wiki Loves Earth 2015 in Spain by Tamara k}}\n",
      "[[Category:Images from Wiki Loves Earth 2016 in Spain by author|Tamara k]]\n"
     ]
    },
    {
     "name": "stderr",
     "output_type": "stream",
     "text": [
      "Sleeping for 7.7 seconds, 2017-06-04 00:35:11\n",
      "INFO:pywiki:Sleeping for 7.7 seconds, 2017-06-04 00:35:11\n",
      "Page [[Category:Images from Wiki Loves Earth 2016 in Spain by Tamara k]] saved\n",
      "INFO:pywiki:Page [[Category:Images from Wiki Loves Earth 2016 in Spain by Tamara k]] saved\n"
     ]
    },
    {
     "name": "stdout",
     "output_type": "stream",
     "text": [
      "{{hiddencat}}\n",
      "{{see also|Category:Images from Wiki Loves Earth 2017 in Spain by Dorieo}}\n",
      "[[Category:Images from Wiki Loves Earth 2016 in Spain by author|Dorieo]]\n"
     ]
    },
    {
     "name": "stderr",
     "output_type": "stream",
     "text": [
      "Sleeping for 5.4 seconds, 2017-06-04 00:35:23\n",
      "INFO:pywiki:Sleeping for 5.4 seconds, 2017-06-04 00:35:23\n",
      "Page [[Category:Images from Wiki Loves Earth 2016 in Spain by Dorieo]] saved\n",
      "INFO:pywiki:Page [[Category:Images from Wiki Loves Earth 2016 in Spain by Dorieo]] saved\n"
     ]
    },
    {
     "name": "stdout",
     "output_type": "stream",
     "text": [
      "{{hiddencat}}\n",
      "{{see also|Category:Images from Wiki Loves Earth 2015 in Spain by Poco a poco}}\n",
      "[[Category:Images from Wiki Loves Earth 2016 in Spain by author|Poco a poco]]\n"
     ]
    },
    {
     "name": "stderr",
     "output_type": "stream",
     "text": [
      "Sleeping for 7.7 seconds, 2017-06-04 00:35:31\n",
      "INFO:pywiki:Sleeping for 7.7 seconds, 2017-06-04 00:35:31\n",
      "Page [[Category:Images from Wiki Loves Earth 2016 in Spain by Poco a poco]] saved\n",
      "INFO:pywiki:Page [[Category:Images from Wiki Loves Earth 2016 in Spain by Poco a poco]] saved\n"
     ]
    },
    {
     "name": "stdout",
     "output_type": "stream",
     "text": [
      "{{hiddencat}}\n",
      "{{see also|Category:Images from Wiki Loves Earth 2015 in Spain by Xemenendura}}\n",
      "[[Category:Images from Wiki Loves Earth 2016 in Spain by author|Xemenendura]]\n"
     ]
    },
    {
     "name": "stderr",
     "output_type": "stream",
     "text": [
      "Sleeping for 8.6 seconds, 2017-06-04 00:35:40\n",
      "INFO:pywiki:Sleeping for 8.6 seconds, 2017-06-04 00:35:40\n",
      "Page [[Category:Images from Wiki Loves Earth 2016 in Spain by Xemenendura]] saved\n",
      "INFO:pywiki:Page [[Category:Images from Wiki Loves Earth 2016 in Spain by Xemenendura]] saved\n",
      "Sleeping for 9.0 seconds, 2017-06-04 00:35:50\n",
      "INFO:pywiki:Sleeping for 9.0 seconds, 2017-06-04 00:35:50\n"
     ]
    },
    {
     "name": "stdout",
     "output_type": "stream",
     "text": [
      "{{hiddencat}}\n",
      "{{see also|Category:Images from Wiki Loves Earth 2017 in Spain by Rafesmar}}\n",
      "{{see also|Category:Images from Wiki Loves Earth 2015 in Spain by Rafesmar}}\n",
      "[[Category:Images from Wiki Loves Earth 2016 in Spain by author|Rafesmar]]\n"
     ]
    },
    {
     "name": "stderr",
     "output_type": "stream",
     "text": [
      "Page [[Category:Images from Wiki Loves Earth 2016 in Spain by Rafesmar]] saved\n",
      "INFO:pywiki:Page [[Category:Images from Wiki Loves Earth 2016 in Spain by Rafesmar]] saved\n",
      "Sleeping for 5.7 seconds, 2017-06-04 00:36:03\n",
      "INFO:pywiki:Sleeping for 5.7 seconds, 2017-06-04 00:36:03\n"
     ]
    },
    {
     "name": "stdout",
     "output_type": "stream",
     "text": [
      "{{hiddencat}}\n",
      "{{see also|Category:Images from Wiki Loves Earth 2015 in Spain by Tramullas}}\n",
      "[[Category:Images from Wiki Loves Earth 2017 in Spain by author|Tramullas]]\n"
     ]
    },
    {
     "name": "stderr",
     "output_type": "stream",
     "text": [
      "Page [[Category:Images from Wiki Loves Earth 2017 in Spain by Tramullas]] saved\n",
      "INFO:pywiki:Page [[Category:Images from Wiki Loves Earth 2017 in Spain by Tramullas]] saved\n"
     ]
    },
    {
     "name": "stdout",
     "output_type": "stream",
     "text": [
      "{{hiddencat}}\n",
      "{{see also|Category:Images from Wiki Loves Earth 2016 in Spain by Carmen Sanz Cabedo}}\n",
      "[[Category:Images from Wiki Loves Earth 2017 in Spain by author|Carmen Sanz Cabedo]]\n"
     ]
    },
    {
     "name": "stderr",
     "output_type": "stream",
     "text": [
      "Sleeping for 4.9 seconds, 2017-06-04 00:36:14\n",
      "INFO:pywiki:Sleeping for 4.9 seconds, 2017-06-04 00:36:14\n",
      "Page [[Category:Images from Wiki Loves Earth 2017 in Spain by Carmen Sanz Cabedo]] saved\n",
      "INFO:pywiki:Page [[Category:Images from Wiki Loves Earth 2017 in Spain by Carmen Sanz Cabedo]] saved\n"
     ]
    },
    {
     "name": "stdout",
     "output_type": "stream",
     "text": [
      "{{hiddencat}}\n",
      "{{see also|Category:Images from Wiki Loves Earth 2015 in Spain by Efrainlarrea}}\n",
      "[[Category:Images from Wiki Loves Earth 2017 in Spain by author|Efrainlarrea]]\n"
     ]
    },
    {
     "name": "stderr",
     "output_type": "stream",
     "text": [
      "Sleeping for 8.1 seconds, 2017-06-04 00:36:21\n",
      "INFO:pywiki:Sleeping for 8.1 seconds, 2017-06-04 00:36:21\n",
      "Page [[Category:Images from Wiki Loves Earth 2017 in Spain by Efrainlarrea]] saved\n",
      "INFO:pywiki:Page [[Category:Images from Wiki Loves Earth 2017 in Spain by Efrainlarrea]] saved\n"
     ]
    },
    {
     "name": "stdout",
     "output_type": "stream",
     "text": [
      "{{hiddencat}}\n",
      "{{see also|Category:Images from Wiki Loves Earth 2016 in Spain by Mikipons}}\n",
      "{{see also|Category:Images from Wiki Loves Earth 2015 in Spain by Mikipons}}\n",
      "[[Category:Images from Wiki Loves Earth 2017 in Spain by author|Mikipons]]\n"
     ]
    },
    {
     "name": "stderr",
     "output_type": "stream",
     "text": [
      "Sleeping for 7.8 seconds, 2017-06-04 00:36:31\n",
      "INFO:pywiki:Sleeping for 7.8 seconds, 2017-06-04 00:36:31\n",
      "Page [[Category:Images from Wiki Loves Earth 2017 in Spain by Mikipons]] saved\n",
      "INFO:pywiki:Page [[Category:Images from Wiki Loves Earth 2017 in Spain by Mikipons]] saved\n",
      "Sleeping for 6.8 seconds, 2017-06-04 00:36:42\n",
      "INFO:pywiki:Sleeping for 6.8 seconds, 2017-06-04 00:36:42\n"
     ]
    },
    {
     "name": "stdout",
     "output_type": "stream",
     "text": [
      "{{hiddencat}}\n",
      "{{see also|Category:Images from Wiki Loves Earth 2016 in Spain by Discasto}}\n",
      "{{see also|Category:Images from Wiki Loves Earth 2015 in Spain by Discasto}}\n",
      "[[Category:Images from Wiki Loves Earth 2017 in Spain by author|Discasto]]\n"
     ]
    },
    {
     "name": "stderr",
     "output_type": "stream",
     "text": [
      "Page [[Category:Images from Wiki Loves Earth 2017 in Spain by Discasto]] saved\n",
      "INFO:pywiki:Page [[Category:Images from Wiki Loves Earth 2017 in Spain by Discasto]] saved\n",
      "Sleeping for 7.0 seconds, 2017-06-04 00:36:52\n",
      "INFO:pywiki:Sleeping for 7.0 seconds, 2017-06-04 00:36:52\n"
     ]
    },
    {
     "name": "stdout",
     "output_type": "stream",
     "text": [
      "{{hiddencat}}\n",
      "{{see also|Category:Images from Wiki Loves Earth 2016 in Spain by Rodelar}}\n",
      "[[Category:Images from Wiki Loves Earth 2017 in Spain by author|Rodelar]]\n"
     ]
    },
    {
     "name": "stderr",
     "output_type": "stream",
     "text": [
      "Page [[Category:Images from Wiki Loves Earth 2017 in Spain by Rodelar]] saved\n",
      "INFO:pywiki:Page [[Category:Images from Wiki Loves Earth 2017 in Spain by Rodelar]] saved\n",
      "Sleeping for 7.9 seconds, 2017-06-04 00:37:01\n",
      "INFO:pywiki:Sleeping for 7.9 seconds, 2017-06-04 00:37:01\n"
     ]
    },
    {
     "name": "stdout",
     "output_type": "stream",
     "text": [
      "{{hiddencat}}\n",
      "{{see also|Category:Images from Wiki Loves Earth 2015 in Spain by Balles2601}}\n",
      "[[Category:Images from Wiki Loves Earth 2017 in Spain by author|Balles2601]]\n"
     ]
    },
    {
     "name": "stderr",
     "output_type": "stream",
     "text": [
      "Page [[Category:Images from Wiki Loves Earth 2017 in Spain by Balles2601]] saved\n",
      "INFO:pywiki:Page [[Category:Images from Wiki Loves Earth 2017 in Spain by Balles2601]] saved\n"
     ]
    },
    {
     "name": "stdout",
     "output_type": "stream",
     "text": [
      "{{hiddencat}}\n",
      "{{see also|Category:Images from Wiki Loves Earth 2016 in Spain by Aglaya72}}\n",
      "{{see also|Category:Images from Wiki Loves Earth 2015 in Spain by Aglaya72}}\n",
      "[[Category:Images from Wiki Loves Earth 2017 in Spain by author|Aglaya72]]\n"
     ]
    },
    {
     "name": "stderr",
     "output_type": "stream",
     "text": [
      "Sleeping for 7.3 seconds, 2017-06-04 00:37:11\n",
      "INFO:pywiki:Sleeping for 7.3 seconds, 2017-06-04 00:37:11\n",
      "Page [[Category:Images from Wiki Loves Earth 2017 in Spain by Aglaya72]] saved\n",
      "INFO:pywiki:Page [[Category:Images from Wiki Loves Earth 2017 in Spain by Aglaya72]] saved\n",
      "Sleeping for 8.4 seconds, 2017-06-04 00:37:20\n",
      "INFO:pywiki:Sleeping for 8.4 seconds, 2017-06-04 00:37:20\n"
     ]
    },
    {
     "name": "stdout",
     "output_type": "stream",
     "text": [
      "{{hiddencat}}\n",
      "{{see also|Category:Images from Wiki Loves Earth 2015 in Spain by Salo94}}\n",
      "[[Category:Images from Wiki Loves Earth 2017 in Spain by author|Salo94]]\n"
     ]
    },
    {
     "name": "stderr",
     "output_type": "stream",
     "text": [
      "Page [[Category:Images from Wiki Loves Earth 2017 in Spain by Salo94]] saved\n",
      "INFO:pywiki:Page [[Category:Images from Wiki Loves Earth 2017 in Spain by Salo94]] saved\n",
      "Sleeping for 4.7 seconds, 2017-06-04 00:37:34\n",
      "INFO:pywiki:Sleeping for 4.7 seconds, 2017-06-04 00:37:34\n"
     ]
    },
    {
     "name": "stdout",
     "output_type": "stream",
     "text": [
      "{{hiddencat}}\n",
      "{{see also|Category:Images from Wiki Loves Earth 2015 in Spain by El Pantera}}\n",
      "[[Category:Images from Wiki Loves Earth 2017 in Spain by author|El Pantera]]\n"
     ]
    },
    {
     "name": "stderr",
     "output_type": "stream",
     "text": [
      "Page [[Category:Images from Wiki Loves Earth 2017 in Spain by El Pantera]] saved\n",
      "INFO:pywiki:Page [[Category:Images from Wiki Loves Earth 2017 in Spain by El Pantera]] saved\n"
     ]
    },
    {
     "name": "stdout",
     "output_type": "stream",
     "text": [
      "{{hiddencat}}\n",
      "{{see also|Category:Images from Wiki Loves Earth 2015 in Spain by Tanja 007}}\n",
      "[[Category:Images from Wiki Loves Earth 2017 in Spain by author|Tanja 007]]\n"
     ]
    },
    {
     "name": "stderr",
     "output_type": "stream",
     "text": [
      "VERBOSE:pywiki:Sleeping for 2.4 seconds, 2017-06-04 00:37:46\n",
      "Page [[Category:Images from Wiki Loves Earth 2017 in Spain by Tanja 007]] saved\n",
      "INFO:pywiki:Page [[Category:Images from Wiki Loves Earth 2017 in Spain by Tanja 007]] saved\n",
      "Sleeping for 8.5 seconds, 2017-06-04 00:37:50\n",
      "INFO:pywiki:Sleeping for 8.5 seconds, 2017-06-04 00:37:50\n"
     ]
    },
    {
     "name": "stdout",
     "output_type": "stream",
     "text": [
      "{{hiddencat}}\n",
      "{{see also|Category:Images from Wiki Loves Earth 2016 in Spain by Dorieo}}\n",
      "[[Category:Images from Wiki Loves Earth 2017 in Spain by author|Dorieo]]\n"
     ]
    },
    {
     "name": "stderr",
     "output_type": "stream",
     "text": [
      "Page [[Category:Images from Wiki Loves Earth 2017 in Spain by Dorieo]] saved\n",
      "INFO:pywiki:Page [[Category:Images from Wiki Loves Earth 2017 in Spain by Dorieo]] saved\n",
      "Sleeping for 6.2 seconds, 2017-06-04 00:38:03\n",
      "INFO:pywiki:Sleeping for 6.2 seconds, 2017-06-04 00:38:03\n"
     ]
    },
    {
     "name": "stdout",
     "output_type": "stream",
     "text": [
      "{{hiddencat}}\n",
      "{{see also|Category:Images from Wiki Loves Earth 2016 in Spain by Rafesmar}}\n",
      "{{see also|Category:Images from Wiki Loves Earth 2015 in Spain by Rafesmar}}\n",
      "[[Category:Images from Wiki Loves Earth 2017 in Spain by author|Rafesmar]]\n"
     ]
    },
    {
     "name": "stderr",
     "output_type": "stream",
     "text": [
      "Page [[Category:Images from Wiki Loves Earth 2017 in Spain by Rafesmar]] saved\n",
      "INFO:pywiki:Page [[Category:Images from Wiki Loves Earth 2017 in Spain by Rafesmar]] saved\n",
      "Sleeping for 6.6 seconds, 2017-06-04 00:38:12\n",
      "INFO:pywiki:Sleeping for 6.6 seconds, 2017-06-04 00:38:12\n"
     ]
    },
    {
     "name": "stdout",
     "output_type": "stream",
     "text": [
      "{{hiddencat}}\n",
      "{{see also|Category:Images from Wiki Loves Earth 2016 in Spain by Marsan}}\n",
      "[[Category:Images from Wiki Loves Earth 2015 in Spain by author|Marsan]]\n"
     ]
    },
    {
     "name": "stderr",
     "output_type": "stream",
     "text": [
      "Page [[Category:Images from Wiki Loves Earth 2015 in Spain by Marsan]] saved\n",
      "INFO:pywiki:Page [[Category:Images from Wiki Loves Earth 2015 in Spain by Marsan]] saved\n"
     ]
    },
    {
     "name": "stdout",
     "output_type": "stream",
     "text": [
      "{{hiddencat}}\n",
      "{{see also|Category:Images from Wiki Loves Earth 2016 in Spain by Mikipons}}\n",
      "{{see also|Category:Images from Wiki Loves Earth 2017 in Spain by Mikipons}}\n",
      "[[Category:Images from Wiki Loves Earth 2015 in Spain by author|Mikipons]]\n"
     ]
    },
    {
     "name": "stderr",
     "output_type": "stream",
     "text": [
      "Sleeping for 4.3 seconds, 2017-06-04 00:38:24\n",
      "INFO:pywiki:Sleeping for 4.3 seconds, 2017-06-04 00:38:24\n",
      "Page [[Category:Images from Wiki Loves Earth 2015 in Spain by Mikipons]] saved\n",
      "INFO:pywiki:Page [[Category:Images from Wiki Loves Earth 2015 in Spain by Mikipons]] saved\n"
     ]
    },
    {
     "name": "stdout",
     "output_type": "stream",
     "text": [
      "{{hiddencat}}\n",
      "{{see also|Category:Images from Wiki Loves Earth 2016 in Spain by Alberto-g-rovi}}\n",
      "[[Category:Images from Wiki Loves Earth 2015 in Spain by author|Alberto-g-rovi]]\n"
     ]
    },
    {
     "name": "stderr",
     "output_type": "stream",
     "text": [
      "Sleeping for 7.1 seconds, 2017-06-04 00:38:32\n",
      "INFO:pywiki:Sleeping for 7.1 seconds, 2017-06-04 00:38:32\n",
      "Page [[Category:Images from Wiki Loves Earth 2015 in Spain by Alberto-g-rovi]] saved\n",
      "INFO:pywiki:Page [[Category:Images from Wiki Loves Earth 2015 in Spain by Alberto-g-rovi]] saved\n"
     ]
    },
    {
     "name": "stdout",
     "output_type": "stream",
     "text": [
      "{{hiddencat}}\n",
      "{{see also|Category:Images from Wiki Loves Earth 2016 in Spain by Aglaya72}}\n",
      "{{see also|Category:Images from Wiki Loves Earth 2017 in Spain by Aglaya72}}\n",
      "[[Category:Images from Wiki Loves Earth 2015 in Spain by author|Aglaya72]]\n"
     ]
    },
    {
     "name": "stderr",
     "output_type": "stream",
     "text": [
      "Sleeping for 6.5 seconds, 2017-06-04 00:38:42\n",
      "INFO:pywiki:Sleeping for 6.5 seconds, 2017-06-04 00:38:42\n",
      "Page [[Category:Images from Wiki Loves Earth 2015 in Spain by Aglaya72]] saved\n",
      "INFO:pywiki:Page [[Category:Images from Wiki Loves Earth 2015 in Spain by Aglaya72]] saved\n"
     ]
    },
    {
     "name": "stdout",
     "output_type": "stream",
     "text": [
      "{{hiddencat}}\n",
      "{{see also|Category:Images from Wiki Loves Earth 2017 in Spain by Salo94}}\n",
      "[[Category:Images from Wiki Loves Earth 2015 in Spain by author|Salo94]]\n"
     ]
    },
    {
     "name": "stderr",
     "output_type": "stream",
     "text": [
      "Page [[Category:Images from Wiki Loves Earth 2015 in Spain by Salo94]] saved\n",
      "INFO:pywiki:Page [[Category:Images from Wiki Loves Earth 2015 in Spain by Salo94]] saved\n",
      "Sleeping for 8.5 seconds, 2017-06-04 00:39:08\n",
      "INFO:pywiki:Sleeping for 8.5 seconds, 2017-06-04 00:39:08\n"
     ]
    },
    {
     "name": "stdout",
     "output_type": "stream",
     "text": [
      "{{hiddencat}}\n",
      "{{see also|Category:Images from Wiki Loves Earth 2016 in Spain by Alejandro MezcuA}}\n",
      "[[Category:Images from Wiki Loves Earth 2015 in Spain by author|Alejandro MezcuA]]\n"
     ]
    },
    {
     "name": "stderr",
     "output_type": "stream",
     "text": [
      "Page [[Category:Images from Wiki Loves Earth 2015 in Spain by Alejandro MezcuA]] saved\n",
      "INFO:pywiki:Page [[Category:Images from Wiki Loves Earth 2015 in Spain by Alejandro MezcuA]] saved\n",
      "Sleeping for 5.1 seconds, 2017-06-04 00:39:21\n",
      "INFO:pywiki:Sleeping for 5.1 seconds, 2017-06-04 00:39:21\n"
     ]
    },
    {
     "name": "stdout",
     "output_type": "stream",
     "text": [
      "{{hiddencat}}\n",
      "{{see also|Category:Images from Wiki Loves Earth 2016 in Spain by NachoBen}}\n",
      "[[Category:Images from Wiki Loves Earth 2015 in Spain by author|NachoBen]]\n"
     ]
    },
    {
     "name": "stderr",
     "output_type": "stream",
     "text": [
      "Page [[Category:Images from Wiki Loves Earth 2015 in Spain by NachoBen]] saved\n",
      "INFO:pywiki:Page [[Category:Images from Wiki Loves Earth 2015 in Spain by NachoBen]] saved\n",
      "WARNING: Http response status 503\n",
      "WARNING:pywiki:Http response status 503\n",
      "WARNING: Non-JSON response received from server commons:commons; the server may be down.\n",
      "WARNING:pywiki:Non-JSON response received from server commons:commons; the server may be down.\n",
      "WARNING: Waiting 5 seconds before retrying.\n",
      "WARNING:pywiki:Waiting 5 seconds before retrying.\n"
     ]
    },
    {
     "name": "stdout",
     "output_type": "stream",
     "text": [
      "{{hiddencat}}\n",
      "{{see also|Category:Images from Wiki Loves Earth 2017 in Spain by Balles2601}}\n",
      "[[Category:Images from Wiki Loves Earth 2015 in Spain by author|Balles2601]]\n"
     ]
    },
    {
     "name": "stderr",
     "output_type": "stream",
     "text": [
      "Page [[Category:Images from Wiki Loves Earth 2015 in Spain by Balles2601]] saved\n",
      "INFO:pywiki:Page [[Category:Images from Wiki Loves Earth 2015 in Spain by Balles2601]] saved\n",
      "Sleeping for 8.6 seconds, 2017-06-04 00:39:38\n",
      "INFO:pywiki:Sleeping for 8.6 seconds, 2017-06-04 00:39:38\n"
     ]
    },
    {
     "name": "stdout",
     "output_type": "stream",
     "text": [
      "{{hiddencat}}\n",
      "{{see also|Category:Images from Wiki Loves Earth 2016 in Spain by Poco a poco}}\n",
      "[[Category:Images from Wiki Loves Earth 2015 in Spain by author|Poco a poco]]\n"
     ]
    },
    {
     "name": "stderr",
     "output_type": "stream",
     "text": [
      "Page [[Category:Images from Wiki Loves Earth 2015 in Spain by Poco a poco]] saved\n",
      "INFO:pywiki:Page [[Category:Images from Wiki Loves Earth 2015 in Spain by Poco a poco]] saved\n"
     ]
    },
    {
     "name": "stdout",
     "output_type": "stream",
     "text": [
      "{{hiddencat}}\n",
      "{{see also|Category:Images from Wiki Loves Earth 2016 in Spain by Cadoalla}}\n",
      "[[Category:Images from Wiki Loves Earth 2015 in Spain by author|Cadoalla]]\n"
     ]
    },
    {
     "name": "stderr",
     "output_type": "stream",
     "text": [
      "Sleeping for 5.8 seconds, 2017-06-04 00:39:51\n",
      "INFO:pywiki:Sleeping for 5.8 seconds, 2017-06-04 00:39:51\n",
      "Page [[Category:Images from Wiki Loves Earth 2015 in Spain by Cadoalla]] saved\n",
      "INFO:pywiki:Page [[Category:Images from Wiki Loves Earth 2015 in Spain by Cadoalla]] saved\n",
      "Sleeping for 4.0 seconds, 2017-06-04 00:40:03\n",
      "INFO:pywiki:Sleeping for 4.0 seconds, 2017-06-04 00:40:03\n"
     ]
    },
    {
     "name": "stdout",
     "output_type": "stream",
     "text": [
      "{{hiddencat}}\n",
      "{{see also|Category:Images from Wiki Loves Earth 2016 in Spain by Discasto}}\n",
      "{{see also|Category:Images from Wiki Loves Earth 2017 in Spain by Discasto}}\n",
      "[[Category:Images from Wiki Loves Earth 2015 in Spain by author|Discasto]]\n"
     ]
    },
    {
     "name": "stderr",
     "output_type": "stream",
     "text": [
      "Page [[Category:Images from Wiki Loves Earth 2015 in Spain by Discasto]] saved\n",
      "INFO:pywiki:Page [[Category:Images from Wiki Loves Earth 2015 in Spain by Discasto]] saved\n"
     ]
    },
    {
     "name": "stdout",
     "output_type": "stream",
     "text": [
      "{{hiddencat}}\n",
      "{{see also|Category:Images from Wiki Loves Earth 2017 in Spain by El Pantera}}\n",
      "[[Category:Images from Wiki Loves Earth 2015 in Spain by author|El Pantera]]\n"
     ]
    },
    {
     "name": "stderr",
     "output_type": "stream",
     "text": [
      "VERBOSE:pywiki:Found 1 commons:commons processes running, including this one.\n",
      "Sleeping for 7.5 seconds, 2017-06-04 00:40:09\n",
      "INFO:pywiki:Sleeping for 7.5 seconds, 2017-06-04 00:40:09\n",
      "Page [[Category:Images from Wiki Loves Earth 2015 in Spain by El Pantera]] saved\n",
      "INFO:pywiki:Page [[Category:Images from Wiki Loves Earth 2015 in Spain by El Pantera]] saved\n",
      "Sleeping for 7.9 seconds, 2017-06-04 00:40:19\n",
      "INFO:pywiki:Sleeping for 7.9 seconds, 2017-06-04 00:40:19\n"
     ]
    },
    {
     "name": "stdout",
     "output_type": "stream",
     "text": [
      "{{hiddencat}}\n",
      "{{see also|Category:Images from Wiki Loves Earth 2016 in Spain by Millars}}\n",
      "[[Category:Images from Wiki Loves Earth 2015 in Spain by author|Millars]]\n"
     ]
    },
    {
     "name": "stderr",
     "output_type": "stream",
     "text": [
      "Page [[Category:Images from Wiki Loves Earth 2015 in Spain by Millars]] saved\n",
      "INFO:pywiki:Page [[Category:Images from Wiki Loves Earth 2015 in Spain by Millars]] saved\n"
     ]
    },
    {
     "name": "stdout",
     "output_type": "stream",
     "text": [
      "{{hiddencat}}\n",
      "{{see also|Category:Images from Wiki Loves Earth 2017 in Spain by Tanja 007}}\n",
      "[[Category:Images from Wiki Loves Earth 2015 in Spain by author|Tanja 007]]\n"
     ]
    },
    {
     "name": "stderr",
     "output_type": "stream",
     "text": [
      "Sleeping for 5.5 seconds, 2017-06-04 00:40:31\n",
      "INFO:pywiki:Sleeping for 5.5 seconds, 2017-06-04 00:40:31\n",
      "Page [[Category:Images from Wiki Loves Earth 2015 in Spain by Tanja 007]] saved\n",
      "INFO:pywiki:Page [[Category:Images from Wiki Loves Earth 2015 in Spain by Tanja 007]] saved\n",
      "Sleeping for 8.0 seconds, 2017-06-04 00:40:39\n",
      "INFO:pywiki:Sleeping for 8.0 seconds, 2017-06-04 00:40:39\n"
     ]
    },
    {
     "name": "stdout",
     "output_type": "stream",
     "text": [
      "{{hiddencat}}\n",
      "{{see also|Category:Images from Wiki Loves Earth 2016 in Spain by Xemenendura}}\n",
      "[[Category:Images from Wiki Loves Earth 2015 in Spain by author|Xemenendura]]\n"
     ]
    },
    {
     "name": "stderr",
     "output_type": "stream",
     "text": [
      "Page [[Category:Images from Wiki Loves Earth 2015 in Spain by Xemenendura]] saved\n",
      "INFO:pywiki:Page [[Category:Images from Wiki Loves Earth 2015 in Spain by Xemenendura]] saved\n",
      "Sleeping for 9.1 seconds, 2017-06-04 00:40:48\n",
      "INFO:pywiki:Sleeping for 9.1 seconds, 2017-06-04 00:40:48\n"
     ]
    },
    {
     "name": "stdout",
     "output_type": "stream",
     "text": [
      "{{hiddencat}}\n",
      "{{see also|Category:Images from Wiki Loves Earth 2016 in Spain by Rafesmar}}\n",
      "{{see also|Category:Images from Wiki Loves Earth 2017 in Spain by Rafesmar}}\n",
      "[[Category:Images from Wiki Loves Earth 2015 in Spain by author|Rafesmar]]\n"
     ]
    },
    {
     "name": "stderr",
     "output_type": "stream",
     "text": [
      "Page [[Category:Images from Wiki Loves Earth 2015 in Spain by Rafesmar]] saved\n",
      "INFO:pywiki:Page [[Category:Images from Wiki Loves Earth 2015 in Spain by Rafesmar]] saved\n",
      "Sleeping for 6.9 seconds, 2017-06-04 00:41:00\n",
      "INFO:pywiki:Sleeping for 6.9 seconds, 2017-06-04 00:41:00\n"
     ]
    },
    {
     "name": "stdout",
     "output_type": "stream",
     "text": [
      "{{hiddencat}}\n",
      "{{see also|Category:Images from Wiki Loves Earth 2017 in Spain by Tramullas}}\n",
      "[[Category:Images from Wiki Loves Earth 2015 in Spain by author|Tramullas]]\n"
     ]
    },
    {
     "name": "stderr",
     "output_type": "stream",
     "text": [
      "Page [[Category:Images from Wiki Loves Earth 2015 in Spain by Tramullas]] saved\n",
      "INFO:pywiki:Page [[Category:Images from Wiki Loves Earth 2015 in Spain by Tramullas]] saved\n"
     ]
    },
    {
     "name": "stdout",
     "output_type": "stream",
     "text": [
      "{{hiddencat}}\n",
      "{{see also|Category:Images from Wiki Loves Earth 2017 in Spain by Efrainlarrea}}\n",
      "[[Category:Images from Wiki Loves Earth 2015 in Spain by author|Efrainlarrea]]\n"
     ]
    },
    {
     "name": "stderr",
     "output_type": "stream",
     "text": [
      "Sleeping for 4.7 seconds, 2017-06-04 00:41:12\n",
      "INFO:pywiki:Sleeping for 4.7 seconds, 2017-06-04 00:41:12\n",
      "Page [[Category:Images from Wiki Loves Earth 2015 in Spain by Efrainlarrea]] saved\n",
      "INFO:pywiki:Page [[Category:Images from Wiki Loves Earth 2015 in Spain by Efrainlarrea]] saved\n",
      "Sleeping for 6.0 seconds, 2017-06-04 00:41:21\n",
      "INFO:pywiki:Sleeping for 6.0 seconds, 2017-06-04 00:41:21\n"
     ]
    },
    {
     "name": "stdout",
     "output_type": "stream",
     "text": [
      "{{hiddencat}}\n",
      "{{see also|Category:Images from Wiki Loves Earth 2016 in Spain by Yabedanie}}\n",
      "[[Category:Images from Wiki Loves Earth 2015 in Spain by author|Yabedanie]]\n"
     ]
    },
    {
     "name": "stderr",
     "output_type": "stream",
     "text": [
      "Page [[Category:Images from Wiki Loves Earth 2015 in Spain by Yabedanie]] saved\n",
      "INFO:pywiki:Page [[Category:Images from Wiki Loves Earth 2015 in Spain by Yabedanie]] saved\n"
     ]
    },
    {
     "name": "stdout",
     "output_type": "stream",
     "text": [
      "{{hiddencat}}\n",
      "{{see also|Category:Images from Wiki Loves Earth 2016 in Spain by Tamara k}}\n",
      "[[Category:Images from Wiki Loves Earth 2015 in Spain by author|Tamara k]]\n"
     ]
    },
    {
     "name": "stderr",
     "output_type": "stream",
     "text": [
      "Page [[Category:Images from Wiki Loves Earth 2015 in Spain by Tamara k]] saved\n",
      "INFO:pywiki:Page [[Category:Images from Wiki Loves Earth 2015 in Spain by Tamara k]] saved\n"
     ]
    }
   ],
   "source": [
    "# Category update with links to other years' contributions\n",
    "for year, author_list in authors.iteritems():\n",
    "    other_years = [key for key in authors if key != year]\n",
    "    #print year, other_years\n",
    "    for author in author_list:\n",
    "        author = unicode(author, \"utf-8\", \"replace\")\n",
    "        page_name = u'Category:Images from Wiki Loves Earth {0} in Spain by {1}'.format(year, author)\n",
    "        page = pb.Page(commons_site, page_name)\n",
    "        text = page.text.replace('{{hiddencat}}', '')\n",
    "        if author in authors[other_years[0]] :\n",
    "            if author in authors[other_years[1]] :\n",
    "                see_also_string = u'{{{{hiddencat}}}}\\n{{{{see also|Category:Images from Wiki Loves Earth {0} in Spain by {1}}}}}\\n{{{{see also|Category:Images from Wiki Loves Earth {2} in Spain by {1}}}}}'.format(other_years[0], author, other_years[1]) \n",
    "                page.text = see_also_string + text\n",
    "            else :\n",
    "                see_also_string = u'{{{{hiddencat}}}}\\n{{{{see also|Category:Images from Wiki Loves Earth {0} in Spain by {1}}}}}'.format(other_years[0], author)\n",
    "                page.text = see_also_string + text\n",
    "        elif author in authors[other_years[1]] :\n",
    "            see_also_string = u'{{{{hiddencat}}}}\\n{{{{see also|Category:Images from Wiki Loves Earth {0} in Spain by {1}}}}}'.format(other_years[1], author) \n",
    "            page.text = see_also_string + text\n",
    "        else :\n",
    "            continue\n",
    "        page.save(\"WLE Spain: user category update\")"
   ]
  },
  {
   "cell_type": "code",
   "execution_count": null,
   "metadata": {
    "collapsed": true
   },
   "outputs": [],
   "source": []
  }
 ],
 "metadata": {
  "kernelspec": {
   "display_name": "Python 2",
   "language": "python",
   "name": "python2"
  },
  "language_info": {
   "codemirror_mode": {
    "name": "ipython",
    "version": 2
   },
   "file_extension": ".py",
   "mimetype": "text/x-python",
   "name": "python",
   "nbconvert_exporter": "python",
   "pygments_lexer": "ipython2",
   "version": "2.7.12"
  }
 },
 "nbformat": 4,
 "nbformat_minor": 2
}
